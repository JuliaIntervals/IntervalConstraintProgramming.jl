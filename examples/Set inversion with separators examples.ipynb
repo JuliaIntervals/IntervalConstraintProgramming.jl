{
 "cells": [
  {
   "cell_type": "code",
   "execution_count": 3,
   "metadata": {
    "collapsed": false
   },
   "outputs": [],
   "source": [
    "using ConstraintPropagation, ValidatedNumerics"
   ]
  },
  {
   "cell_type": "code",
   "execution_count": 4,
   "metadata": {
    "collapsed": false
   },
   "outputs": [
    {
     "data": {
      "text/plain": [
       "draw_boxes (generic function with 4 methods)"
      ]
     },
     "execution_count": 4,
     "metadata": {},
     "output_type": "execute_result"
    }
   ],
   "source": [
    "include(\"draw_boxes.jl\")"
   ]
  },
  {
   "cell_type": "code",
   "execution_count": 5,
   "metadata": {
    "collapsed": false
   },
   "outputs": [
    {
     "data": {
      "text/plain": [
       "Separator:\n",
       "  - variables: [:x,:y]"
      ]
     },
     "execution_count": 5,
     "metadata": {},
     "output_type": "execute_result"
    }
   ],
   "source": [
    "S1 = @separator x^2 + y^2 <= 1"
   ]
  },
  {
   "cell_type": "code",
   "execution_count": 9,
   "metadata": {
    "collapsed": false
   },
   "outputs": [
    {
     "data": {
      "text/plain": [
       "draw (generic function with 3 methods)"
      ]
     },
     "execution_count": 9,
     "metadata": {},
     "output_type": "execute_result"
    }
   ],
   "source": [
    "function draw(inner)\n",
    "    draw_boxes(inner, \"green\", 0.5)\n",
    "    axis(\"image\")\n",
    "end\n",
    "\n",
    "function draw(inner, boundary)\n",
    "    draw_boxes(inner, \"green\", 0.5)\n",
    "    draw_boxes(boundary, \"gray\", 0.5)\n",
    "    axis(\"image\")\n",
    "end"
   ]
  },
  {
   "cell_type": "code",
   "execution_count": 8,
   "metadata": {
    "collapsed": false
   },
   "outputs": [
    {
     "data": {
      "image/png": "[encoded data removed]",
      "text/plain": [
       "PyPlot.Figure(PyObject <matplotlib.figure.Figure object at 0x31cf3c050>)"
      ]
     },
     "metadata": {},
     "output_type": "display_data"
    },
    {
     "data": {
      "text/plain": [
       "(-0.9999084430742895,0.9999084430742898,-0.9999694819561993,0.9999694819561993)"
      ]
     },
     "execution_count": 8,
     "metadata": {},
     "output_type": "execute_result"
    }
   ],
   "source": [
    "X = IntervalBox(-100..100, -100..100)\n",
    "inner, boundary = set_inversion(S1, X, ldexp(1., -6))\n",
    "draw(inner)"
   ]
  },
  {
   "cell_type": "code",
   "execution_count": 6,
   "metadata": {
    "collapsed": false
   },
   "outputs": [
    {
     "data": {
      "text/plain": [
       "0-element Array{ValidatedNumerics.IntervalBox{2,Float64},1}"
      ]
     },
     "execution_count": 6,
     "metadata": {},
     "output_type": "execute_result"
    }
   ],
   "source": [
    "inner"
   ]
  },
  {
   "cell_type": "code",
   "execution_count": 11,
   "metadata": {
    "collapsed": false
   },
   "outputs": [
    {
     "data": {
      "text/plain": [
       "area (generic function with 2 methods)"
      ]
     },
     "execution_count": 11,
     "metadata": {},
     "output_type": "execute_result"
    }
   ],
   "source": [
    "area(X::IntervalBox) = prod(map(diam, X))\n",
    "\n",
    "function area(inner, boundary)\n",
    "    lower = sum(map(area, inner))\n",
    "    upper = lower + sum(map(area, boundary)) \n",
    "    return hull(lower, upper)\n",
    "end"
   ]
  },
  {
   "cell_type": "markdown",
   "metadata": {},
   "source": [
    "Calculate area of inner and boundary pavings:"
   ]
  },
  {
   "cell_type": "code",
   "execution_count": 12,
   "metadata": {
    "collapsed": false
   },
   "outputs": [
    {
     "name": "stdout",
     "output_type": "stream",
     "text": [
      "  0.011733 seconds (100.93 k allocations: 2.994 MB)\n",
      "(i,area(inner,boundary),length(inner),length(boundary)) = (2,[2.92837, 3.31564],32,36)\n",
      "  0.021562 seconds (199.37 k allocations: 5.916 MB)\n",
      "(i,area(inner,boundary),length(inner),length(boundary)) = (3,[3.03985, 3.2335],68,72)\n",
      "  0.055131 seconds (395.38 k allocations: 11.731 MB, 18.26% gc time)\n",
      "(i,area(inner,boundary),length(inner),length(boundary)) = (4,[3.09195, 3.18877],140,144)\n",
      "  0.093817 seconds (786.51 k allocations: 23.331 MB, 13.97% gc time)\n",
      "(i,area(inner,boundary),length(inner),length(boundary)) = (5,[3.11708, 3.16549],284,288)\n",
      "  0.202812 seconds (1.57 M allocations: 46.505 MB, 15.20% gc time)\n",
      "(i,area(inner,boundary),length(inner),length(boundary)) = (6,[3.12941, 3.15362],572,576)\n",
      "  0.377635 seconds (3.13 M allocations: 92.826 MB, 13.51% gc time)\n",
      "(i,area(inner,boundary),length(inner),length(boundary)) = (7,[3.13552, 3.14763],1148,1152)\n",
      "  0.753887 seconds (6.25 M allocations: 185.441 MB, 15.08% gc time)\n",
      "(i,area(inner,boundary),length(inner),length(boundary)) = (8,[3.13856, 3.14462],2300,2304)\n",
      "  1.622018 seconds (12.50 M allocations: 370.644 MB, 13.99% gc time)\n",
      "(i,area(inner,boundary),length(inner),length(boundary)) = (9,[3.14007, 3.14311],4604,4608)\n"
     ]
    },
    {
     "ename": "LoadError",
     "evalue": "LoadError: InterruptException:\nwhile loading In[12], in expression starting on line 3",
     "output_type": "error",
     "traceback": [
      "LoadError: InterruptException:\nwhile loading In[12], in expression starting on line 3",
      ""
     ]
    }
   ],
   "source": [
    "X = IntervalBox(-2..2, -2..2)\n",
    "\n",
    "for i in 2:10\n",
    "\n",
    "    @time inner, boundary = set_inversion(S1, X, ldexp(1., -i))\n",
    "    @show i, area(inner, boundary), length(inner), length(boundary)\n",
    "end"
   ]
  },
  {
   "cell_type": "code",
   "execution_count": 13,
   "metadata": {
    "collapsed": false
   },
   "outputs": [
    {
     "data": {
      "image/png": "[encoded data removed]",
      "text/plain": [
       "PyPlot.Figure(PyObject <matplotlib.figure.Figure object at 0x31e6a9310>)"
      ]
     },
     "metadata": {},
     "output_type": "display_data"
    },
    {
     "data": {
      "text/plain": [
       "(-0.999998569487502,0.9999985694875023,-0.9999995231627279,0.9999995231627279)"
      ]
     },
     "execution_count": 13,
     "metadata": {},
     "output_type": "execute_result"
    }
   ],
   "source": [
    "draw(inner)"
   ]
  },
  {
   "cell_type": "code",
   "execution_count": 19,
   "metadata": {
    "collapsed": false
   },
   "outputs": [
    {
     "data": {
      "text/plain": [
       "8628"
      ]
     },
     "execution_count": 19,
     "metadata": {},
     "output_type": "execute_result"
    }
   ],
   "source": [
    "length(inner)"
   ]
  },
  {
   "cell_type": "code",
   "execution_count": 17,
   "metadata": {
    "collapsed": false
   },
   "outputs": [
    {
     "name": "stdout",
     "output_type": "stream",
     "text": [
      "  0.660707 seconds (4.91 M allocations: 146.569 MB, 16.20% gc time)\n"
     ]
    },
    {
     "data": {
      "image/png": "[encoded data removed]",
      "text/plain": [
       "PyPlot.Figure(PyObject <matplotlib.figure.Figure object at 0x320314690>)"
      ]
     },
     "metadata": {},
     "output_type": "display_data"
    },
    {
     "data": {
      "text/plain": [
       "(-1.7320111636183058,1.7320111636183055,-1.731997948766467,1.731997948766467)"
      ]
     },
     "execution_count": 17,
     "metadata": {},
     "output_type": "execute_result"
    }
   ],
   "source": [
    "X = IntervalBox(-100..100, -100..100)\n",
    "S2 = @separator 1 <= x^2 + y^2 <= 3\n",
    "@time inner, boundary = set_inversion(S2, X, ldexp(1., -6))\n",
    "draw(inner)"
   ]
  },
  {
   "cell_type": "code",
   "execution_count": 18,
   "metadata": {
    "collapsed": false
   },
   "outputs": [
    {
     "data": {
      "text/plain": [
       "1344"
      ]
     },
     "execution_count": 18,
     "metadata": {},
     "output_type": "execute_result"
    }
   ],
   "source": [
    "length(inner)"
   ]
  },
  {
   "cell_type": "code",
   "execution_count": 22,
   "metadata": {
    "collapsed": false
   },
   "outputs": [
    {
     "data": {
      "image/png": "[encoded data removed]",
      "text/plain": [
       "PyPlot.Figure(PyObject <matplotlib.figure.Figure object at 0x320fe3910>)"
      ]
     },
     "metadata": {},
     "output_type": "display_data"
    },
    {
     "data": {
      "text/plain": [
       "(-3.0,3.0,-3.0,3.0)"
      ]
     },
     "execution_count": 22,
     "metadata": {},
     "output_type": "execute_result"
    }
   ],
   "source": [
    "S3 =  @separator 1 <= (x-0.5)^2 + (y-1)^2 <= 3\n",
    "S3c = !S3  # complement\n",
    "\n",
    "Y = IntervalBox(-3..3, -3..3)\n",
    "inner, boundary = set_inversion(S3c, Y, ldexp(1., -3))\n",
    "draw(inner)\n"
   ]
  },
  {
   "cell_type": "code",
   "execution_count": 28,
   "metadata": {
    "collapsed": false
   },
   "outputs": [
    {
     "ename": "LoadError",
     "evalue": "LoadError: InterruptException:\nwhile loading In[28], in expression starting on line 7",
     "output_type": "error",
     "traceback": [
      "LoadError: InterruptException:\nwhile loading In[28], in expression starting on line 7",
      ""
     ]
    }
   ],
   "source": [
    "setprecision(Interval, Float64)\n",
    "X = IntervalBox(-3..3, -3..4)\n",
    "S2 = @separator 1 <= x^2 + y^2 <= 3\n",
    "S4 = @separator 1 <= (x-0.5)^2 + (y-1)^2 <= 3\n",
    "S24 = S2 ∪ S4\n",
    "\n",
    "inner, boundary = set_inversion(S24, X, ldexp(1., -1))\n",
    "#draw(inner, boundary)\n",
    "draw(inner)\n",
    "axis(\"image\")\n"
   ]
  },
  {
   "cell_type": "code",
   "execution_count": 30,
   "metadata": {
    "collapsed": false
   },
   "outputs": [
    {
     "data": {
      "image/png": "[encoded data removed]",
      "text/plain": [
       "PyPlot.Figure(PyObject <matplotlib.figure.Figure object at 0x320942a10>)"
      ]
     },
     "metadata": {},
     "output_type": "display_data"
    },
    {
     "data": {
      "text/plain": [
       "(-1.1909686573085851,2.190968657308585,-0.677050983124842,2.677050983124842)"
      ]
     },
     "execution_count": 30,
     "metadata": {},
     "output_type": "execute_result"
    }
   ],
   "source": [
    "S4 = @separator 1 <= (x-0.5)^2 + (y-1)^2 <= 3\n",
    "inner, boundary = set_inversion(S4, X, ldexp(1., -1))\n",
    "draw(inner)\n",
    "axis(\"image\")"
   ]
  },
  {
   "cell_type": "code",
   "execution_count": null,
   "metadata": {
    "collapsed": false
   },
   "outputs": [],
   "source": [
    "setprecision(Interval, Float64)\n",
    "X = IntervalBox(-3..3, -3..4)\n",
    "S2 = @separator 1 <= x^2 + y^2 <= 3\n",
    "S4 = @separator 1 <= (x-0.5)^2 + (y-1)^2 <= 3\n",
    "S24 = S2 ∩ S4\n",
    "inner, boundary = set_inversion(S24, X, ldexp(1., -2))\n",
    "draw(inner)\n",
    "axis(\"image\")"
   ]
  },
  {
   "cell_type": "code",
   "execution_count": 25,
   "metadata": {
    "collapsed": false
   },
   "outputs": [
    {
     "ename": "LoadError",
     "evalue": "LoadError: MethodError: `decompose` has no method matching decompose(::ValidatedNumerics.Interval{BigFloat})\nwhile loading In[25], in expression starting on line 3",
     "output_type": "error",
     "traceback": [
      "LoadError: MethodError: `decompose` has no method matching decompose(::ValidatedNumerics.Interval{BigFloat})\nwhile loading In[25], in expression starting on line 3",
      "",
      " in hash at hashing2.jl:32",
      " in ht_keyindex2 at dict.jl:592",
      " in setindex! at dict.jl:649",
      " in union! at set.jl:57",
      " in setdiff at array.jl:982",
      " in set_inversion at /Users/dpsanders/.julia/v0.4/ConstraintPropagation/src/set_inversion.jl:46"
     ]
    }
   ],
   "source": [
    "S24 = S2 ∩ S4\n",
    "\n",
    "inner, boundary = set_inversion(S24, X, ldexp(1., -4))\n",
    "draw(inner)\n"
   ]
  },
  {
   "cell_type": "code",
   "execution_count": 26,
   "metadata": {
    "collapsed": false
   },
   "outputs": [
    {
     "ename": "LoadError",
     "evalue": "LoadError: MethodError: `decompose` has no method matching decompose(::ValidatedNumerics.Interval{BigFloat})\nwhile loading In[26], in expression starting on line 6",
     "output_type": "error",
     "traceback": [
      "LoadError: MethodError: `decompose` has no method matching decompose(::ValidatedNumerics.Interval{BigFloat})\nwhile loading In[26], in expression starting on line 6",
      ""
     ]
    }
   ],
   "source": [
    "S5a = @separator 1 >= x+y >= -1\n",
    "S5b = @separator x-y >= 1\n",
    "\n",
    "S5 = S5a ∩ S5b\n",
    "\n",
    "inner, boundary = set_inversion(S5, Y, ldexp(1., -2))\n",
    "draw(inner)"
   ]
  },
  {
   "cell_type": "markdown",
   "metadata": {
    "collapsed": true
   },
   "source": [
    "Example from Jaulin et al., \"Applied Interval Analysis\", pg. 61:"
   ]
  },
  {
   "cell_type": "code",
   "execution_count": 33,
   "metadata": {
    "collapsed": false
   },
   "outputs": [
    {
     "name": "stdout",
     "output_type": "stream",
     "text": [
      " 13.330383 seconds (95.02 M allocations: 2.691 GB, 14.05% gc time)\n"
     ]
    },
    {
     "data": {
      "image/png": "[encoded data removed]",
      "text/plain": [
       "PyPlot.Figure(PyObject <matplotlib.figure.Figure object at 0x31f820b10>)"
      ]
     },
     "metadata": {},
     "output_type": "display_data"
    },
    {
     "data": {
      "text/plain": [
       "(-1.043701171875,1.0437011718749998,-0.29541015625,0.29541015625000006)"
      ]
     },
     "execution_count": 33,
     "metadata": {},
     "output_type": "execute_result"
    }
   ],
   "source": [
    "S6 = @separator x1^2 * (x1^2 - 1) + 4*x2^2 ∈ [-0.1, 0.1]  # 4th power not yet working correctly in powerRev\n",
    "Y = IntervalBox(-10..10, -10..10)\n",
    "\n",
    "@time inner, boundary = set_inversion(S6, Y, ldexp(1., -9))\n"
   ]
  },
  {
   "cell_type": "code",
   "execution_count": 34,
   "metadata": {
    "collapsed": false
   },
   "outputs": [
    {
     "data": {
      "image/png": "[encoded data removed]",
      "text/plain": [
       "PyPlot.Figure(PyObject <matplotlib.figure.Figure object at 0x32244f150>)"
      ]
     },
     "metadata": {},
     "output_type": "display_data"
    },
    {
     "data": {
      "text/plain": [
       "(-1.044921875,1.0449218749999998,-0.2978515625,0.29785156250000006)"
      ]
     },
     "execution_count": 34,
     "metadata": {},
     "output_type": "execute_result"
    }
   ],
   "source": [
    "draw(inner, boundary)"
   ]
  },
  {
   "cell_type": "code",
   "execution_count": null,
   "metadata": {
    "collapsed": true
   },
   "outputs": [],
   "source": []
  }
 ],
 "metadata": {
  "kernelspec": {
   "display_name": "Julia 0.4.5",
   "language": "julia",
   "name": "julia-0.4"
  },
  "language_info": {
   "file_extension": ".jl",
   "mimetype": "application/julia",
   "name": "julia",
   "version": "0.4.5"
  }
 },
 "nbformat": 4,
 "nbformat_minor": 0
}
