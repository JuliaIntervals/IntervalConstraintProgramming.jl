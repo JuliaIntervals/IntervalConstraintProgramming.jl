{
 "cells": [
  {
   "cell_type": "code",
   "execution_count": 1,
   "metadata": {
    "collapsed": false
   },
   "outputs": [
    {
     "name": "stderr",
     "output_type": "stream",
     "text": [
      "INFO: Recompiling stale cache file /Users/dpsanders/.julia/lib/v0.4/ConstraintPropagation.ji for module ConstraintPropagation.\n"
     ]
    }
   ],
   "source": [
    "using ConstraintPropagation, ValidatedNumerics"
   ]
  },
  {
   "cell_type": "code",
   "execution_count": 2,
   "metadata": {
    "collapsed": false
   },
   "outputs": [
    {
     "name": "stderr",
     "output_type": "stream",
     "text": [
      "/Users/dpsanders/.julia/v0.4/Conda/deps/usr/lib/python2.7/site-packages/matplotlib/font_manager.py:273: UserWarning: Matplotlib is building the font cache using fc-list. This may take a moment.\n",
      "  warnings.warn('Matplotlib is building the font cache using fc-list. This may take a moment.')\n"
     ]
    },
    {
     "data": {
      "text/plain": [
       "draw_boxes (generic function with 4 methods)"
      ]
     },
     "execution_count": 2,
     "metadata": {},
     "output_type": "execute_result"
    }
   ],
   "source": [
    "include(\"draw_boxes.jl\")"
   ]
  },
  {
   "cell_type": "code",
   "execution_count": 34,
   "metadata": {
    "collapsed": false
   },
   "outputs": [
    {
     "data": {
      "text/plain": [
       "Separator:\n",
       "  - variables: [:x,:y]"
      ]
     },
     "execution_count": 34,
     "metadata": {},
     "output_type": "execute_result"
    }
   ],
   "source": [
    "S1 = @constraint x^2 + y^2 <= 1"
   ]
  },
  {
   "cell_type": "code",
   "execution_count": 3,
   "metadata": {
    "collapsed": false
   },
   "outputs": [
    {
     "data": {
      "text/plain": [
       "draw (generic function with 3 methods)"
      ]
     },
     "execution_count": 3,
     "metadata": {},
     "output_type": "execute_result"
    }
   ],
   "source": [
    "function draw(inner)\n",
    "    draw_boxes(inner, \"green\", 0.5)\n",
    "    axis(\"image\")\n",
    "end\n",
    "\n",
    "function draw(inner, boundary)\n",
    "    draw_boxes(inner, \"green\", 0.5)\n",
    "    draw_boxes(boundary, \"gray\", 0.5)\n",
    "    axis(\"image\")\n",
    "end"
   ]
  },
  {
   "cell_type": "code",
   "execution_count": 4,
   "metadata": {
    "collapsed": false
   },
   "outputs": [
    {
     "ename": "LoadError",
     "evalue": "LoadError: UndefVarError: S1 not defined\nwhile loading In[4], in expression starting on line 2",
     "output_type": "error",
     "traceback": [
      "LoadError: UndefVarError: S1 not defined\nwhile loading In[4], in expression starting on line 2",
      ""
     ]
    }
   ],
   "source": [
    "X = IntervalBox(-100..100, -100..100)\n",
    "inner, boundary = set_inversion(S1, X, ldexp(1., -6))\n",
    "draw(inner)"
   ]
  },
  {
   "cell_type": "code",
   "execution_count": 12,
   "metadata": {
    "collapsed": false
   },
   "outputs": [
    {
     "name": "stdout",
     "output_type": "stream",
     "text": [
      "  0.209378 seconds (1.57 M allocations: 46.505 MB, 13.95% gc time)\n"
     ]
    }
   ],
   "source": [
    "@time inner, boundary = set_inversion(S1, X, ldexp(1., -6));\n"
   ]
  },
  {
   "cell_type": "code",
   "execution_count": 23,
   "metadata": {
    "collapsed": false
   },
   "outputs": [
    {
     "data": {
      "text/plain": [
       "true"
      ]
     },
     "execution_count": 23,
     "metadata": {},
     "output_type": "execute_result"
    }
   ],
   "source": [
    "pygui(true)"
   ]
  },
  {
   "cell_type": "code",
   "execution_count": 26,
   "metadata": {
    "collapsed": false
   },
   "outputs": [],
   "source": [
    "ion()\n",
    "clf()\n",
    "for n in 1:length(inner)\n",
    "    draw_boxes(inner[n:n+1], \"green\", 0.2)\n",
    "    sleep(0.1)\n",
    "    axis(\"image\")\n",
    "    \n",
    "end"
   ]
  },
  {
   "cell_type": "code",
   "execution_count": 6,
   "metadata": {
    "collapsed": false
   },
   "outputs": [
    {
     "data": {
      "text/plain": [
       "0-element Array{ValidatedNumerics.IntervalBox{2,Float64},1}"
      ]
     },
     "execution_count": 6,
     "metadata": {},
     "output_type": "execute_result"
    }
   ],
   "source": [
    "inner"
   ]
  },
  {
   "cell_type": "code",
   "execution_count": 14,
   "metadata": {
    "collapsed": false
   },
   "outputs": [
    {
     "data": {
      "text/plain": [
       "area (generic function with 2 methods)"
      ]
     },
     "execution_count": 14,
     "metadata": {},
     "output_type": "execute_result"
    }
   ],
   "source": [
    "area(X::IntervalBox) = prod(map(diam, X))\n",
    "\n",
    "function area(inner, boundary)\n",
    "    lower = sum(map(area, inner))\n",
    "    upper = lower + sum(map(area, boundary)) \n",
    "    return hull(lower, upper)\n",
    "end"
   ]
  },
  {
   "cell_type": "markdown",
   "metadata": {},
   "source": [
    "Calculate area of inner and boundary pavings:"
   ]
  },
  {
   "cell_type": "code",
   "execution_count": 15,
   "metadata": {
    "collapsed": false
   },
   "outputs": [
    {
     "name": "stdout",
     "output_type": "stream",
     "text": [
      "  0.011396 seconds (100.93 k allocations: 2.994 MB)\n",
      "(i,area(inner,boundary),length(inner),length(boundary)) = (2,[2.92837, 3.31564],32,36)\n",
      "  0.031480 seconds (199.37 k allocations: 5.916 MB, 28.09% gc time)\n",
      "(i,area(inner,boundary),length(inner),length(boundary)) = (3,[3.03985, 3.2335],68,72)\n",
      "  0.045924 seconds (395.38 k allocations: 11.731 MB)\n",
      "(i,area(inner,boundary),length(inner),length(boundary)) = (4,[3.09195, 3.18877],140,144)\n",
      "  0.101517 seconds (786.51 k allocations: 23.331 MB, 13.77% gc time)\n",
      "(i,area(inner,boundary),length(inner),length(boundary)) = (5,[3.11708, 3.16549],284,288)\n",
      "  0.217646 seconds (1.57 M allocations: 46.505 MB, 14.10% gc time)\n",
      "(i,area(inner,boundary),length(inner),length(boundary)) = (6,[3.12941, 3.15362],572,576)\n",
      "  0.432683 seconds (3.13 M allocations: 92.826 MB, 16.19% gc time)\n",
      "(i,area(inner,boundary),length(inner),length(boundary)) = (7,[3.13552, 3.14763],1148,1152)\n",
      "  0.821639 seconds (6.25 M allocations: 185.441 MB, 13.69% gc time)\n",
      "(i,area(inner,boundary),length(inner),length(boundary)) = (8,[3.13856, 3.14462],2300,2304)\n",
      "  1.559038 seconds (12.50 M allocations: 370.644 MB, 14.08% gc time)\n",
      "(i,area(inner,boundary),length(inner),length(boundary)) = (9,[3.14007, 3.14311],4604,4608)\n",
      "  3.113749 seconds (24.99 M allocations: 741.022 MB, 14.18% gc time)\n",
      "(i,area(inner,boundary),length(inner),length(boundary)) = (10,[3.14083, 3.14235],9212,9216)\n"
     ]
    }
   ],
   "source": [
    "X = IntervalBox(-2..2, -2..2)\n",
    "\n",
    "for i in 2:10\n",
    "\n",
    "    @time inner, boundary = set_inversion(S1, X, ldexp(1., -i))\n",
    "    @show i, area(inner, boundary), length(inner), length(boundary)\n",
    "end"
   ]
  },
  {
   "cell_type": "code",
   "execution_count": 13,
   "metadata": {
    "collapsed": false
   },
   "outputs": [
    {
     "data": {
      "image/png": "[encoded data removed]",
      "text/plain": [
       "PyPlot.Figure(PyObject <matplotlib.figure.Figure object at 0x31e6a9310>)"
      ]
     },
     "metadata": {},
     "output_type": "display_data"
    },
    {
     "data": {
      "text/plain": [
       "(-0.999998569487502,0.9999985694875023,-0.9999995231627279,0.9999995231627279)"
      ]
     },
     "execution_count": 13,
     "metadata": {},
     "output_type": "execute_result"
    }
   ],
   "source": [
    "draw(inner)"
   ]
  },
  {
   "cell_type": "code",
   "execution_count": 19,
   "metadata": {
    "collapsed": false
   },
   "outputs": [
    {
     "data": {
      "text/plain": [
       "8628"
      ]
     },
     "execution_count": 19,
     "metadata": {},
     "output_type": "execute_result"
    }
   ],
   "source": [
    "length(inner)"
   ]
  },
  {
   "cell_type": "code",
   "execution_count": 6,
   "metadata": {
    "collapsed": false
   },
   "outputs": [
    {
     "name": "stdout",
     "output_type": "stream",
     "text": [
      "  1.848361 seconds (6.32 M allocations: 211.844 MB, 5.36% gc time)\n"
     ]
    },
    {
     "data": {
      "image/png": "[encoded data removed]",
      "text/plain": [
       "PyPlot.Figure(PyObject <matplotlib.figure.Figure object at 0x3295c2d10>)"
      ]
     },
     "metadata": {},
     "output_type": "display_data"
    },
    {
     "data": {
      "text/plain": [
       "(-1.7320111636183058,1.7320111636183055,-1.731997948766467,1.731997948766467)"
      ]
     },
     "execution_count": 6,
     "metadata": {},
     "output_type": "execute_result"
    }
   ],
   "source": [
    "X = IntervalBox(-100..100, -100..100)\n",
    "S2 = @constraint 1 <= x^2 + y^2 <= 3\n",
    "@time inner, boundary = set_inversion(S2, X, ldexp(1., -6))\n",
    "draw(inner)"
   ]
  },
  {
   "cell_type": "code",
   "execution_count": 35,
   "metadata": {
    "collapsed": false
   },
   "outputs": [
    {
     "name": "stdout",
     "output_type": "stream",
     "text": [
      "  0.105208 seconds (625.90 k allocations: 18.664 MB, 29.18% gc time)\n"
     ]
    }
   ],
   "source": [
    "@time inner, boundary = set_inversion(S2, X, ldexp(1., -3));"
   ]
  },
  {
   "cell_type": "markdown",
   "metadata": {},
   "source": [
    "## Animation "
   ]
  },
  {
   "cell_type": "code",
   "execution_count": 9,
   "metadata": {
    "collapsed": false
   },
   "outputs": [
    {
     "data": {
      "text/plain": [
       "true"
      ]
     },
     "execution_count": 9,
     "metadata": {},
     "output_type": "execute_result"
    }
   ],
   "source": [
    "pygui(true)"
   ]
  },
  {
   "cell_type": "code",
   "execution_count": 33,
   "metadata": {
    "collapsed": false
   },
   "outputs": [
    {
     "name": "stderr",
     "output_type": "stream",
     "text": [
      "2016-05-24 00:05:17.068 julia[37236:279254] setCanCycle: is deprecated.  Please use setCollectionBehavior instead\n",
      "2016-05-24 00:05:17.075 julia[37236:279254] setCanCycle: is deprecated.  Please use setCollectionBehavior instead\n"
     ]
    }
   ],
   "source": [
    "ion()\n",
    "for n in 1:length(inner)\n",
    "    draw_boxes([inner[n]], \"green\", 0.2, 1)\n",
    "    draw_boxes([boundary[n]], \"grey\", 0.2, 0.1)\n",
    "    \n",
    "    sleep(0.00001)\n",
    "    if n==1\n",
    "        axis(\"image\")\n",
    "        xlim(-2, 2)\n",
    "        ylim(-2, 2)\n",
    "    end\n",
    "    show()\n",
    "end"
   ]
  },
  {
   "cell_type": "code",
   "execution_count": 27,
   "metadata": {
    "collapsed": false
   },
   "outputs": [
    {
     "data": {
      "text/plain": [
       "336"
      ]
     },
     "execution_count": 27,
     "metadata": {},
     "output_type": "execute_result"
    }
   ],
   "source": [
    "length(inner)"
   ]
  },
  {
   "cell_type": "code",
   "execution_count": 18,
   "metadata": {
    "collapsed": false
   },
   "outputs": [
    {
     "data": {
      "image/png": "[encoded data removed]",
      "text/plain": [
       "PyPlot.Figure(PyObject <matplotlib.figure.Figure object at 0x324417110>)"
      ]
     },
     "metadata": {},
     "output_type": "display_data"
    },
    {
     "data": {
      "text/plain": [
       "(-3.0,3.0,-3.0,3.0)"
      ]
     },
     "execution_count": 18,
     "metadata": {},
     "output_type": "execute_result"
    }
   ],
   "source": [
    "S3 =  @constraint 1 <= (x-0.5)^2 + (y-1)^2 <= 3\n",
    "S3c = !S3  # complement\n",
    "\n",
    "Y = IntervalBox(-3..3, -3..3)\n",
    "inner, boundary = set_inversion(S3c, Y, ldexp(1., -5))\n",
    "draw(inner)\n"
   ]
  },
  {
   "cell_type": "code",
   "execution_count": null,
   "metadata": {
    "collapsed": false
   },
   "outputs": [],
   "source": [
    "setprecision(Interval, Float64)\n",
    "X = IntervalBox(-3..3, -3..4)\n",
    "S2 = @constraint 1 <= x^2 + y^2 <= 3\n",
    "S4 = @constraint 1 <= (x-0.5)^2 + (y-1)^2 <= 3\n",
    "S24 = S2 ∪ S4\n",
    "\n",
    "inner, boundary = set_inversion(S24, X, ldexp(1., -1))\n",
    "#draw(inner, boundary)\n",
    "draw(inner)\n",
    "axis(\"image\")\n"
   ]
  },
  {
   "cell_type": "code",
   "execution_count": 10,
   "metadata": {
    "collapsed": false
   },
   "outputs": [
    {
     "data": {
      "text/plain": [
       "(165-elementArray{ValidatedNumerics.IntervalBox{2,Float64},1}:\n",
       " [1.59149, 1.70423] × [2.125, 2.24493]\n",
       " [1.36602, 1.5915] × [2.125, 2.34486]\n",
       " [1.36602, 1.47876] × [2.34485, 2.429]\n",
       " [1.36602, 1.81696] × [1.75, 2.125]\n",
       " [1.81695, 1.8916] × [1.9375, 2.03125]\n",
       " [1.81695, 1.9564] × [1.75, 1.9375]\n",
       " [1.95639, 2.01265] × [1.75, 1.84375]\n",
       " [1.79903, 2.06125] × [1, 1.75]\n",
       " [2.06124, 2.10292] × [1.5625, 1.65625]\n",
       " [2.06124, 2.13817] × [1.375, 1.5625]\n",
       " [2.13816, 2.16742] × [1.375, 1.46875]\n",
       " [2.06124, 2.19097] × [1, 1.375]\n",
       " [2.19096, 2.20907] × [1.1875, 1.28125]\n",
       " [2.19096, 2.22188] × [1, 1.1875]\n",
       " [2.22187, 2.22952] × [1, 1.09375]\n",
       " [1.36602, 1.5] × [1.49999, 1.75]\n",
       " [1.5, 1.79904] × [1, 1.75]\n",
       " [1.46824, 1.5] × [1.25, 1.5]\n",
       " [1.42702, 1.46825] × [1.375, 1.5]\n",
       " [1.44991, 1.46825] × [1.3125, 1.375]\n",
       " [1.49215, 1.5] × [1.125, 1.25]\n",
       " [1.48226, 1.49216] × [1.1875, 1.25]\n",
       " [1.49804, 1.5] × [1.0625, 1.125]\n",
       " [0.5, 1.36603] × [2.11602, 2.5]\n",
       " [1.14951, 1.25778] × [2.49999, 2.5575]\n",
       " [0.933012, 1.14952] × [2.49999, 2.60566]\n",
       " [0.933012, 1.04127] × [2.60565, 2.64531]\n",
       " [0.5, 0.933013] × [2.49999, 2.67706]\n",
       " [0.716506, 0.82476] × [2.67705, 2.70134]\n",
       " [0.5, 0.716507] × [2.67705, 2.71847]\n",
       " [0.5, 0.608254] × [2.71846, 2.72867]\n",
       " [0.5, 1.36603] × [2, 2.11603]\n",
       " [0.933012, 1.36603] × [1.90138, 2]\n",
       " [1.14951, 1.36603] × [1.76034, 1.90139]\n",
       " [1.27645, 1.36603] × [1.63017, 1.76035]\n",
       " [1.21875, 1.27646] × [1.69525, 1.76035]\n",
       " [1.32503, 1.36603] × [1.56508, 1.63018]\n",
       " [1.04126, 1.14952] × [1.84085, 1.90139]\n",
       " [0.716506, 0.933013] × [1.97628, 2]\n",
       " [0.824759, 0.933013] × [1.94579, 1.97629]\n",
       " [0.608253, 0.716507] × [1.99412, 2]\n",
       " [1.79903, 2.06125] × [0.25, 1]\n",
       " [2.06124, 2.19097] × [0.625, 1]\n",
       " [2.19096, 2.22188] × [0.8125, 1]\n",
       " [2.22187, 2.22952] × [0.90625, 1]\n",
       " [2.19096, 2.20907] × [0.71875, 0.8125]\n",
       " [2.06124, 2.13817] × [0.4375, 0.625]\n",
       " [2.13816, 2.16742] × [0.53125, 0.625]\n",
       " [2.06124, 2.10292] × [0.34375, 0.4375]\n",
       " [1.36602, 1.5] × [0.25, 0.500001]\n",
       " [1.5, 1.79904] × [0.25, 1]\n",
       " [1.49804, 1.5] × [0.875, 0.9375]\n",
       " [1.49215, 1.5] × [0.75, 0.875]\n",
       " [1.46824, 1.5] × [0.5, 0.750001]\n",
       " [1.42702, 1.46825] × [0.5, 0.625001]\n",
       " [1.39921, 1.42703] × [0.5, 0.562501]\n",
       " [1.36602, 1.81696] × [-0.125, 0.25]\n",
       " [1.81695, 1.9564] × [0.0625, 0.25]\n",
       " [1.95639, 2.01265] × [0.15625, 0.25]\n",
       " [1.81695, 1.8916] × [-0.03125, 0.0625]\n",
       " [1.59149, 1.70423] × [-0.244928, -0.125]\n",
       " [1.36602, 1.5915] × [-0.34486, -0.125]\n",
       " [1.36602, 1.47876] × [-0.428997, -0.344859]\n",
       " [0.5, 1.36603] × [-0.116026, -0]\n",
       " [0.933012, 1.36603] × [-0, 0.0986122]\n",
       " [1.14951, 1.36603] × [0.0986121, 0.239655]\n",
       " [1.32503, 1.36603] × [0.369827, 0.434914]\n",
       " [1.27645, 1.36603] × [0.239654, 0.369828]\n",
       " [1.21875, 1.27646] × [0.239654, 0.304742]\n",
       " [1.04126, 1.14952] × [0.0986121, 0.159149]\n",
       " [0.716506, 0.933013] × [-0, 0.0237188]\n",
       " [0.824759, 0.933013] × [0.0237187, 0.0542034]\n",
       " [0.608253, 0.716507] × [-0, 0.00587665]\n",
       " [0.5, 1.36603] × [-0.5, -0.116025]\n",
       " [1.14951, 1.25778] × [-0.557492, -0.499999]\n",
       " [0.933012, 1.14952] × [-0.605655, -0.499999]\n",
       " [0.933012, 1.04127] × [-0.645306, -0.605654]\n",
       " [0.5, 0.933013] × [-0.677051, -0.499999]\n",
       " [0.716506, 0.82476] × [-0.701333, -0.67705]\n",
       " [0.5, 0.716507] × [-0.718466, -0.67705]\n",
       " [0.5, 0.608254] × [-0.728665, -0.718465]\n",
       " [-0.366026, 0.500001] × [2.11602, 2.5]\n",
       " [0.0669872, 0.500001] × [2.49999, 2.67706]\n",
       " [0.283493, 0.500001] × [2.67705, 2.71847]\n",
       " [0.391746, 0.500001] × [2.71846, 2.72867]\n",
       " [0.17524, 0.283494] × [2.67705, 2.70134]\n",
       " [-0.14952, 0.0669873] × [2.49999, 2.60566]\n",
       " [-0.0412659, 0.0669873] × [2.60565, 2.64531]\n",
       " [-0.257773, -0.149519] × [2.49999, 2.5575]\n",
       " [-0.366026, 0.500001] × [2, 2.11603]\n",
       " [0.283493, 0.391747] × [1.99412, 2]\n",
       " [0.0669872, 0.283494] × [1.97628, 2]\n",
       " [0.0669872, 0.175241] × [1.94579, 1.97629]\n",
       " [-0.366026, 0.0669873] × [1.90138, 2]\n",
       " [-0.14952, -0.0412658] × [1.84085, 1.90139]\n",
       " [-0.366026, -0.149519] × [1.76034, 1.90139]\n",
       " [-0.366026, -0.276455] × [1.63017, 1.76035]\n",
       " [-0.276456, -0.218759] × [1.69525, 1.76035]\n",
       " [-0.366026, -0.325031] × [1.56508, 1.63018]\n",
       " [-0.591492, -0.366025] × [2.125, 2.34486]\n",
       " [-0.478759, -0.366025] × [2.34485, 2.429]\n",
       " [-0.704224, -0.591491] × [2.125, 2.24493]\n",
       " [-0.816957, -0.366025] × [1.75, 2.12501]\n",
       " [-0.891591, -0.816956] × [1.9375, 2.03126]\n",
       " [-0.956398, -0.816956] × [1.75, 1.93751]\n",
       " [-1.01265, -0.956397] × [1.75, 1.84376]\n",
       " [-0.799039, -0.5] × [1, 1.75001]\n",
       " [-0.5, -0.366025] × [1.5, 1.75001]\n",
       " [-0.5, -0.468245] × [1.25, 1.50001]\n",
       " [-0.468246, -0.427024] × [1.375, 1.50001]\n",
       " [-0.427025, -0.399218] × [1.4375, 1.50001]\n",
       " [-0.468246, -0.449917] × [1.3125, 1.375]\n",
       " [-0.5, -0.492156] × [1.125, 1.25]\n",
       " [-0.492157, -0.482264] × [1.1875, 1.25]\n",
       " [-0.5, -0.498044] × [1.0625, 1.125]\n",
       " [-1.06125, -0.799038] × [1, 1.75001]\n",
       " [-1.10292, -1.06124] × [1.5625, 1.65625]\n",
       " [-1.13817, -1.06124] × [1.375, 1.5625]\n",
       " [-1.16742, -1.13816] × [1.375, 1.46875]\n",
       " [-1.19097, -1.06124] × [1, 1.375]\n",
       " [-1.20907, -1.19096] × [1.1875, 1.28125]\n",
       " [-1.22188, -1.19096] × [1, 1.1875]\n",
       " [-1.22952, -1.22187] × [1, 1.09375]\n",
       " [-0.366026, 0.500001] × [-0.116026, -0]\n",
       " [0.283493, 0.391747] × [-0, 0.00587665]\n",
       " [0.0669872, 0.283494] × [-0, 0.0237188]\n",
       " [0.0669872, 0.175241] × [0.0237187, 0.0542034]\n",
       " [-0.366026, 0.0669873] × [-0, 0.0986122]\n",
       " [-0.14952, -0.0412658] × [0.0986121, 0.159149]\n",
       " [-0.366026, -0.149519] × [0.0986121, 0.239655]\n",
       " [-0.366026, -0.325031] × [0.369827, 0.434914]\n",
       " [-0.366026, -0.276455] × [0.239654, 0.369828]\n",
       " [-0.276456, -0.218759] × [0.239654, 0.304742]\n",
       " [-0.366026, 0.500001] × [-0.5, -0.116025]\n",
       " [0.0669872, 0.500001] × [-0.677051, -0.499999]\n",
       " [0.283493, 0.500001] × [-0.718466, -0.67705]\n",
       " [0.391746, 0.500001] × [-0.728665, -0.718465]\n",
       " [0.17524, 0.283494] × [-0.701333, -0.67705]\n",
       " [-0.14952, 0.0669873] × [-0.605655, -0.499999]\n",
       " [-0.0412659, 0.0669873] × [-0.645306, -0.605654]\n",
       " [-0.257773, -0.149519] × [-0.557492, -0.499999]\n",
       " [-0.799039, -0.5] × [0.249999, 1]\n",
       " [-0.5, -0.366025] × [0.249999, 0.5]\n",
       " [-0.5, -0.498044] × [0.875, 0.9375]\n",
       " [-0.5, -0.492156] × [0.75, 0.875]\n",
       " [-0.492157, -0.482264] × [0.75, 0.8125]\n",
       " [-0.5, -0.468245] × [0.499999, 0.75]\n",
       " [-0.468246, -0.449917] × [0.625, 0.6875]\n",
       " [-0.468246, -0.427024] × [0.499999, 0.625]\n",
       " [-0.427025, -0.399218] × [0.499999, 0.5625]\n",
       " [-1.06125, -0.799038] × [0.249999, 1]\n",
       " [-1.19097, -1.06124] × [0.625, 1]\n",
       " [-1.22188, -1.19096] × [0.8125, 1]\n",
       " [-1.22952, -1.22187] × [0.90625, 1]\n",
       " [-1.20907, -1.19096] × [0.71875, 0.8125]\n",
       " [-1.13817, -1.06124] × [0.437499, 0.625]\n",
       " [-1.16742, -1.13816] × [0.53125, 0.625]\n",
       " [-1.10292, -1.06124] × [0.343749, 0.4375]\n",
       " [-0.816957, -0.366025] × [-0.125001, 0.25]\n",
       " [-0.956398, -0.816956] × [0.0624999, 0.25]\n",
       " [-1.01265, -0.956397] × [0.156249, 0.25]\n",
       " [-0.891591, -0.816956] × [-0.0312501, 0.0625]\n",
       " [-0.591492, -0.366025] × [-0.34486, -0.125]\n",
       " [-0.478759, -0.366025] × [-0.428997, -0.344859]\n",
       " [-0.704224, -0.591491] × [-0.244928, -0.125]\n",
       ",165-elementArray{ValidatedNumerics.IntervalBox{2,Float64},1}:\n",
       " [1.70422, 1.81696] × [2.125, 2.24493]\n",
       " [1.59149, 1.70423] × [2.24492, 2.34486]\n",
       " [1.47875, 1.5915] × [2.34485, 2.429]\n",
       " [1.36602, 1.47876] × [2.42899, 2.5]\n",
       " [1.81695, 1.8916] × [2.03125, 2.125]\n",
       " [1.89159, 1.9564] × [1.9375, 2.03125]\n",
       " [1.95639, 2.01265] × [1.84375, 1.9375]\n",
       " [2.01264, 2.06125] × [1.75, 1.84375]\n",
       " [2.06124, 2.10292] × [1.65625, 1.75]\n",
       " [2.10291, 2.13817] × [1.5625, 1.65625]\n",
       " [2.13816, 2.16742] × [1.46875, 1.5625]\n",
       " [2.16741, 2.19097] × [1.375, 1.46875]\n",
       " [2.19096, 2.20907] × [1.28125, 1.375]\n",
       " [2.20906, 2.22188] × [1.1875, 1.28125]\n",
       " [2.22187, 2.22952] × [1.09375, 1.1875]\n",
       " [2.22951, 2.23206] × [1, 1.09375]\n",
       " [1.36602, 1.42703] × [1.375, 1.5]\n",
       " [1.42702, 1.44992] × [1.3125, 1.375]\n",
       " [1.44991, 1.46825] × [1.25, 1.3125]\n",
       " [1.46824, 1.48227] × [1.1875, 1.25]\n",
       " [1.48226, 1.49216] × [1.125, 1.1875]\n",
       " [1.49215, 1.49805] × [1.0625, 1.125]\n",
       " [1.49804, 1.5] × [1, 1.0625]\n",
       " [1.25777, 1.36603] × [2.49999, 2.5575]\n",
       " [1.14951, 1.25778] × [2.55749, 2.60566]\n",
       " [1.04126, 1.14952] × [2.60565, 2.64531]\n",
       " [0.933012, 1.04127] × [2.6453, 2.67706]\n",
       " [0.824759, 0.933013] × [2.67705, 2.70134]\n",
       " [0.716506, 0.82476] × [2.70133, 2.71847]\n",
       " [0.608253, 0.716507] × [2.71846, 2.72867]\n",
       " [0.5, 0.608254] × [2.72866, 2.73206]\n",
       " [1.14951, 1.21876] × [1.69525, 1.76035]\n",
       " [1.21875, 1.27646] × [1.63017, 1.69526]\n",
       " [1.27645, 1.32504] × [1.56508, 1.63018]\n",
       " [1.32503, 1.36603] × [1.49999, 1.56509]\n",
       " [1.04126, 1.14952] × [1.76034, 1.84086]\n",
       " [0.933012, 1.04127] × [1.84085, 1.90139]\n",
       " [0.824759, 0.933013] × [1.90138, 1.9458]\n",
       " [0.716506, 0.82476] × [1.94579, 1.97629]\n",
       " [0.608253, 0.716507] × [1.97628, 1.99413]\n",
       " [0.5, 0.608254] × [1.99412, 2]\n",
       " [2.22951, 2.23206] × [0.90625, 1]\n",
       " [2.22187, 2.22952] × [0.8125, 0.90625]\n",
       " [2.20906, 2.22188] × [0.71875, 0.8125]\n",
       " [2.19096, 2.20907] × [0.625, 0.71875]\n",
       " [2.16741, 2.19097] × [0.53125, 0.625]\n",
       " [2.13816, 2.16742] × [0.4375, 0.53125]\n",
       " [2.10291, 2.13817] × [0.34375, 0.4375]\n",
       " [2.06124, 2.10292] × [0.25, 0.34375]\n",
       " [1.49804, 1.5] × [0.9375, 1]\n",
       " [1.49215, 1.49805] × [0.875, 0.9375]\n",
       " [1.46824, 1.49216] × [0.75, 0.875]\n",
       " [1.42702, 1.46825] × [0.625, 0.750001]\n",
       " [1.39921, 1.42703] × [0.5625, 0.625001]\n",
       " [1.36602, 1.39922] × [0.5, 0.562501]\n",
       " [2.01264, 2.06125] × [0.15625, 0.25]\n",
       " [1.95639, 2.01265] × [0.0625, 0.15625]\n",
       " [1.89159, 1.9564] × [-0.03125, 0.0625]\n",
       " [1.81695, 1.8916] × [-0.125, -0.03125]\n",
       " [1.70422, 1.81696] × [-0.244928, -0.125]\n",
       " [1.59149, 1.70423] × [-0.34486, -0.244927]\n",
       " [1.47875, 1.5915] × [-0.428997, -0.344859]\n",
       " [1.36602, 1.47876] × [-0.5, -0.428996]\n",
       " [1.32503, 1.36603] × [0.434913, 0.500001]\n",
       " [1.27645, 1.32504] × [0.369827, 0.434914]\n",
       " [1.21875, 1.27646] × [0.304741, 0.369828]\n",
       " [1.14951, 1.21876] × [0.239654, 0.304742]\n",
       " [1.04126, 1.14952] × [0.159148, 0.239655]\n",
       " [0.933012, 1.04127] × [0.0986121, 0.159149]\n",
       " [0.824759, 0.933013] × [0.0542033, 0.0986122]\n",
       " [0.716506, 0.82476] × [0.0237187, 0.0542034]\n",
       " [0.608253, 0.716507] × [0.00587664, 0.0237188]\n",
       " [0.5, 0.608254] × [-0, 0.00587665]\n",
       " [1.25777, 1.36603] × [-0.557492, -0.499999]\n",
       " [1.14951, 1.25778] × [-0.605655, -0.557491]\n",
       " [1.04126, 1.14952] × [-0.645306, -0.605654]\n",
       " [0.933012, 1.04127] × [-0.677051, -0.645305]\n",
       " [0.824759, 0.933013] × [-0.701333, -0.67705]\n",
       " [0.716506, 0.82476] × [-0.718466, -0.701332]\n",
       " [0.608253, 0.716507] × [-0.728665, -0.718465]\n",
       " [0.5, 0.608254] × [-0.732051, -0.728664]\n",
       " [0.391746, 0.500001] × [2.72866, 2.73206]\n",
       " [0.283493, 0.391747] × [2.71846, 2.72867]\n",
       " [0.17524, 0.283494] × [2.70133, 2.71847]\n",
       " [0.0669872, 0.175241] × [2.67705, 2.70134]\n",
       " [-0.0412659, 0.0669873] × [2.6453, 2.67706]\n",
       " [-0.14952, -0.0412658] × [2.60565, 2.64531]\n",
       " [-0.257773, -0.149519] × [2.55749, 2.60566]\n",
       " [-0.366026, -0.257772] × [2.49999, 2.5575]\n",
       " [0.391746, 0.500001] × [1.99412, 2]\n",
       " [0.283493, 0.391747] × [1.97628, 1.99413]\n",
       " [0.17524, 0.283494] × [1.94579, 1.97629]\n",
       " [0.0669872, 0.175241] × [1.90138, 1.9458]\n",
       " [-0.0412659, 0.0669873] × [1.84085, 1.90139]\n",
       " [-0.14952, -0.0412658] × [1.76034, 1.84086]\n",
       " [-0.21876, -0.149519] × [1.69525, 1.76035]\n",
       " [-0.276456, -0.218759] × [1.63017, 1.69526]\n",
       " [-0.325032, -0.276455] × [1.56508, 1.63018]\n",
       " [-0.366026, -0.325031] × [1.49999, 1.56509]\n",
       " [-0.478759, -0.366025] × [2.42899, 2.50001]\n",
       " [-0.591492, -0.478758] × [2.34485, 2.429]\n",
       " [-0.704224, -0.591491] × [2.24492, 2.34486]\n",
       " [-0.816957, -0.704223] × [2.125, 2.24493]\n",
       " [-0.891591, -0.816956] × [2.03125, 2.12501]\n",
       " [-0.956398, -0.89159] × [1.9375, 2.03126]\n",
       " [-1.01265, -0.956397] × [1.84375, 1.93751]\n",
       " [-1.06125, -1.01264] × [1.75, 1.84376]\n",
       " [-0.399219, -0.366025] × [1.4375, 1.50001]\n",
       " [-0.427025, -0.399218] × [1.375, 1.4375]\n",
       " [-0.449918, -0.427024] × [1.3125, 1.375]\n",
       " [-0.468246, -0.449917] × [1.25, 1.3125]\n",
       " [-0.482265, -0.468245] × [1.1875, 1.25]\n",
       " [-0.492157, -0.482264] × [1.125, 1.1875]\n",
       " [-0.498045, -0.492156] × [1.0625, 1.125]\n",
       " [-0.5, -0.498044] × [1, 1.0625]\n",
       " [-1.10292, -1.06124] × [1.65625, 1.75001]\n",
       " [-1.13817, -1.10291] × [1.5625, 1.65625]\n",
       " [-1.16742, -1.13816] × [1.46875, 1.5625]\n",
       " [-1.19097, -1.16741] × [1.375, 1.46875]\n",
       " [-1.20907, -1.19096] × [1.28125, 1.375]\n",
       " [-1.22188, -1.20906] × [1.1875, 1.28125]\n",
       " [-1.22952, -1.22187] × [1.09375, 1.1875]\n",
       " [-1.23206, -1.22951] × [1, 1.09375]\n",
       " [0.391746, 0.500001] × [-0, 0.00587665]\n",
       " [0.283493, 0.391747] × [0.00587664, 0.0237188]\n",
       " [0.17524, 0.283494] × [0.0237187, 0.0542034]\n",
       " [0.0669872, 0.175241] × [0.0542033, 0.0986122]\n",
       " [-0.0412659, 0.0669873] × [0.0986121, 0.159149]\n",
       " [-0.14952, -0.0412658] × [0.159148, 0.239655]\n",
       " [-0.366026, -0.325031] × [0.434913, 0.500001]\n",
       " [-0.325032, -0.276455] × [0.369827, 0.434914]\n",
       " [-0.276456, -0.218759] × [0.304741, 0.369828]\n",
       " [-0.21876, -0.149519] × [0.239654, 0.304742]\n",
       " [0.391746, 0.500001] × [-0.732051, -0.728664]\n",
       " [0.283493, 0.391747] × [-0.728665, -0.718465]\n",
       " [0.17524, 0.283494] × [-0.718466, -0.701332]\n",
       " [0.0669872, 0.175241] × [-0.701333, -0.67705]\n",
       " [-0.0412659, 0.0669873] × [-0.677051, -0.645305]\n",
       " [-0.14952, -0.0412658] × [-0.645306, -0.605654]\n",
       " [-0.257773, -0.149519] × [-0.605655, -0.557491]\n",
       " [-0.366026, -0.257772] × [-0.557492, -0.499999]\n",
       " [-0.5, -0.498044] × [0.9375, 1]\n",
       " [-0.498045, -0.492156] × [0.875, 0.9375]\n",
       " [-0.492157, -0.482264] × [0.8125, 0.875]\n",
       " [-0.482265, -0.468245] × [0.75, 0.8125]\n",
       " [-0.468246, -0.449917] × [0.6875, 0.75]\n",
       " [-0.449918, -0.427024] × [0.625, 0.6875]\n",
       " [-0.427025, -0.399218] × [0.5625, 0.625]\n",
       " [-0.399219, -0.366025] × [0.499999, 0.5625]\n",
       " [-1.23206, -1.22951] × [0.90625, 1]\n",
       " [-1.22952, -1.22187] × [0.8125, 0.90625]\n",
       " [-1.22188, -1.20906] × [0.71875, 0.8125]\n",
       " [-1.20907, -1.19096] × [0.625, 0.71875]\n",
       " [-1.19097, -1.16741] × [0.53125, 0.625]\n",
       " [-1.16742, -1.13816] × [0.437499, 0.53125]\n",
       " [-1.13817, -1.10291] × [0.343749, 0.4375]\n",
       " [-1.10292, -1.06124] × [0.249999, 0.34375]\n",
       " [-1.06125, -1.01264] × [0.156249, 0.25]\n",
       " [-1.01265, -0.956397] × [0.0624999, 0.15625]\n",
       " [-0.956398, -0.89159] × [-0.0312501, 0.0625]\n",
       " [-0.891591, -0.816956] × [-0.125001, -0.03125]\n",
       " [-0.478759, -0.366025] × [-0.500001, -0.428996]\n",
       " [-0.591492, -0.478758] × [-0.428997, -0.344859]\n",
       " [-0.704224, -0.591491] × [-0.34486, -0.244927]\n",
       " [-0.816957, -0.704223] × [-0.244928, -0.125]\n",
       ")"
      ]
     },
     "execution_count": 10,
     "metadata": {},
     "output_type": "execute_result"
    }
   ],
   "source": [
    "X = IntervalBox(-100..100, -100..100)\n",
    "S4 = @constraint 1 <= (x-0.5)^2 + (y-1)^2 <= 3\n",
    "inner, boundary = set_inversion(S4, X, ldexp(1., -3));\n",
    "#draw(inner)\n",
    "#axis(\"image\")"
   ]
  },
  {
   "cell_type": "code",
   "execution_count": 14,
   "metadata": {
    "collapsed": false
   },
   "outputs": [
    {
     "name": "stdout",
     "output_type": "stream",
     "text": [
      "  0.110340 seconds (754.47 k allocations: 22.162 MB, 14.32% gc time)\n"
     ]
    }
   ],
   "source": [
    "@time inner, boundary = set_inversion(S4, X, ldexp(1., -3));\n"
   ]
  },
  {
   "cell_type": "code",
   "execution_count": null,
   "metadata": {
    "collapsed": false
   },
   "outputs": [],
   "source": [
    "setprecision(Interval, Float64)\n",
    "X = IntervalBox(-3..3, -3..4)\n",
    "S2 = @constraint 1 <= x^2 + y^2 <= 3\n",
    "S4 = @constraint 1 <= (x-0.5)^2 + (y-1)^2 <= 3\n",
    "S24 = S2 ∩ S4\n",
    "inner, boundary = set_inversion(S24, X, ldexp(1., -2))\n",
    "draw(inner)\n",
    "axis(\"image\")"
   ]
  },
  {
   "cell_type": "code",
   "execution_count": 25,
   "metadata": {
    "collapsed": false
   },
   "outputs": [
    {
     "ename": "LoadError",
     "evalue": "LoadError: MethodError: `decompose` has no method matching decompose(::ValidatedNumerics.Interval{BigFloat})\nwhile loading In[25], in expression starting on line 3",
     "output_type": "error",
     "traceback": [
      "LoadError: MethodError: `decompose` has no method matching decompose(::ValidatedNumerics.Interval{BigFloat})\nwhile loading In[25], in expression starting on line 3",
      "",
      " in hash at hashing2.jl:32",
      " in ht_keyindex2 at dict.jl:592",
      " in setindex! at dict.jl:649",
      " in union! at set.jl:57",
      " in setdiff at array.jl:982",
      " in set_inversion at /Users/dpsanders/.julia/v0.4/ConstraintPropagation/src/set_inversion.jl:46"
     ]
    }
   ],
   "source": [
    "S24 = S2 ∩ S4\n",
    "\n",
    "inner, boundary = set_inversion(S24, X, ldexp(1., -4))\n",
    "draw(inner)\n"
   ]
  },
  {
   "cell_type": "code",
   "execution_count": 16,
   "metadata": {
    "collapsed": false
   },
   "outputs": [
    {
     "ename": "LoadError",
     "evalue": "LoadError: InterruptException:\nwhile loading In[16], in expression starting on line 6",
     "output_type": "error",
     "traceback": [
      "LoadError: InterruptException:\nwhile loading In[16], in expression starting on line 6",
      "",
      " in append_any at /Applications/Julia-0.4.5.app/Contents/Resources/julia/lib/julia/sys.dylib",
      " in anonymous at /Users/dpsanders/.julia/v0.4/ConstraintPropagation/src/separator.jl:19",
      " in anonymous at /Users/dpsanders/.julia/v0.4/ConstraintPropagation/src/separator.jl:62",
      " in set_inversion at /Users/dpsanders/.julia/v0.4/ConstraintPropagation/src/set_inversion.jl:39"
     ]
    }
   ],
   "source": [
    "S5a = @constraint 1 >= x+y >= -1\n",
    "S5b = @constraint x-y >= 1\n",
    "\n",
    "S5 = S5a ∩ S5b\n",
    "\n",
    "inner, boundary = set_inversion(S5, X, ldexp(1., -2))\n",
    "draw(inner)"
   ]
  },
  {
   "cell_type": "markdown",
   "metadata": {
    "collapsed": true
   },
   "source": [
    "Example from Jaulin et al., \"Applied Interval Analysis\", pg. 61:"
   ]
  },
  {
   "cell_type": "code",
   "execution_count": 37,
   "metadata": {
    "collapsed": false
   },
   "outputs": [
    {
     "ename": "LoadError",
     "evalue": "LoadError: InterruptException:\nwhile loading In[37], in expression starting on line 155",
     "output_type": "error",
     "traceback": [
      "LoadError: InterruptException:\nwhile loading In[37], in expression starting on line 155",
      "",
      " in convert at /Users/dpsanders/.julia/v0.4/ValidatedNumerics/src/intervals/conversion.jl:44",
      " in convert at /Users/dpsanders/.julia/v0.4/ValidatedNumerics/src/intervals/conversion.jl:49",
      " in anonymous at /Users/dpsanders/.julia/v0.4/ConstraintPropagation/src/separator.jl:29",
      " in set_inversion at /Users/dpsanders/.julia/v0.4/ConstraintPropagation/src/set_inversion.jl:39"
     ]
    }
   ],
   "source": [
    "S6 = @constraint x1^2 * (x1^2 - 1) + 4*x2^2 ∈ [-0.1, 0.1]  # 4th power not yet working correctly in powerRev\n",
    "Y = IntervalBox(-10..10, -10..10)\n",
    "\n",
    "@time inner, boundary = set_inversion(S6, Y, ldexp(1., -3))\n"
   ]
  },
  {
   "cell_type": "code",
   "execution_count": 34,
   "metadata": {
    "collapsed": false
   },
   "outputs": [
    {
     "data": {
      "image/png": "[encoded data removed]",
      "text/plain": [
       "PyPlot.Figure(PyObject <matplotlib.figure.Figure object at 0x32244f150>)"
      ]
     },
     "metadata": {},
     "output_type": "display_data"
    },
    {
     "data": {
      "text/plain": [
       "(-1.044921875,1.0449218749999998,-0.2978515625,0.29785156250000006)"
      ]
     },
     "execution_count": 34,
     "metadata": {},
     "output_type": "execute_result"
    }
   ],
   "source": [
    "draw(inner, boundary)"
   ]
  },
  {
   "cell_type": "code",
   "execution_count": null,
   "metadata": {
    "collapsed": true
   },
   "outputs": [],
   "source": []
  }
 ],
 "metadata": {
  "kernelspec": {
   "display_name": "Julia 0.4.5",
   "language": "julia",
   "name": "julia-0.4"
  },
  "language_info": {
   "file_extension": ".jl",
   "mimetype": "application/julia",
   "name": "julia",
   "version": "0.4.5"
  }
 },
 "nbformat": 4,
 "nbformat_minor": 0
}
