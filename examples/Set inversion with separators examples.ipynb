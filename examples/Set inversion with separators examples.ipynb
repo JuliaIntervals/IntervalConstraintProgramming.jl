{
 "cells": [
  {
   "cell_type": "code",
   "execution_count": 1,
   "metadata": {
    "collapsed": false
   },
   "outputs": [],
   "source": [
    "using ConstraintProgramming, ValidatedNumerics"
   ]
  },
  {
   "cell_type": "code",
   "execution_count": 2,
   "metadata": {
    "collapsed": false
   },
   "outputs": [
    {
     "name": "stderr",
     "output_type": "stream",
     "text": [
      "/Users/dpsanders/.julia/v0.4/Conda/deps/usr/lib/python2.7/site-packages/matplotlib/font_manager.py:273: UserWarning: Matplotlib is building the font cache using fc-list. This may take a moment.\n",
      "  warnings.warn('Matplotlib is building the font cache using fc-list. This may take a moment.')\n"
     ]
    },
    {
     "data": {
      "text/plain": [
       "draw_boxes (generic function with 4 methods)"
      ]
     },
     "execution_count": 2,
     "metadata": {},
     "output_type": "execute_result"
    }
   ],
   "source": [
    "include(\"draw_boxes.jl\")"
   ]
  },
  {
   "cell_type": "code",
   "execution_count": 34,
   "metadata": {
    "collapsed": false
   },
   "outputs": [
    {
     "data": {
      "text/plain": [
       "Separator:\n",
       "  - variables: [:x,:y]"
      ]
     },
     "execution_count": 34,
     "metadata": {},
     "output_type": "execute_result"
    }
   ],
   "source": [
    "S1 = @constraint x^2 + y^2 <= 1"
   ]
  },
  {
   "cell_type": "code",
   "execution_count": 3,
   "metadata": {
    "collapsed": false
   },
   "outputs": [
    {
     "data": {
      "text/plain": [
       "draw (generic function with 3 methods)"
      ]
     },
     "execution_count": 3,
     "metadata": {},
     "output_type": "execute_result"
    }
   ],
   "source": [
    "function draw(inner)\n",
    "    draw_boxes(inner, \"green\", 0.5)\n",
    "    axis(\"image\")\n",
    "end\n",
    "\n",
    "function draw(inner, boundary)\n",
    "    draw_boxes(inner, \"green\", 0.5)\n",
    "    draw_boxes(boundary, \"gray\", 0.5)\n",
    "    axis(\"image\")\n",
    "end"
   ]
  },
  {
   "cell_type": "code",
   "execution_count": 4,
   "metadata": {
    "collapsed": false
   },
   "outputs": [
    {
     "ename": "LoadError",
     "evalue": "LoadError: UndefVarError: S1 not defined\nwhile loading In[4], in expression starting on line 2",
     "output_type": "error",
     "traceback": [
      "LoadError: UndefVarError: S1 not defined\nwhile loading In[4], in expression starting on line 2",
      ""
     ]
    }
   ],
   "source": [
    "X = IntervalBox(-100..100, -100..100)\n",
    "inner, boundary = set_inversion(S1, X, ldexp(1., -6))\n",
    "draw(inner)"
   ]
  },
  {
   "cell_type": "code",
   "execution_count": 12,
   "metadata": {
    "collapsed": false
   },
   "outputs": [
    {
     "name": "stdout",
     "output_type": "stream",
     "text": [
      "  0.209378 seconds (1.57 M allocations: 46.505 MB, 13.95% gc time)\n"
     ]
    }
   ],
   "source": [
    "@time inner, boundary = set_inversion(S1, X, ldexp(1., -6));\n"
   ]
  },
  {
   "cell_type": "code",
   "execution_count": 23,
   "metadata": {
    "collapsed": false
   },
   "outputs": [
    {
     "data": {
      "text/plain": [
       "true"
      ]
     },
     "execution_count": 23,
     "metadata": {},
     "output_type": "execute_result"
    }
   ],
   "source": [
    "pygui(true)"
   ]
  },
  {
   "cell_type": "code",
   "execution_count": 26,
   "metadata": {
    "collapsed": false
   },
   "outputs": [],
   "source": [
    "ion()\n",
    "clf()\n",
    "for n in 1:length(inner)\n",
    "    draw_boxes(inner[n:n+1], \"green\", 0.2)\n",
    "    sleep(0.1)\n",
    "    axis(\"image\")\n",
    "    \n",
    "end"
   ]
  },
  {
   "cell_type": "code",
   "execution_count": 6,
   "metadata": {
    "collapsed": false
   },
   "outputs": [
    {
     "data": {
      "text/plain": [
       "0-element Array{ValidatedNumerics.IntervalBox{2,Float64},1}"
      ]
     },
     "execution_count": 6,
     "metadata": {},
     "output_type": "execute_result"
    }
   ],
   "source": [
    "inner"
   ]
  },
  {
   "cell_type": "code",
   "execution_count": 14,
   "metadata": {
    "collapsed": false
   },
   "outputs": [
    {
     "data": {
      "text/plain": [
       "area (generic function with 2 methods)"
      ]
     },
     "execution_count": 14,
     "metadata": {},
     "output_type": "execute_result"
    }
   ],
   "source": [
    "area(X::IntervalBox) = prod(map(diam, X))\n",
    "\n",
    "function area(inner, boundary)\n",
    "    lower = sum(map(area, inner))\n",
    "    upper = lower + sum(map(area, boundary)) \n",
    "    return hull(lower, upper)\n",
    "end"
   ]
  },
  {
   "cell_type": "markdown",
   "metadata": {},
   "source": [
    "Calculate area of inner and boundary pavings:"
   ]
  },
  {
   "cell_type": "code",
   "execution_count": 15,
   "metadata": {
    "collapsed": false
   },
   "outputs": [
    {
     "name": "stdout",
     "output_type": "stream",
     "text": [
      "  0.011396 seconds (100.93 k allocations: 2.994 MB)\n",
      "(i,area(inner,boundary),length(inner),length(boundary)) = (2,[2.92837, 3.31564],32,36)\n",
      "  0.031480 seconds (199.37 k allocations: 5.916 MB, 28.09% gc time)\n",
      "(i,area(inner,boundary),length(inner),length(boundary)) = (3,[3.03985, 3.2335],68,72)\n",
      "  0.045924 seconds (395.38 k allocations: 11.731 MB)\n",
      "(i,area(inner,boundary),length(inner),length(boundary)) = (4,[3.09195, 3.18877],140,144)\n",
      "  0.101517 seconds (786.51 k allocations: 23.331 MB, 13.77% gc time)\n",
      "(i,area(inner,boundary),length(inner),length(boundary)) = (5,[3.11708, 3.16549],284,288)\n",
      "  0.217646 seconds (1.57 M allocations: 46.505 MB, 14.10% gc time)\n",
      "(i,area(inner,boundary),length(inner),length(boundary)) = (6,[3.12941, 3.15362],572,576)\n",
      "  0.432683 seconds (3.13 M allocations: 92.826 MB, 16.19% gc time)\n",
      "(i,area(inner,boundary),length(inner),length(boundary)) = (7,[3.13552, 3.14763],1148,1152)\n",
      "  0.821639 seconds (6.25 M allocations: 185.441 MB, 13.69% gc time)\n",
      "(i,area(inner,boundary),length(inner),length(boundary)) = (8,[3.13856, 3.14462],2300,2304)\n",
      "  1.559038 seconds (12.50 M allocations: 370.644 MB, 14.08% gc time)\n",
      "(i,area(inner,boundary),length(inner),length(boundary)) = (9,[3.14007, 3.14311],4604,4608)\n",
      "  3.113749 seconds (24.99 M allocations: 741.022 MB, 14.18% gc time)\n",
      "(i,area(inner,boundary),length(inner),length(boundary)) = (10,[3.14083, 3.14235],9212,9216)\n"
     ]
    }
   ],
   "source": [
    "X = IntervalBox(-2..2, -2..2)\n",
    "\n",
    "for i in 2:10\n",
    "\n",
    "    @time inner, boundary = set_inversion(S1, X, ldexp(1., -i))\n",
    "    @show i, area(inner, boundary), length(inner), length(boundary)\n",
    "end"
   ]
  },
  {
   "cell_type": "code",
   "execution_count": 13,
   "metadata": {
    "collapsed": false
   },
   "outputs": [
    {
     "data": {
      "image/png": "[encoded data removed]",
      "text/plain": [
       "PyPlot.Figure(PyObject <matplotlib.figure.Figure object at 0x31e6a9310>)"
      ]
     },
     "metadata": {},
     "output_type": "display_data"
    },
    {
     "data": {
      "text/plain": [
       "(-0.999998569487502,0.9999985694875023,-0.9999995231627279,0.9999995231627279)"
      ]
     },
     "execution_count": 13,
     "metadata": {},
     "output_type": "execute_result"
    }
   ],
   "source": [
    "draw(inner)"
   ]
  },
  {
   "cell_type": "code",
   "execution_count": 19,
   "metadata": {
    "collapsed": false
   },
   "outputs": [
    {
     "data": {
      "text/plain": [
       "8628"
      ]
     },
     "execution_count": 19,
     "metadata": {},
     "output_type": "execute_result"
    }
   ],
   "source": [
    "length(inner)"
   ]
  },
  {
   "cell_type": "code",
   "execution_count": 6,
   "metadata": {
    "collapsed": false
   },
   "outputs": [
    {
     "name": "stdout",
     "output_type": "stream",
     "text": [
      "  1.848361 seconds (6.32 M allocations: 211.844 MB, 5.36% gc time)\n"
     ]
    },
    {
     "data": {
      "image/png": "[encoded data removed]",
      "text/plain": [
       "PyPlot.Figure(PyObject <matplotlib.figure.Figure object at 0x3295c2d10>)"
      ]
     },
     "metadata": {},
     "output_type": "display_data"
    },
    {
     "data": {
      "text/plain": [
       "(-1.7320111636183058,1.7320111636183055,-1.731997948766467,1.731997948766467)"
      ]
     },
     "execution_count": 6,
     "metadata": {},
     "output_type": "execute_result"
    }
   ],
   "source": [
    "X = IntervalBox(-100..100, -100..100)\n",
    "S2 = @constraint 1 <= x^2 + y^2 <= 3\n",
    "@time inner, boundary = set_inversion(S2, X, ldexp(1., -6))\n",
    "draw(inner)"
   ]
  },
  {
   "cell_type": "code",
   "execution_count": 35,
   "metadata": {
    "collapsed": false
   },
   "outputs": [
    {
     "name": "stdout",
     "output_type": "stream",
     "text": [
      "  0.105208 seconds (625.90 k allocations: 18.664 MB, 29.18% gc time)\n"
     ]
    }
   ],
   "source": [
    "@time inner, boundary = set_inversion(S2, X, ldexp(1., -3));"
   ]
  },
  {
   "cell_type": "markdown",
   "metadata": {},
   "source": [
    "## Animation "
   ]
  },
  {
   "cell_type": "code",
   "execution_count": 9,
   "metadata": {
    "collapsed": false
   },
   "outputs": [
    {
     "data": {
      "text/plain": [
       "true"
      ]
     },
     "execution_count": 9,
     "metadata": {},
     "output_type": "execute_result"
    }
   ],
   "source": [
    "pygui(true)"
   ]
  },
  {
   "cell_type": "code",
   "execution_count": 33,
   "metadata": {
    "collapsed": false
   },
   "outputs": [
    {
     "name": "stderr",
     "output_type": "stream",
     "text": [
      "2016-05-24 00:05:17.068 julia[37236:279254] setCanCycle: is deprecated.  Please use setCollectionBehavior instead\n",
      "2016-05-24 00:05:17.075 julia[37236:279254] setCanCycle: is deprecated.  Please use setCollectionBehavior instead\n"
     ]
    }
   ],
   "source": [
    "ion()\n",
    "for n in 1:length(inner)\n",
    "    draw_boxes([inner[n]], \"green\", 0.2, 1)\n",
    "    draw_boxes([boundary[n]], \"grey\", 0.2, 0.1)\n",
    "    \n",
    "    sleep(0.00001)\n",
    "    if n==1\n",
    "        axis(\"image\")\n",
    "        xlim(-2, 2)\n",
    "        ylim(-2, 2)\n",
    "    end\n",
    "    show()\n",
    "end"
   ]
  },
  {
   "cell_type": "code",
   "execution_count": 27,
   "metadata": {
    "collapsed": false
   },
   "outputs": [
    {
     "data": {
      "text/plain": [
       "336"
      ]
     },
     "execution_count": 27,
     "metadata": {},
     "output_type": "execute_result"
    }
   ],
   "source": [
    "length(inner)"
   ]
  },
  {
   "cell_type": "code",
   "execution_count": 4,
   "metadata": {
    "collapsed": false
   },
   "outputs": [
    {
     "data": {
      "image/png": "[encoded data removed]",
      "text/plain": [
       "PyPlot.Figure(PyObject <matplotlib.figure.Figure object at 0x322163110>)"
      ]
     },
     "metadata": {},
     "output_type": "display_data"
    },
    {
     "data": {
      "text/plain": [
       "(-3.0,3.0,-3.0,3.0)"
      ]
     },
     "execution_count": 4,
     "metadata": {},
     "output_type": "execute_result"
    }
   ],
   "source": [
    "S3 =  @constraint 1 <= (x-0.5)^2 + (y-1)^2 <= 3\n",
    "S3c = !S3  # complement\n",
    "\n",
    "Y = IntervalBox(-3..3, -3..3)\n",
    "inner, boundary = set_inversion(S3c, Y, ldexp(1., -5))\n",
    "draw(inner)\n"
   ]
  },
  {
   "cell_type": "code",
   "execution_count": 4,
   "metadata": {
    "collapsed": false
   },
   "outputs": [
    {
     "data": {
      "text/plain": [
       "Separator:\n",
       "  - variables: [:x,:y]"
      ]
     },
     "execution_count": 4,
     "metadata": {},
     "output_type": "execute_result"
    }
   ],
   "source": [
    "setprecision(Interval, Float64)\n",
    "X = IntervalBox(-3..3, -3..4)\n",
    "S2 = @constraint 1 <= x^2 + y^2 <= 3\n",
    "S4 = @constraint 1 <= (x-0.5)^2 + (y-1)^2 <= 3\n",
    "S24 = S2 ∪ S4"
   ]
  },
  {
   "cell_type": "code",
   "execution_count": 5,
   "metadata": {
    "collapsed": false
   },
   "outputs": [
    {
     "data": {
      "text/plain": [
       "(([-1.73206, 2.23206],[-1.73206, 2.73206]),([-3, 3],[-3, 4]))"
      ]
     },
     "execution_count": 5,
     "metadata": {},
     "output_type": "execute_result"
    }
   ],
   "source": [
    "S24(X)"
   ]
  },
  {
   "cell_type": "code",
   "execution_count": 8,
   "metadata": {
    "collapsed": false
   },
   "outputs": [
    {
     "name": "stdout",
     "output_type": "stream",
     "text": [
      "  1.137638 seconds (8.54 M allocations: 263.776 MB, 12.41% gc time)\n"
     ]
    },
    {
     "data": {
      "image/png": "[encoded data removed]",
      "text/plain": [
       "PyPlot.Figure(PyObject <matplotlib.figure.Figure object at 0x327936110>)"
      ]
     },
     "metadata": {},
     "output_type": "display_data"
    },
    {
     "data": {
      "text/plain": [
       "(-1.7320110272625673,2.2320110272625673,-1.7319781879936316,2.7319781879936316)"
      ]
     },
     "execution_count": 8,
     "metadata": {},
     "output_type": "execute_result"
    }
   ],
   "source": [
    "@time inner, boundary = set_inversion(S24, X, ldexp(1., -5));\n",
    "#draw(inner, boundary)\n",
    "draw(inner)\n",
    "axis(\"image\")"
   ]
  },
  {
   "cell_type": "code",
   "execution_count": 9,
   "metadata": {
    "collapsed": false
   },
   "outputs": [],
   "source": [
    "X = IntervalBox(-100..100, -100..100)\n",
    "S4 = @constraint 1 <= (x-0.5)^2 + (y-1)^2 <= 3\n",
    "inner, boundary = set_inversion(S4, X, ldexp(1., -3));\n",
    "#draw(inner)\n",
    "#axis(\"image\")\n",
    ";"
   ]
  },
  {
   "cell_type": "code",
   "execution_count": 14,
   "metadata": {
    "collapsed": false
   },
   "outputs": [
    {
     "name": "stdout",
     "output_type": "stream",
     "text": [
      "  0.110340 seconds (754.47 k allocations: 22.162 MB, 14.32% gc time)\n"
     ]
    }
   ],
   "source": [
    "@time inner, boundary = set_inversion(S4, X, ldexp(1., -3));\n"
   ]
  },
  {
   "cell_type": "code",
   "execution_count": 10,
   "metadata": {
    "collapsed": false
   },
   "outputs": [
    {
     "data": {
      "text/plain": [
       "Separator:\n",
       "  - variables: [:x,:y]"
      ]
     },
     "execution_count": 10,
     "metadata": {},
     "output_type": "execute_result"
    }
   ],
   "source": [
    "setprecision(Interval, Float64)\n",
    "X = IntervalBox(-3..3, -3..4)\n",
    "S2 = @constraint 1 <= x^2 + y^2 <= 3\n",
    "S4 = @constraint 1 <= (x-0.5)^2 + (y-1)^2 <= 3\n",
    "S24 = S2 ∩ S4"
   ]
  },
  {
   "cell_type": "code",
   "execution_count": 11,
   "metadata": {
    "collapsed": false
   },
   "outputs": [
    {
     "ename": "LoadError",
     "evalue": "LoadError: MethodError: `getindex` has no method matching getindex(::ValidatedNumerics.IntervalBox{2,Float64}, ::Array{Int64,1})\nClosest candidates are:\n  getindex{T<:FixedSizeArrays.FixedArray{T,1,Tuple{CARDINALITY}}}(::T<:FixedSizeArrays.FixedArray{T,1,Tuple{CARDINALITY}}, !Matched::Union{Integer,Range{T}})\n  getindex(::FixedSizeArrays.FixedArray{T,NDim,SIZE}, !Matched::Tuple)\nwhile loading In[11], in expression starting on line 1",
     "output_type": "error",
     "traceback": [
      "LoadError: MethodError: `getindex` has no method matching getindex(::ValidatedNumerics.IntervalBox{2,Float64}, ::Array{Int64,1})\nClosest candidates are:\n  getindex{T<:FixedSizeArrays.FixedArray{T,1,Tuple{CARDINALITY}}}(::T<:FixedSizeArrays.FixedArray{T,1,Tuple{CARDINALITY}}, !Matched::Union{Integer,Range{T}})\n  getindex(::FixedSizeArrays.FixedArray{T,NDim,SIZE}, !Matched::Tuple)\nwhile loading In[11], in expression starting on line 1",
      "",
      " in anonymous at /Users/dpsanders/.julia/v0.4/ConstraintProgramming/src/separator.jl:94",
      " in call at /Users/dpsanders/.julia/v0.4/ConstraintProgramming/src/separator.jl:57"
     ]
    }
   ],
   "source": [
    "S24(X)"
   ]
  },
  {
   "cell_type": "code",
   "execution_count": 10,
   "metadata": {
    "collapsed": false
   },
   "outputs": [
    {
     "ename": "LoadError",
     "evalue": "LoadError: MethodError: `getindex` has no method matching getindex(::ValidatedNumerics.IntervalBox{2,Float64}, ::Array{Int64,1})\nClosest candidates are:\n  getindex{T<:FixedSizeArrays.FixedArray{T,1,Tuple{CARDINALITY}}}(::T<:FixedSizeArrays.FixedArray{T,1,Tuple{CARDINALITY}}, !Matched::Union{Integer,Range{T}})\n  getindex(::FixedSizeArrays.FixedArray{T,NDim,SIZE}, !Matched::Tuple)\nwhile loading In[10], in expression starting on line 6",
     "output_type": "error",
     "traceback": [
      "LoadError: MethodError: `getindex` has no method matching getindex(::ValidatedNumerics.IntervalBox{2,Float64}, ::Array{Int64,1})\nClosest candidates are:\n  getindex{T<:FixedSizeArrays.FixedArray{T,1,Tuple{CARDINALITY}}}(::T<:FixedSizeArrays.FixedArray{T,1,Tuple{CARDINALITY}}, !Matched::Union{Integer,Range{T}})\n  getindex(::FixedSizeArrays.FixedArray{T,NDim,SIZE}, !Matched::Tuple)\nwhile loading In[10], in expression starting on line 6",
      "",
      " in anonymous at /Users/dpsanders/.julia/v0.4/ConstraintProgramming/src/separator.jl:94",
      " in set_inversion at /Users/dpsanders/.julia/v0.4/ConstraintProgramming/src/set_inversion.jl:45"
     ]
    }
   ],
   "source": [
    "inner, boundary = set_inversion(S24, X, ldexp(1., -2))\n",
    "draw(inner)\n",
    "axis(\"image\")"
   ]
  },
  {
   "cell_type": "code",
   "execution_count": 11,
   "metadata": {
    "collapsed": false
   },
   "outputs": [
    {
     "ename": "LoadError",
     "evalue": "LoadError: MethodError: `getindex` has no method matching getindex(::ValidatedNumerics.IntervalBox{2,Float64}, ::Array{Int64,1})\nClosest candidates are:\n  getindex{T<:FixedSizeArrays.FixedArray{T,1,Tuple{CARDINALITY}}}(::T<:FixedSizeArrays.FixedArray{T,1,Tuple{CARDINALITY}}, !Matched::Union{Integer,Range{T}})\n  getindex(::FixedSizeArrays.FixedArray{T,NDim,SIZE}, !Matched::Tuple)\nwhile loading In[11], in expression starting on line 3",
     "output_type": "error",
     "traceback": [
      "LoadError: MethodError: `getindex` has no method matching getindex(::ValidatedNumerics.IntervalBox{2,Float64}, ::Array{Int64,1})\nClosest candidates are:\n  getindex{T<:FixedSizeArrays.FixedArray{T,1,Tuple{CARDINALITY}}}(::T<:FixedSizeArrays.FixedArray{T,1,Tuple{CARDINALITY}}, !Matched::Union{Integer,Range{T}})\n  getindex(::FixedSizeArrays.FixedArray{T,NDim,SIZE}, !Matched::Tuple)\nwhile loading In[11], in expression starting on line 3",
      "",
      " in anonymous at /Users/dpsanders/.julia/v0.4/ConstraintProgramming/src/separator.jl:94",
      " in set_inversion at /Users/dpsanders/.julia/v0.4/ConstraintProgramming/src/set_inversion.jl:45"
     ]
    }
   ],
   "source": [
    "S24 = S2 ∩ S4\n",
    "\n",
    "inner, boundary = set_inversion(S24, X, ldexp(1., -4))\n",
    "draw(inner)\n"
   ]
  },
  {
   "cell_type": "code",
   "execution_count": 12,
   "metadata": {
    "collapsed": false
   },
   "outputs": [
    {
     "ename": "LoadError",
     "evalue": "LoadError: MethodError: `getindex` has no method matching getindex(::ValidatedNumerics.IntervalBox{2,Float64}, ::Array{Int64,1})\nClosest candidates are:\n  getindex{T<:FixedSizeArrays.FixedArray{T,1,Tuple{CARDINALITY}}}(::T<:FixedSizeArrays.FixedArray{T,1,Tuple{CARDINALITY}}, !Matched::Union{Integer,Range{T}})\n  getindex(::FixedSizeArrays.FixedArray{T,NDim,SIZE}, !Matched::Tuple)\nwhile loading In[12], in expression starting on line 6",
     "output_type": "error",
     "traceback": [
      "LoadError: MethodError: `getindex` has no method matching getindex(::ValidatedNumerics.IntervalBox{2,Float64}, ::Array{Int64,1})\nClosest candidates are:\n  getindex{T<:FixedSizeArrays.FixedArray{T,1,Tuple{CARDINALITY}}}(::T<:FixedSizeArrays.FixedArray{T,1,Tuple{CARDINALITY}}, !Matched::Union{Integer,Range{T}})\n  getindex(::FixedSizeArrays.FixedArray{T,NDim,SIZE}, !Matched::Tuple)\nwhile loading In[12], in expression starting on line 6",
      "",
      " in anonymous at /Users/dpsanders/.julia/v0.4/ConstraintProgramming/src/separator.jl:94",
      " in set_inversion at /Users/dpsanders/.julia/v0.4/ConstraintProgramming/src/set_inversion.jl:45"
     ]
    }
   ],
   "source": [
    "S5a = @constraint 1 >= x+y >= -1\n",
    "S5b = @constraint x-y >= 1\n",
    "\n",
    "S5 = S5a ∩ S5b\n",
    "\n",
    "inner, boundary = set_inversion(S5, X, ldexp(1., -2))\n",
    "draw(inner)"
   ]
  },
  {
   "cell_type": "markdown",
   "metadata": {
    "collapsed": true
   },
   "source": [
    "Example from Jaulin et al., \"Applied Interval Analysis\", pg. 61:"
   ]
  },
  {
   "cell_type": "code",
   "execution_count": 16,
   "metadata": {
    "collapsed": false
   },
   "outputs": [
    {
     "name": "stdout",
     "output_type": "stream",
     "text": [
      "  0.354182 seconds (2.62 M allocations: 79.810 MB, 12.43% gc time)\n"
     ]
    }
   ],
   "source": [
    "S6 = @constraint x1^2 * (x1^2 - 1) + 4*x2^2 ∈ [-0.1, 0.1]  # 4th power not yet working correctly in powerRev\n",
    "Y = IntervalBox(-10..10, -10..10)\n",
    "\n",
    "@time inner, boundary = set_inversion(S6, Y, ldexp(1., -5));\n"
   ]
  },
  {
   "cell_type": "code",
   "execution_count": 17,
   "metadata": {
    "collapsed": false
   },
   "outputs": [
    {
     "data": {
      "image/png": "[encoded data removed]",
      "text/plain": [
       "PyPlot.Figure(PyObject <matplotlib.figure.Figure object at 0x319cf3a10>)"
      ]
     },
     "metadata": {},
     "output_type": "display_data"
    },
    {
     "data": {
      "text/plain": [
       "(-1.0449698339937934,1.0449698339937932,-0.3015944517013159,0.30159445170131594)"
      ]
     },
     "execution_count": 17,
     "metadata": {},
     "output_type": "execute_result"
    }
   ],
   "source": [
    "draw(inner, boundary)"
   ]
  },
  {
   "cell_type": "code",
   "execution_count": null,
   "metadata": {
    "collapsed": true
   },
   "outputs": [],
   "source": []
  }
 ],
 "metadata": {
  "kernelspec": {
   "display_name": "Julia 0.4.5",
   "language": "julia",
   "name": "julia-0.4"
  },
  "language_info": {
   "file_extension": ".jl",
   "mimetype": "application/julia",
   "name": "julia",
   "version": "0.4.5"
  }
 },
 "nbformat": 4,
 "nbformat_minor": 0
}
