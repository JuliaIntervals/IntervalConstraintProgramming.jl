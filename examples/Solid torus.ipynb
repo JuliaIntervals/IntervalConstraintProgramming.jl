{
 "cells": [
  {
   "cell_type": "code",
   "execution_count": 1,
   "metadata": {
    "collapsed": false
   },
   "outputs": [],
   "source": [
    "using IntervalConstraintProgramming, ValidatedNumerics"
   ]
  },
  {
   "cell_type": "code",
   "execution_count": 2,
   "metadata": {
    "collapsed": false
   },
   "outputs": [
    {
     "name": "stdout",
     "output_type": "stream",
     "text": [
      "code = quote \n",
      "    z1 = x ^ 2\n",
      "    z2 = y ^ 2\n",
      "    z3 = z1 + z2\n",
      "    z4 = sqrt(z3)\n",
      "    z5 = 3 - z4\n",
      "    z6 = z5 ^ 2\n",
      "    z7 = z ^ 2\n",
      "    z8 = z6 + z7\n",
      "    z8 = z8 ∩ _A_\n",
      "    (z8,z6,z7) = plusRev(z8,z6,z7)\n",
      "    (z7,z,_) = powerRev(z7,z,2)\n",
      "    (z6,z5,_) = powerRev(z6,z5,2)\n",
      "    (z5,_,z4) = minusRev(z5,3,z4)\n",
      "    (z4,z3) = sqrtRev(z4,z3)\n",
      "    (z3,z1,z2) = plusRev(z3,z1,z2)\n",
      "    (z2,y,_) = powerRev(z2,y,2)\n",
      "    (z1,x,_) = powerRev(z1,x,2)\n",
      "    return (x,y,z)\n",
      "end\n"
     ]
    },
    {
     "data": {
      "text/plain": [
       "Separator with variables x, y, z"
      ]
     },
     "execution_count": 2,
     "metadata": {},
     "output_type": "execute_result"
    }
   ],
   "source": [
    "solid_torus = @constraint (3 - sqrt(x^2 + y^2))^2 + z^2 <= 1"
   ]
  },
  {
   "cell_type": "code",
   "execution_count": 8,
   "metadata": {
    "collapsed": false
   },
   "outputs": [
    {
     "name": "stdout",
     "output_type": "stream",
     "text": [
      " 11.525667 seconds (95.68 M allocations: 2.872 GB, 15.36% gc time)\n"
     ]
    }
   ],
   "source": [
    "Y = IntervalBox(-5..5, -5..5, -5..5)\n",
    "@time inner, boundary = setinverse(solid_torus, Y, 0.125);"
   ]
  },
  {
   "cell_type": "code",
   "execution_count": 9,
   "metadata": {
    "collapsed": false
   },
   "outputs": [
    {
     "data": {
      "text/plain": [
       "14880"
      ]
     },
     "execution_count": 9,
     "metadata": {},
     "output_type": "execute_result"
    }
   ],
   "source": [
    "length(inner)"
   ]
  },
  {
   "cell_type": "markdown",
   "metadata": {},
   "source": [
    "## 3D vis "
   ]
  },
  {
   "cell_type": "code",
   "execution_count": 10,
   "metadata": {
    "collapsed": false
   },
   "outputs": [],
   "source": [
    "using GLVisualize, GeometryTypes, Colors"
   ]
  },
  {
   "cell_type": "code",
   "execution_count": 11,
   "metadata": {
    "collapsed": false
   },
   "outputs": [],
   "source": [
    "positions = Point3{Float32}[Point3(mid(x)) for x in inner]\n",
    "scales = Vec3f0[Vec3f0([diam(x) for x in xx]) for xx in inner]\n",
    "colors = [RGBA(1f0, 0f0, 0f0, 0.1f0) for xx in inner];"
   ]
  },
  {
   "cell_type": "code",
   "execution_count": 12,
   "metadata": {
    "collapsed": false
   },
   "outputs": [
    {
     "name": "stdout",
     "output_type": "stream",
     "text": [
      "Visualization packages loaded.\n",
      "Set inversion finished\n"
     ]
    }
   ],
   "source": [
    "\n",
    "using GLVisualize, GeometryTypes, GLAbstraction, Colors\n",
    "\n",
    "println(\"Visualization packages loaded.\")\n",
    "\n",
    "\n",
    "println(\"Set inversion finished\")\n",
    "\n",
    "cube_particle = HyperRectangle{3, Float32}(Vec3f0(-0.5, -0.5, -0.5), Vec3f0(1, 1, 1))\n",
    "\n",
    "# function cube(X::IntervalBox, inner=true)\n",
    "#     lo = [x.lo for x in X]  # what's the good way to do this?\n",
    "#     hi = [x.hi for x in X]\n",
    "#     #color = Float32((hi[3] + 2.) / 4)\n",
    "#     #c = Float32(abs(hi[3]) / 2.)\n",
    "#     #mycolor = RGBA(1f0, c, c/2, 0.2f0)\n",
    "#     if inner\n",
    "#         mycolor = RGBA(1f0, 0f0, 0f0, 0.1f0)\n",
    "#     else\n",
    "#         mycolor = RGBA(0f0, 1f0, 0f0, 0.1f0)\n",
    "#     end\n",
    "#     return (HyperRectangle{3, Float32}(Vec3f0(lo), Vec3f0(hi - lo)), mycolor)\n",
    "# end\n",
    "\n",
    "window = glscreen()\n",
    "\n",
    "# create an array of differently colored boxes in the direction of the 3 axes\n",
    "#cubes = map(cube, inner2)\n",
    "#boundarycubes = [cube(x, false) for x in boundary]\n",
    "\n",
    "# convert to an array of normal meshes\n",
    "# note, that the constructor is a bit weird. GLNormalMesh takes a tuple of\n",
    "# a geometry and a color. This means, the geometry will be converted to a GLNormalMesh\n",
    "# and the color will be added afterwards, so the resulting type is a GLNormalColorMesh\n",
    "#meshes = map(GLNormalMesh, cubes)\n",
    "# merge them into one big mesh\n",
    "# the resulting type is a GLNormalAttributeMesh, since we merged meshes with different\n",
    "# attributes (colors). An array of the colors will be created and each vertex in the\n",
    "# mesh will be asigned to one of the colors found there.\n",
    "#colored_mesh = merge(meshes)\n",
    "#view(visualize(colored_mesh), window)\n",
    "\n",
    "vis = visualize( (cube_particle, positions), scale=scales, color=colors)\n",
    "\n",
    "view(vis)\n",
    "\n",
    "\n",
    "renderloop(window)"
   ]
  },
  {
   "cell_type": "code",
   "execution_count": null,
   "metadata": {
    "collapsed": true
   },
   "outputs": [],
   "source": []
  }
 ],
 "metadata": {
  "kernelspec": {
   "display_name": "Julia 0.4.5",
   "language": "julia",
   "name": "julia-0.4"
  },
  "language_info": {
   "file_extension": ".jl",
   "mimetype": "application/julia",
   "name": "julia",
   "version": "0.4.5"
  }
 },
 "nbformat": 4,
 "nbformat_minor": 0
}
