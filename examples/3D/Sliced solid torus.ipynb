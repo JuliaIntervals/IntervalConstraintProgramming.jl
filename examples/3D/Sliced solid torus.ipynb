{
 "cells": [
  {
   "cell_type": "markdown",
   "metadata": {},
   "source": [
    "# Sliced solid torus"
   ]
  },
  {
   "cell_type": "markdown",
   "metadata": {},
   "source": [
    "In this notebook, we show how easy it is to create more complicated structures using set operations with separators, by slicing a torus."
   ]
  },
  {
   "cell_type": "code",
   "execution_count": 1,
   "metadata": {
    "collapsed": false
   },
   "outputs": [],
   "source": [
    "using IntervalConstraintProgramming, ValidatedNumerics"
   ]
  },
  {
   "cell_type": "code",
   "execution_count": 2,
   "metadata": {
    "collapsed": false
   },
   "outputs": [
    {
     "name": "stdout",
     "output_type": "stream",
     "text": [
      "forward = IntervalConstraintProgramming.GeneratedFunction(Symbol[:x,:y,:z],Symbol[:_z_1_,:_z_2_,:_z_3_,:_z_4_,:_z_5_,:_z_6_,:_z_7_,:_z_8_],quote \n",
      "    _z_1_ = x ^ 2\n",
      "    _z_2_ = y ^ 2\n",
      "    _z_3_ = _z_1_ + _z_2_\n",
      "    _z_4_ = sqrt(_z_3_)\n",
      "    _z_5_ = 3 - _z_4_\n",
      "    _z_6_ = _z_5_ ^ 2\n",
      "    _z_7_ = z ^ 2\n",
      "    _z_8_ = _z_6_ + _z_7_\n",
      "end)\n",
      "backward = IntervalConstraintProgramming.GeneratedFunction(Symbol[:x,:y,:z,:_z_1_,:_z_2_,:_z_3_,:_z_4_,:_z_5_,:_z_6_,:_z_7_,:_z_8_],Symbol[:x,:y,:z],quote \n",
      "    (_z_8_,_z_6_,_z_7_) = plus_rev(_z_8_,_z_6_,_z_7_)\n",
      "    (_z_7_,z,_) = power_rev(_z_7_,z,2)\n",
      "    (_z_6_,_z_5_,_) = power_rev(_z_6_,_z_5_,2)\n",
      "    (_z_5_,_,_z_4_) = minus_rev(_z_5_,3,_z_4_)\n",
      "    (_z_4_,_z_3_) = sqrt_rev(_z_4_,_z_3_)\n",
      "    (_z_3_,_z_1_,_z_2_) = plus_rev(_z_3_,_z_1_,_z_2_)\n",
      "    (_z_2_,y,_) = power_rev(_z_2_,y,2)\n",
      "    (_z_1_,x,_) = power_rev(_z_1_,x,2)\n",
      "end)\n",
      "code = quote  # /Users/dpsanders/.julia/v0.5/IntervalConstraintProgramming/src/contractor.jl, line 144:\n",
      "    (_A_,x,y,z)->begin  # /Users/dpsanders/.julia/v0.5/IntervalConstraintProgramming/src/contractor.jl, line 144:\n",
      "            begin  # /Users/dpsanders/.julia/v0.5/IntervalConstraintProgramming/src/contractor.jl, line 145:\n",
      "                forward = begin  # /Users/dpsanders/.julia/v0.5/IntervalConstraintProgramming/src/code_generation.jl, line 137:\n",
      "                        (x,y,z)->begin  # /Users/dpsanders/.julia/v0.5/IntervalConstraintProgramming/src/code_generation.jl, line 137:\n",
      "                                begin  # /Users/dpsanders/.julia/v0.5/IntervalConstraintProgramming/src/code_generation.jl, line 138:\n",
      "                                    begin \n",
      "                                        _z_1_ = x ^ 2\n",
      "                                        _z_2_ = y ^ 2\n",
      "                                        _z_3_ = _z_1_ + _z_2_\n",
      "                                        _z_4_ = sqrt(_z_3_)\n",
      "                                        _z_5_ = 3 - _z_4_\n",
      "                                        _z_6_ = _z_5_ ^ 2\n",
      "                                        _z_7_ = z ^ 2\n",
      "                                        _z_8_ = _z_6_ + _z_7_\n",
      "                                    end # /Users/dpsanders/.julia/v0.5/IntervalConstraintProgramming/src/code_generation.jl, line 139:\n",
      "                                    return (_z_1_,_z_2_,_z_3_,_z_4_,_z_5_,_z_6_,_z_7_,_z_8_)\n",
      "                                end\n",
      "                            end\n",
      "                    end # /Users/dpsanders/.julia/v0.5/IntervalConstraintProgramming/src/contractor.jl, line 146:\n",
      "                backward = begin  # /Users/dpsanders/.julia/v0.5/IntervalConstraintProgramming/src/code_generation.jl, line 137:\n",
      "                        (x,y,z,_z_1_,_z_2_,_z_3_,_z_4_,_z_5_,_z_6_,_z_7_,_z_8_)->begin  # /Users/dpsanders/.julia/v0.5/IntervalConstraintProgramming/src/code_generation.jl, line 137:\n",
      "                                begin  # /Users/dpsanders/.julia/v0.5/IntervalConstraintProgramming/src/code_generation.jl, line 138:\n",
      "                                    begin \n",
      "                                        (_z_8_,_z_6_,_z_7_) = plus_rev(_z_8_,_z_6_,_z_7_)\n",
      "                                        (_z_7_,z,_) = power_rev(_z_7_,z,2)\n",
      "                                        (_z_6_,_z_5_,_) = power_rev(_z_6_,_z_5_,2)\n",
      "                                        (_z_5_,_,_z_4_) = minus_rev(_z_5_,3,_z_4_)\n",
      "                                        (_z_4_,_z_3_) = sqrt_rev(_z_4_,_z_3_)\n",
      "                                        (_z_3_,_z_1_,_z_2_) = plus_rev(_z_3_,_z_1_,_z_2_)\n",
      "                                        (_z_2_,y,_) = power_rev(_z_2_,y,2)\n",
      "                                        (_z_1_,x,_) = power_rev(_z_1_,x,2)\n",
      "                                    end # /Users/dpsanders/.julia/v0.5/IntervalConstraintProgramming/src/code_generation.jl, line 139:\n",
      "                                    return (x,y,z)\n",
      "                                end\n",
      "                            end\n",
      "                    end # /Users/dpsanders/.julia/v0.5/IntervalConstraintProgramming/src/contractor.jl, line 148:\n",
      "                (_z_1_,_z_2_,_z_3_,_z_4_,_z_5_,_z_6_,_z_7_,_z_8_) = forward(x,y,z) # /Users/dpsanders/.julia/v0.5/IntervalConstraintProgramming/src/contractor.jl, line 150:\n",
      "                _z_8_ = _z_8_ ∩ _A_ # /Users/dpsanders/.julia/v0.5/IntervalConstraintProgramming/src/contractor.jl, line 152:\n",
      "                (x,y,z) = backward(x,y,z,_z_1_,_z_2_,_z_3_,_z_4_,_z_5_,_z_6_,_z_7_,_z_8_) # /Users/dpsanders/.julia/v0.5/IntervalConstraintProgramming/src/contractor.jl, line 154:\n",
      "                return (x,y,z)\n",
      "            end\n",
      "        end\n",
      "end\n",
      "forward = IntervalConstraintProgramming.GeneratedFunction(Symbol[:x,:y,:z],Symbol[:_z_9_,:_z_10_],quote \n",
      "    _z_9_ = x + y\n",
      "    _z_10_ = _z_9_ + z\n",
      "end)\n",
      "backward = IntervalConstraintProgramming.GeneratedFunction(Symbol[:x,:y,:z,:_z_9_,:_z_10_],Symbol[:x,:y,:z],quote \n",
      "    (_z_10_,_z_9_,z) = plus_rev(_z_10_,_z_9_,z)\n",
      "    (_z_9_,x,y) = plus_rev(_z_9_,x,y)\n",
      "end)\n",
      "code = quote  # /Users/dpsanders/.julia/v0.5/IntervalConstraintProgramming/src/contractor.jl, line 144:\n",
      "    (_A_,x,y,z)->begin  # /Users/dpsanders/.julia/v0.5/IntervalConstraintProgramming/src/contractor.jl, line 144:\n",
      "            begin  # /Users/dpsanders/.julia/v0.5/IntervalConstraintProgramming/src/contractor.jl, line 145:\n",
      "                forward = begin  # /Users/dpsanders/.julia/v0.5/IntervalConstraintProgramming/src/code_generation.jl, line 137:\n",
      "                        (x,y,z)->begin  # /Users/dpsanders/.julia/v0.5/IntervalConstraintProgramming/src/code_generation.jl, line 137:\n",
      "                                begin  # /Users/dpsanders/.julia/v0.5/IntervalConstraintProgramming/src/code_generation.jl, line 138:\n",
      "                                    begin \n",
      "                                        _z_9_ = x + y\n",
      "                                        _z_10_ = _z_9_ + z\n",
      "                                    end # /Users/dpsanders/.julia/v0.5/IntervalConstraintProgramming/src/code_generation.jl, line 139:\n",
      "                                    return (_z_9_,_z_10_)\n",
      "                                end\n",
      "                            end\n",
      "                    end # /Users/dpsanders/.julia/v0.5/IntervalConstraintProgramming/src/contractor.jl, line 146:\n",
      "                backward = begin  # /Users/dpsanders/.julia/v0.5/IntervalConstraintProgramming/src/code_generation.jl, line 137:\n",
      "                        (x,y,z,_z_9_,_z_10_)->begin  # /Users/dpsanders/.julia/v0.5/IntervalConstraintProgramming/src/code_generation.jl, line 137:\n",
      "                                begin  # /Users/dpsanders/.julia/v0.5/IntervalConstraintProgramming/src/code_generation.jl, line 138:\n",
      "                                    begin \n",
      "                                        (_z_10_,_z_9_,z) = plus_rev(_z_10_,_z_9_,z)\n",
      "                                        (_z_9_,x,y) = plus_rev(_z_9_,x,y)\n",
      "                                    end # /Users/dpsanders/.julia/v0.5/IntervalConstraintProgramming/src/code_generation.jl, line 139:\n",
      "                                    return (x,y,z)\n",
      "                                end\n",
      "                            end\n",
      "                    end # /Users/dpsanders/.julia/v0.5/IntervalConstraintProgramming/src/contractor.jl, line 148:\n",
      "                (_z_9_,_z_10_) = forward(x,y,z) # /Users/dpsanders/.julia/v0.5/IntervalConstraintProgramming/src/contractor.jl, line 150:\n",
      "                _z_10_ = _z_10_ ∩ _A_ # /Users/dpsanders/.julia/v0.5/IntervalConstraintProgramming/src/contractor.jl, line 152:\n",
      "                (x,y,z) = backward(x,y,z,_z_9_,_z_10_) # /Users/dpsanders/.julia/v0.5/IntervalConstraintProgramming/src/contractor.jl, line 154:\n",
      "                return (x,y,z)\n",
      "            end\n",
      "        end\n",
      "end\n"
     ]
    },
    {
     "data": {
      "text/plain": [
       "Separator:\n",
       "- variables: x, y, z\n",
       "- expression: (x + y) + z ∈ [-∞, 1]\n"
      ]
     },
     "execution_count": 2,
     "metadata": {},
     "output_type": "execute_result"
    }
   ],
   "source": [
    "solid_torus = @constraint (3 - sqrt(x^2 + y^2))^2 + z^2 <= 1\n",
    "\n",
    "half_plane = @constraint (x + y) + z <= 1"
   ]
  },
  {
   "cell_type": "code",
   "execution_count": 3,
   "metadata": {
    "collapsed": false
   },
   "outputs": [
    {
     "name": "stdout",
     "output_type": "stream",
     "text": [
      "  3.328242 seconds (7.76 M allocations: 313.713 MB, 3.67% gc time)\n"
     ]
    }
   ],
   "source": [
    "Y = IntervalBox(-5..5, -5..5, -5..5)\n",
    "@time paving = pave(solid_torus ∩ half_plane, Y, 0.25);"
   ]
  },
  {
   "cell_type": "code",
   "execution_count": 21,
   "metadata": {
    "collapsed": false
   },
   "outputs": [
    {
     "name": "stdout",
     "output_type": "stream",
     "text": [
      " 12.920378 seconds (43.82 M allocations: 1.598 GB, 5.94% gc time)\n"
     ]
    },
    {
     "data": {
      "text/plain": [
       "0.1"
      ]
     },
     "execution_count": 21,
     "metadata": {},
     "output_type": "execute_result"
    }
   ],
   "source": [
    "@time refine!(paving, 0.1)"
   ]
  },
  {
   "cell_type": "code",
   "execution_count": 20,
   "metadata": {
    "collapsed": false
   },
   "outputs": [
    {
     "data": {
      "text/plain": [
       "68977"
      ]
     },
     "execution_count": 20,
     "metadata": {},
     "output_type": "execute_result"
    }
   ],
   "source": [
    "length(paving.inner)"
   ]
  },
  {
   "cell_type": "markdown",
   "metadata": {},
   "source": [
    "## 3D visualization"
   ]
  },
  {
   "cell_type": "code",
   "execution_count": 4,
   "metadata": {
    "collapsed": false
   },
   "outputs": [],
   "source": [
    "inner = paving.inner\n",
    "boundary = paving.boundary;"
   ]
  },
  {
   "cell_type": "code",
   "execution_count": 5,
   "metadata": {
    "collapsed": false
   },
   "outputs": [],
   "source": [
    "using GLVisualize, GeometryTypes, GLAbstraction, Colors"
   ]
  },
  {
   "cell_type": "markdown",
   "metadata": {},
   "source": [
    "Set up some colors that depend on the position:"
   ]
  },
  {
   "cell_type": "code",
   "execution_count": 6,
   "metadata": {
    "collapsed": false
   },
   "outputs": [],
   "source": [
    "positions = Point{3, Float32}[Point3(mid(x)) for x in vcat(inner, boundary)]\n",
    "scales = Vec3f0[Vec3f0([diam(x) for x in xx]) for xx in vcat(inner, boundary)]\n",
    "\n",
    "zs = Float32[x[3] for x in positions]\n",
    "minz = minimum(zs)\n",
    "maxz = maximum(zs)\n",
    "\n",
    "xs = Float32[x[1] for x in positions]\n",
    "minx = minimum(xs)\n",
    "maxx = maximum(xs)\n",
    "\n",
    "colors1 = RGBA{Float32}[RGBA( (zs[i]-minz)/(maxz-minz), (xs[i]-minx)/(maxx-minx), 0f0, 0.1f0)\n",
    "        for i in 1:length(inner)]\n",
    "colors2 = RGBA{Float32}[RGBA( 0.5f0, 0.5f0, 0.5f0, 0.02f0) for x in boundary];\n",
    "colors = vcat(colors1, colors2);"
   ]
  },
  {
   "cell_type": "code",
   "execution_count": 7,
   "metadata": {
    "collapsed": false,
    "scrolled": true
   },
   "outputs": [
    {
     "data": {
      "text/plain": [
       "Task (runnable) @0x0000000110be9450"
      ]
     },
     "execution_count": 7,
     "metadata": {},
     "output_type": "execute_result"
    }
   ],
   "source": [
    "cube_particle = HyperRectangle{3, Float32}(Vec3f0(-0.5, -0.5, -0.5), Vec3f0(1, 1, 1))\n",
    "\n",
    "window = glscreen()\n",
    "\n",
    "vis = visualize( (cube_particle, positions), scale=scales, color=colors)\n",
    "\n",
    "_view(vis)\n",
    "\n",
    "\n",
    "@async renderloop(window)"
   ]
  },
  {
   "cell_type": "code",
   "execution_count": null,
   "metadata": {
    "collapsed": true
   },
   "outputs": [],
   "source": []
  }
 ],
 "metadata": {
  "anaconda-cloud": {},
  "kernelspec": {
   "display_name": "Julia 0.5.0",
   "language": "julia",
   "name": "julia-0.5"
  },
  "language_info": {
   "file_extension": ".jl",
   "mimetype": "application/julia",
   "name": "julia",
   "version": "0.5.0"
  },
  "toc": {
   "nav_menu": {
    "height": "48px",
    "width": "252px"
   },
   "navigate_menu": true,
   "number_sections": true,
   "sideBar": true,
   "threshold": "2",
   "toc_cell": false,
   "toc_section_display": "block",
   "toc_window_display": false
  }
 },
 "nbformat": 4,
 "nbformat_minor": 0
}
