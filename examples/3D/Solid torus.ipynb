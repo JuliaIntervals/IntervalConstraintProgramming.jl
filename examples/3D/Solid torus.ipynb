{
 "cells": [
  {
   "cell_type": "code",
   "execution_count": 1,
   "metadata": {
    "collapsed": false
   },
   "outputs": [],
   "source": [
    "using IntervalConstraintProgramming, ValidatedNumerics"
   ]
  },
  {
   "cell_type": "code",
   "execution_count": 2,
   "metadata": {
    "collapsed": false
   },
   "outputs": [
    {
     "data": {
      "text/plain": [
       "Separator with variables x, y, z"
      ]
     },
     "execution_count": 2,
     "metadata": {},
     "output_type": "execute_result"
    }
   ],
   "source": [
    "solid_torus = @constraint (3 - sqrt(x^2 + y^2))^2 + z^2 <= 1"
   ]
  },
  {
   "cell_type": "code",
   "execution_count": 8,
   "metadata": {
    "collapsed": false
   },
   "outputs": [
    {
     "name": "stdout",
     "output_type": "stream",
     "text": [
      "  0.987539 seconds (7.34 M allocations: 235.045 MB, 11.95% gc time)\n"
     ]
    }
   ],
   "source": [
    "Y = IntervalBox(-5..5, -5..5, -5..5)\n",
    "@time paving = pave(solid_torus, Y, 0.3);\n"
   ]
  },
  {
   "cell_type": "code",
   "execution_count": 4,
   "metadata": {
    "collapsed": false
   },
   "outputs": [
    {
     "data": {
      "text/plain": [
       "28176"
      ]
     },
     "execution_count": 4,
     "metadata": {},
     "output_type": "execute_result"
    }
   ],
   "source": [
    "length(paving.inner)"
   ]
  },
  {
   "cell_type": "markdown",
   "metadata": {},
   "source": [
    "## 3D vis "
   ]
  },
  {
   "cell_type": "code",
   "execution_count": 5,
   "metadata": {
    "collapsed": false
   },
   "outputs": [
    {
     "name": "stderr",
     "output_type": "stream",
     "text": [
      "INFO: Recompiling stale cache file /Users/dpsanders/.julia/lib/v0.4/GLVisualize.ji for module GLVisualize.\n",
      "INFO: Recompiling stale cache file /Users/dpsanders/.julia/lib/v0.4/GLFW.ji for module GLFW.\n",
      "INFO: Recompiling stale cache file /Users/dpsanders/.julia/lib/v0.4/Mustache.ji for module Mustache.\n",
      "INFO: Recompiling stale cache file /Users/dpsanders/.julia/lib/v0.4/GLWindow.ji for module GLWindow.\n",
      "INFO: Recompiling stale cache file /Users/dpsanders/.julia/lib/v0.4/ModernGL.ji for module ModernGL.\n",
      "INFO: Recompiling stale cache file /Users/dpsanders/.julia/lib/v0.4/GLAbstraction.ji for module GLAbstraction.\n",
      "INFO: Recompiling stale cache file /Users/dpsanders/.julia/lib/v0.4/Quaternions.ji for module Quaternions.\n",
      "INFO: Recompiling stale cache file /Users/dpsanders/.julia/lib/v0.4/DualNumbers.ji for module DualNumbers.\n",
      "INFO: Recompiling stale cache file /Users/dpsanders/.julia/lib/v0.4/GeometryTypes.ji for module GeometryTypes.\n",
      "INFO: Recompiling stale cache file /Users/dpsanders/.julia/lib/v0.4/Reactive.ji for module Reactive.\n",
      "INFO: Recompiling stale cache file /Users/dpsanders/.julia/lib/v0.4/Packing.ji for module Packing.\n",
      "INFO: Recompiling stale cache file /Users/dpsanders/.julia/lib/v0.4/FreeType.ji for module FreeType.\n",
      "INFO: Recompiling stale cache file /Users/dpsanders/.julia/lib/v0.4/Images.ji for module Images.\n",
      "INFO: Recompiling stale cache file /Users/dpsanders/.julia/lib/v0.4/ColorVectorSpace.ji for module ColorVectorSpace.\n",
      "INFO: Recompiling stale cache file /Users/dpsanders/.julia/lib/v0.4/Graphics.ji for module Graphics.\n",
      "WARNING: could not import Base.view into GLVisualize\n",
      "WARNING: Base.String is deprecated, use AbstractString instead.\n",
      "  likely near /Users/dpsanders/.julia/v0.4/GLVisualize/src/FreeTypeAbstraction.jl:18\n",
      "WARNING: Base.String is deprecated, use AbstractString instead.\n",
      "  likely near /Users/dpsanders/.julia/v0.4/GLVisualize/src/FreeTypeAbstraction.jl:18\n",
      "INFO: Recompiling stale cache file /Users/dpsanders/.julia/lib/v0.4/Compose.ji for module Compose.\n",
      "INFO: Recompiling stale cache file /Users/dpsanders/.julia/lib/v0.4/Cairo.ji for module Cairo.\n"
     ]
    }
   ],
   "source": [
    "using GLVisualize, GeometryTypes, GLAbstraction, Colors"
   ]
  },
  {
   "cell_type": "code",
   "execution_count": 9,
   "metadata": {
    "collapsed": false
   },
   "outputs": [],
   "source": [
    "inner = paving.inner\n",
    "positions = Point3{Float32}[Point3(mid(x)) for x in inner]\n",
    "scales = Vec3f0[Vec3f0([diam(x) for x in xx]) for xx in inner]\n",
    "colors = [RGBA(1f0, 0f0, 0f0, 0.1f0) for xx in inner];"
   ]
  },
  {
   "cell_type": "code",
   "execution_count": 10,
   "metadata": {
    "collapsed": false
   },
   "outputs": [
    {
     "name": "stdout",
     "output_type": "stream",
     "text": [
      "Visualization packages loaded.\n"
     ]
    },
    {
     "data": {
      "text/plain": [
       "Ptr{Void} @0x0000000000000000"
      ]
     },
     "execution_count": 10,
     "metadata": {},
     "output_type": "execute_result"
    }
   ],
   "source": [
    "using GLVisualize, GeometryTypes, GLAbstraction, Colors\n",
    "println(\"Visualization packages loaded.\")\n",
    "\n",
    "cube_particle = HyperRectangle{3, Float32}(Vec3f0(-0.5, -0.5, -0.5), Vec3f0(1, 1, 1))\n",
    "\n",
    "window = glscreen()\n",
    "\n",
    "vis = visualize( (cube_particle, positions), scale=scales, color=colors)\n",
    "\n",
    "view(vis)\n",
    "\n",
    "\n",
    "renderloop(window)"
   ]
  },
  {
   "cell_type": "code",
   "execution_count": null,
   "metadata": {
    "collapsed": true
   },
   "outputs": [],
   "source": []
  }
 ],
 "metadata": {
  "kernelspec": {
   "display_name": "Julia 0.4.6",
   "language": "julia",
   "name": "julia-0.4"
  },
  "language_info": {
   "file_extension": ".jl",
   "mimetype": "application/julia",
   "name": "julia",
   "version": "0.4.6"
  },
  "widgets": {
   "state": {},
   "version": "1.1.2"
  }
 },
 "nbformat": 4,
 "nbformat_minor": 0
}
