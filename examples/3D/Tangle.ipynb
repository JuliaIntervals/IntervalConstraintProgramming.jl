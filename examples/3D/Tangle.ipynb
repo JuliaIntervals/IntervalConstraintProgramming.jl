{
 "cells": [
  {
   "cell_type": "markdown",
   "metadata": {},
   "source": [
    "# Tangle surface"
   ]
  },
  {
   "cell_type": "markdown",
   "metadata": {},
   "source": [
    "A difficult example is the so-called \"tangle surface\" (see, e.g., [here](http://paulbourke.net/geometry/tangle/)), given by\n",
    "\n",
    "$$(x^4 + y^4 + z^4  - 5(x^2 + y^2 + z^2) + 11.8 = 0.$$\n",
    "\n",
    "This turns out to be quite difficult to calculate with interval methods, as reflected by the increased calculation times."
   ]
  },
  {
   "cell_type": "code",
   "execution_count": 1,
   "metadata": {
    "collapsed": true
   },
   "outputs": [],
   "source": [
    "using ValidatedNumerics, IntervalConstraintProgramming"
   ]
  },
  {
   "cell_type": "code",
   "execution_count": 2,
   "metadata": {
    "collapsed": false
   },
   "outputs": [
    {
     "name": "stdout",
     "output_type": "stream",
     "text": [
      "forward = IntervalConstraintProgramming.GeneratedFunction(Symbol[:x,:y,:z],Symbol[:_z_1_,:_z_2_,:_z_3_,:_z_4_,:_z_5_,:_z_6_,:_z_7_,:_z_8_,:_z_9_,:_z_10_,:_z_11_,:_z_12_,:_z_13_],quote \n",
      "    _z_1_ = x ^ 4\n",
      "    _z_2_ = y ^ 4\n",
      "    _z_3_ = _z_1_ + _z_2_\n",
      "    _z_4_ = z ^ 4\n",
      "    _z_5_ = _z_3_ + _z_4_\n",
      "    _z_6_ = x ^ 2\n",
      "    _z_7_ = y ^ 2\n",
      "    _z_8_ = _z_6_ + _z_7_\n",
      "    _z_9_ = z ^ 2\n",
      "    _z_10_ = _z_8_ + _z_9_\n",
      "    _z_11_ = 5_z_10_\n",
      "    _z_12_ = _z_5_ - _z_11_\n",
      "    _z_13_ = _z_12_ + 11.8\n",
      "end)\n",
      "backward = IntervalConstraintProgramming.GeneratedFunction(Symbol[:x,:y,:z,:_z_1_,:_z_2_,:_z_3_,:_z_4_,:_z_5_,:_z_6_,:_z_7_,:_z_8_,:_z_9_,:_z_10_,:_z_11_,:_z_12_,:_z_13_],Symbol[:x,:y,:z],quote \n",
      "    (_z_13_,_z_12_,_) = plus_rev(_z_13_,_z_12_,11.8)\n",
      "    (_z_12_,_z_5_,_z_11_) = minus_rev(_z_12_,_z_5_,_z_11_)\n",
      "    (_z_11_,_,_z_10_) = mul_rev(_z_11_,5,_z_10_)\n",
      "    (_z_10_,_z_8_,_z_9_) = plus_rev(_z_10_,_z_8_,_z_9_)\n",
      "    (_z_9_,z,_) = power_rev(_z_9_,z,2)\n",
      "    (_z_8_,_z_6_,_z_7_) = plus_rev(_z_8_,_z_6_,_z_7_)\n",
      "    (_z_7_,y,_) = power_rev(_z_7_,y,2)\n",
      "    (_z_6_,x,_) = power_rev(_z_6_,x,2)\n",
      "    (_z_5_,_z_3_,_z_4_) = plus_rev(_z_5_,_z_3_,_z_4_)\n",
      "    (_z_4_,z,_) = power_rev(_z_4_,z,4)\n",
      "    (_z_3_,_z_1_,_z_2_) = plus_rev(_z_3_,_z_1_,_z_2_)\n",
      "    (_z_2_,y,_) = power_rev(_z_2_,y,4)\n",
      "    (_z_1_,x,_) = power_rev(_z_1_,x,4)\n",
      "end)\n",
      "code = quote  # /Users/dpsanders/.julia/v0.5/IntervalConstraintProgramming/src/contractor.jl, line 144:\n",
      "    (_A_,x,y,z)->begin  # /Users/dpsanders/.julia/v0.5/IntervalConstraintProgramming/src/contractor.jl, line 144:\n",
      "            begin  # /Users/dpsanders/.julia/v0.5/IntervalConstraintProgramming/src/contractor.jl, line 145:\n",
      "                forward = begin  # /Users/dpsanders/.julia/v0.5/IntervalConstraintProgramming/src/code_generation.jl, line 137:\n",
      "                        (x,y,z)->begin  # /Users/dpsanders/.julia/v0.5/IntervalConstraintProgramming/src/code_generation.jl, line 137:\n",
      "                                begin  # /Users/dpsanders/.julia/v0.5/IntervalConstraintProgramming/src/code_generation.jl, line 138:\n",
      "                                    begin \n",
      "                                        _z_1_ = x ^ 4\n",
      "                                        _z_2_ = y ^ 4\n",
      "                                        _z_3_ = _z_1_ + _z_2_\n",
      "                                        _z_4_ = z ^ 4\n",
      "                                        _z_5_ = _z_3_ + _z_4_\n",
      "                                        _z_6_ = x ^ 2\n",
      "                                        _z_7_ = y ^ 2\n",
      "                                        _z_8_ = _z_6_ + _z_7_\n",
      "                                        _z_9_ = z ^ 2\n",
      "                                        _z_10_ = _z_8_ + _z_9_\n",
      "                                        _z_11_ = 5_z_10_\n",
      "                                        _z_12_ = _z_5_ - _z_11_\n",
      "                                        _z_13_ = _z_12_ + 11.8\n",
      "                                    end # /Users/dpsanders/.julia/v0.5/IntervalConstraintProgramming/src/code_generation.jl, line 139:\n",
      "                                    return (_z_1_,_z_2_,_z_3_,_z_4_,_z_5_,_z_6_,_z_7_,_z_8_,_z_9_,_z_10_,_z_11_,_z_12_,_z_13_)\n",
      "                                end\n",
      "                            end\n",
      "                    end # /Users/dpsanders/.julia/v0.5/IntervalConstraintProgramming/src/contractor.jl, line 146:\n",
      "                backward = begin  # /Users/dpsanders/.julia/v0.5/IntervalConstraintProgramming/src/code_generation.jl, line 137:\n",
      "                        (x,y,z,_z_1_,_z_2_,_z_3_,_z_4_,_z_5_,_z_6_,_z_7_,_z_8_,_z_9_,_z_10_,_z_11_,_z_12_,_z_13_)->begin  # /Users/dpsanders/.julia/v0.5/IntervalConstraintProgramming/src/code_generation.jl, line 137:\n",
      "                                begin  # /Users/dpsanders/.julia/v0.5/IntervalConstraintProgramming/src/code_generation.jl, line 138:\n",
      "                                    begin \n",
      "                                        (_z_13_,_z_12_,_) = plus_rev(_z_13_,_z_12_,11.8)\n",
      "                                        (_z_12_,_z_5_,_z_11_) = minus_rev(_z_12_,_z_5_,_z_11_)\n",
      "                                        (_z_11_,_,_z_10_) = mul_rev(_z_11_,5,_z_10_)\n",
      "                                        (_z_10_,_z_8_,_z_9_) = plus_rev(_z_10_,_z_8_,_z_9_)\n",
      "                                        (_z_9_,z,_) = power_rev(_z_9_,z,2)\n",
      "                                        (_z_8_,_z_6_,_z_7_) = plus_rev(_z_8_,_z_6_,_z_7_)\n",
      "                                        (_z_7_,y,_) = power_rev(_z_7_,y,2)\n",
      "                                        (_z_6_,x,_) = power_rev(_z_6_,x,2)\n",
      "                                        (_z_5_,_z_3_,_z_4_) = plus_rev(_z_5_,_z_3_,_z_4_)\n",
      "                                        (_z_4_,z,_) = power_rev(_z_4_,z,4)\n",
      "                                        (_z_3_,_z_1_,_z_2_) = plus_rev(_z_3_,_z_1_,_z_2_)\n",
      "                                        (_z_2_,y,_) = power_rev(_z_2_,y,4)\n",
      "                                        (_z_1_,x,_) = power_rev(_z_1_,x,4)\n",
      "                                    end # /Users/dpsanders/.julia/v0.5/IntervalConstraintProgramming/src/code_generation.jl, line 139:\n",
      "                                    return (x,y,z)\n",
      "                                end\n",
      "                            end\n",
      "                    end # /Users/dpsanders/.julia/v0.5/IntervalConstraintProgramming/src/contractor.jl, line 148:\n",
      "                (_z_1_,_z_2_,_z_3_,_z_4_,_z_5_,_z_6_,_z_7_,_z_8_,_z_9_,_z_10_,_z_11_,_z_12_,_z_13_) = forward(x,y,z) # /Users/dpsanders/.julia/v0.5/IntervalConstraintProgramming/src/contractor.jl, line 150:\n",
      "                _z_13_ = _z_13_ ∩ _A_ # /Users/dpsanders/.julia/v0.5/IntervalConstraintProgramming/src/contractor.jl, line 152:\n",
      "                (x,y,z) = backward(x,y,z,_z_1_,_z_2_,_z_3_,_z_4_,_z_5_,_z_6_,_z_7_,_z_8_,_z_9_,_z_10_,_z_11_,_z_12_,_z_13_) # /Users/dpsanders/.julia/v0.5/IntervalConstraintProgramming/src/contractor.jl, line 154:\n",
      "                return (x,y,z)\n",
      "            end\n",
      "        end\n",
      "end\n",
      "  9.758865 seconds (19.16 M allocations: 735.257 MB, 3.40% gc time)\n"
     ]
    }
   ],
   "source": [
    "tangle = @constraint (x^4 + y^4) + z^4  - 5*((x^2 + y^2) + z^2) + 11.8 == 0.0\n",
    "\n",
    "X = IntervalBox(-5..5, -5..5, -5..5)\n",
    "\n",
    "@time paving = pave(tangle, X, 1);\n"
   ]
  },
  {
   "cell_type": "code",
   "execution_count": 3,
   "metadata": {
    "collapsed": false
   },
   "outputs": [
    {
     "name": "stdout",
     "output_type": "stream",
     "text": [
      " 41.695163 seconds (87.37 M allocations: 3.235 GB, 3.45% gc time)\n"
     ]
    }
   ],
   "source": [
    "@time refine!(paving, 0.5)\n",
    "\n",
    "inner = paving.inner\n",
    "boundary = paving.boundary;"
   ]
  },
  {
   "cell_type": "code",
   "execution_count": 24,
   "metadata": {
    "collapsed": false
   },
   "outputs": [
    {
     "data": {
      "text/plain": [
       "9240"
      ]
     },
     "execution_count": 24,
     "metadata": {},
     "output_type": "execute_result"
    }
   ],
   "source": [
    "length(paving.boundary)"
   ]
  },
  {
   "cell_type": "code",
   "execution_count": 4,
   "metadata": {
    "collapsed": true
   },
   "outputs": [],
   "source": [
    "using GLVisualize, GeometryTypes, GLAbstraction, Colors"
   ]
  },
  {
   "cell_type": "code",
   "execution_count": 5,
   "metadata": {
    "collapsed": true
   },
   "outputs": [],
   "source": [
    "positions = Point{3, Float32}[(mid(x)) for x in vcat(inner, boundary)]\n",
    "scales = Vec3f0[Vec3f0([diam(x) for x in xx]) for xx in vcat(inner, boundary)]\n",
    "\n",
    "zs = Float32[x[3] for x in positions]\n",
    "minz = minimum(zs)\n",
    "maxz = maximum(zs)\n",
    "\n",
    "xs = Float32[x[1] for x in positions]\n",
    "minx = minimum(xs)\n",
    "maxx = maximum(xs)\n",
    "\n",
    "colors = RGBA{Float32}[RGBA( (zs[i]-minz)/(maxz-minz), (xs[i]-minx)/(maxx-minx), 0f0, 0.3f0)\n",
    "        for i in 1:length(inner)+length(boundary)]\n",
    "#colors2 = RGBA{Float32}[RGBA( 0.5f0, 0.5f0, 0.5f0, 0.02f0) for x in boundary];\n",
    "#colors = vcat(colors1, colors2);"
   ]
  },
  {
   "cell_type": "code",
   "execution_count": 6,
   "metadata": {
    "collapsed": false
   },
   "outputs": [
    {
     "data": {
      "text/plain": [
       "Task (runnable) @0x000000010fe61d50"
      ]
     },
     "execution_count": 6,
     "metadata": {},
     "output_type": "execute_result"
    }
   ],
   "source": [
    "cube_particle = HyperRectangle{3, Float32}(Vec3f0(-0.5, -0.5, -0.5), Vec3f0(1, 1, 1))\n",
    "\n",
    "window = glscreen()\n",
    "\n",
    "vis = visualize( (cube_particle, positions), scale=scales, color=colors)\n",
    "\n",
    "_view(vis)\n",
    "\n",
    "\n",
    "@async renderloop(window)"
   ]
  },
  {
   "cell_type": "code",
   "execution_count": null,
   "metadata": {
    "collapsed": true
   },
   "outputs": [],
   "source": []
  }
 ],
 "metadata": {
  "anaconda-cloud": {},
  "kernelspec": {
   "display_name": "Julia 0.5.0",
   "language": "julia",
   "name": "julia-0.5"
  },
  "language_info": {
   "file_extension": ".jl",
   "mimetype": "application/julia",
   "name": "julia",
   "version": "0.5.0"
  },
  "toc": {
   "nav_menu": {
    "height": "30px",
    "width": "252px"
   },
   "navigate_menu": true,
   "number_sections": true,
   "sideBar": true,
   "threshold": "2",
   "toc_cell": false,
   "toc_section_display": "block",
   "toc_window_display": false
  }
 },
 "nbformat": 4,
 "nbformat_minor": 2
}
