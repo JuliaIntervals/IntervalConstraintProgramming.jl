{
 "cells": [
  {
   "cell_type": "markdown",
   "metadata": {},
   "source": [
    "Logistic map:\n",
    "\n",
    "$f(x) = 4x(1-x)$"
   ]
  },
  {
   "cell_type": "code",
   "execution_count": 1,
   "metadata": {
    "collapsed": false
   },
   "outputs": [
    {
     "data": {
      "text/plain": [
       "f (generic function with 1 method)"
      ]
     },
     "execution_count": 1,
     "metadata": {},
     "output_type": "execute_result"
    }
   ],
   "source": [
    "f(x) = 4x*(1-x)"
   ]
  },
  {
   "cell_type": "code",
   "execution_count": 2,
   "metadata": {
    "collapsed": false
   },
   "outputs": [
    {
     "name": "stderr",
     "output_type": "stream",
     "text": [
      "WARNING: Method definition make_function(Any, Any, Any) in module IntervalConstraintProgramming at /Users/dpsanders/.julia/v0.5/IntervalConstraintProgramming/src/contractor.jl:405 overwritten at /Users/dpsanders/.julia/v0.5/IntervalConstraintProgramming/src/functions.jl:134.\n",
      "WARNING: replacing docs for 'IntervalConstraintProgramming.make_function :: Tuple{Any,Any,Any}' in module 'IntervalConstraintProgramming'.\n"
     ]
    }
   ],
   "source": [
    "using IntervalConstraintProgramming, ValidatedNumerics"
   ]
  },
  {
   "cell_type": "code",
   "execution_count": 3,
   "metadata": {
    "collapsed": false
   },
   "outputs": [
    {
     "data": {
      "text/plain": [
       "Separator:\n",
       "- variables: x\n",
       "- expression: (4x) * (1 - x) ∈ [0.299999, 0.400001]\n"
      ]
     },
     "execution_count": 3,
     "metadata": {},
     "output_type": "execute_result"
    }
   ],
   "source": [
    "C = @constraint 4x*(1-x) ∈ [0.3, 0.4]"
   ]
  },
  {
   "cell_type": "code",
   "execution_count": 4,
   "metadata": {
    "collapsed": false
   },
   "outputs": [
    {
     "data": {
      "text/plain": [
       "[0, 1]"
      ]
     },
     "execution_count": 4,
     "metadata": {},
     "output_type": "execute_result"
    }
   ],
   "source": [
    "X = IntervalBox(0..1)"
   ]
  },
  {
   "cell_type": "code",
   "execution_count": 5,
   "metadata": {
    "collapsed": false
   },
   "outputs": [
    {
     "data": {
      "text/plain": [
       "Paving:\n",
       "- tolerance ϵ = 0.01\n",
       "- inner approx. of length 4\n",
       "- boundary approx. of length 4"
      ]
     },
     "execution_count": 5,
     "metadata": {},
     "output_type": "execute_result"
    }
   ],
   "source": [
    "paving = pave(C, X)"
   ]
  },
  {
   "cell_type": "code",
   "execution_count": 6,
   "metadata": {
    "collapsed": false
   },
   "outputs": [
    {
     "data": {
      "text/plain": [
       "4-element Array{ValidatedNumerics.IntervalBox{1,Float64},1}:\n",
       " [0.901015, 0.916761] \n",
       " [0.889014, 0.901016] \n",
       " [0.0989849, 0.110986]\n",
       " [0.0832394, 0.098985]"
      ]
     },
     "execution_count": 6,
     "metadata": {},
     "output_type": "execute_result"
    }
   ],
   "source": [
    "paving.inner"
   ]
  },
  {
   "cell_type": "code",
   "execution_count": 6,
   "metadata": {
    "collapsed": false
   },
   "outputs": [
    {
     "data": {
      "text/plain": [
       "4-element Array{ValidatedNumerics.IntervalBox{1,Float64},1}:\n",
       " [0.91676, 0.918335]   \n",
       " [0.886832, 0.889015]  \n",
       " [0.110985, 0.113168]  \n",
       " [0.0816653, 0.0832395]"
      ]
     },
     "execution_count": 6,
     "metadata": {},
     "output_type": "execute_result"
    }
   ],
   "source": [
    "paving.boundary"
   ]
  },
  {
   "cell_type": "markdown",
   "metadata": {},
   "source": [
    "Inverse functions:\n"
   ]
  },
  {
   "cell_type": "code",
   "execution_count": 7,
   "metadata": {
    "collapsed": false
   },
   "outputs": [
    {
     "data": {
      "text/plain": [
       "g2 (generic function with 1 method)"
      ]
     },
     "execution_count": 7,
     "metadata": {},
     "output_type": "execute_result"
    }
   ],
   "source": [
    "g1(x) = (1/2) * (1 + √(1-x))\n",
    "g2(x) = (1/2) * (1 - √(1-x))"
   ]
  },
  {
   "cell_type": "code",
   "execution_count": 8,
   "metadata": {
    "collapsed": false
   },
   "outputs": [
    {
     "data": {
      "text/plain": [
       "[0.0816699, 0.112702]"
      ]
     },
     "execution_count": 8,
     "metadata": {},
     "output_type": "execute_result"
    }
   ],
   "source": [
    "Y = IntervalBox(hull(g2(Interval(0.3)), g2(Interval(0.4))))"
   ]
  },
  {
   "cell_type": "code",
   "execution_count": 9,
   "metadata": {
    "collapsed": false
   },
   "outputs": [
    {
     "data": {
      "text/plain": [
       "0-element Array{ValidatedNumerics.IntervalBox{1,Float64},1}"
      ]
     },
     "execution_count": 9,
     "metadata": {},
     "output_type": "execute_result"
    }
   ],
   "source": [
    "setdiff(Y, paving)"
   ]
  },
  {
   "cell_type": "code",
   "execution_count": 10,
   "metadata": {
    "collapsed": false
   },
   "outputs": [
    {
     "data": {
      "text/plain": [
       "2-element Array{ValidatedNumerics.IntervalBox{1,Float64},1}:\n",
       " [0.0816699, 0.0832395]\n",
       " [0.110985, 0.112702]  "
      ]
     },
     "execution_count": 10,
     "metadata": {},
     "output_type": "execute_result"
    }
   ],
   "source": [
    "setdiff(Y, paving.inner)"
   ]
  },
  {
   "cell_type": "markdown",
   "metadata": {},
   "source": [
    "Second iterate:"
   ]
  },
  {
   "cell_type": "code",
   "execution_count": 69,
   "metadata": {
    "collapsed": false
   },
   "outputs": [
    {
     "data": {
      "text/plain": [
       "Separator with variables x"
      ]
     },
     "execution_count": 69,
     "metadata": {},
     "output_type": "execute_result"
    }
   ],
   "source": [
    "C2 = @constraint 4*(4x*(1-x))*(1-(4x*(1-x))) ∈ [0.3, 0.4]"
   ]
  },
  {
   "cell_type": "code",
   "execution_count": 77,
   "metadata": {
    "collapsed": false
   },
   "outputs": [
    {
     "data": {
      "text/plain": [
       "Paving:\n",
       "- tolerance ϵ = 1.0e-6\n",
       "- inner approx. of length 122\n",
       "- boundary approx. of length 20"
      ]
     },
     "execution_count": 77,
     "metadata": {},
     "output_type": "execute_result"
    }
   ],
   "source": [
    "paving = pave(C2, X, 1e-6)"
   ]
  },
  {
   "cell_type": "code",
   "execution_count": 74,
   "metadata": {
    "collapsed": false
   },
   "outputs": [
    {
     "data": {
      "text/plain": [
       "68-element Array{ValidatedNumerics.IntervalBox{1,Float64},1}:\n",
       " [0.974218, 0.978592]  \n",
       " [0.978878, 0.979118]  \n",
       " [0.978591, 0.978879]  \n",
       " [0.971488, 0.974219]  \n",
       " [0.971088, 0.971489]  \n",
       " [0.971, 0.971089]     \n",
       " [0.657081, 0.660659]  \n",
       " [0.666639, 0.666798]  \n",
       " [0.666797, 0.667132]  \n",
       " [0.667836, 0.66784]   \n",
       " [0.667131, 0.667405]  \n",
       " [0.66762, 0.66771]    \n",
       " [0.667772, 0.667806]  \n",
       " ⋮                     \n",
       " [0.332379, 0.332596]  \n",
       " [0.33229, 0.33238]    \n",
       " [0.332227, 0.332291]  \n",
       " [0.332163, 0.332165]  \n",
       " [0.332194, 0.332228]  \n",
       " [0.33216, 0.332164]   \n",
       " [0.0257812, 0.0285113]\n",
       " [0.0289111, 0.0289997]\n",
       " [0.0285112, 0.0289112]\n",
       " [0.021408, 0.0257813] \n",
       " [0.0211211, 0.0214081]\n",
       " [0.020882, 0.0211212] "
      ]
     },
     "execution_count": 74,
     "metadata": {},
     "output_type": "execute_result"
    }
   ],
   "source": [
    "paving.inner"
   ]
  },
  {
   "cell_type": "markdown",
   "metadata": {},
   "source": [
    "Inverses:"
   ]
  },
  {
   "cell_type": "code",
   "execution_count": 78,
   "metadata": {
    "collapsed": false
   },
   "outputs": [
    {
     "data": {
      "text/plain": [
       "1-dimensional length: [9.36162e-06, 9.36163e-06]"
      ]
     },
     "execution_count": 78,
     "metadata": {},
     "output_type": "execute_result"
    }
   ],
   "source": [
    "Vol(paving.boundary)"
   ]
  },
  {
   "cell_type": "code",
   "execution_count": 79,
   "metadata": {
    "collapsed": false
   },
   "outputs": [
    {
     "data": {
      "text/plain": [
       "20-element Array{ValidatedNumerics.IntervalBox{1,Float64},1}:\n",
       " [0.979147, 0.979148]  \n",
       " [0.970982, 0.970983]  \n",
       " [0.667857, 0.667859]  \n",
       " [0.667855, 0.667857]  \n",
       " [0.667854, 0.667856]  \n",
       " [0.667852, 0.667854]  \n",
       " [0.642891, 0.642893]  \n",
       " [0.642889, 0.642891]  \n",
       " [0.642888, 0.64289]   \n",
       " [0.642886, 0.642887]  \n",
       " [0.357113, 0.357114]  \n",
       " [0.35711, 0.357112]   \n",
       " [0.357109, 0.357111]  \n",
       " [0.357107, 0.357109]  \n",
       " [0.332146, 0.332148]  \n",
       " [0.332144, 0.332146]  \n",
       " [0.332143, 0.332145]  \n",
       " [0.332141, 0.332143]  \n",
       " [0.0290173, 0.0290178]\n",
       " [0.0208522, 0.0208524]"
      ]
     },
     "execution_count": 79,
     "metadata": {},
     "output_type": "execute_result"
    }
   ],
   "source": [
    "paving.boundary"
   ]
  },
  {
   "cell_type": "code",
   "execution_count": 17,
   "metadata": {
    "collapsed": false
   },
   "outputs": [
    {
     "data": {
      "text/plain": [
       "h1 (generic function with 1 method)"
      ]
     },
     "execution_count": 17,
     "metadata": {},
     "output_type": "execute_result"
    }
   ],
   "source": [
    "h1(x) = (1/2) * (1 - √(1 - √(1 - x)) / √2)"
   ]
  },
  {
   "cell_type": "code",
   "execution_count": 18,
   "metadata": {
    "collapsed": false
   },
   "outputs": [
    {
     "data": {
      "text/plain": [
       "[0.332144, 0.357111]"
      ]
     },
     "execution_count": 18,
     "metadata": {},
     "output_type": "execute_result"
    }
   ],
   "source": [
    "Y = IntervalBox(hull(h1(Interval(0.3)), h1(Interval(0.4))))"
   ]
  },
  {
   "cell_type": "code",
   "execution_count": 19,
   "metadata": {
    "collapsed": false
   },
   "outputs": [
    {
     "data": {
      "text/plain": [
       "0-element Array{ValidatedNumerics.IntervalBox{1,Float64},1}"
      ]
     },
     "execution_count": 19,
     "metadata": {},
     "output_type": "execute_result"
    }
   ],
   "source": [
    "setdiff(Y, paving)"
   ]
  },
  {
   "cell_type": "markdown",
   "metadata": {
    "collapsed": true
   },
   "source": [
    "## Forward and reverse by hand"
   ]
  },
  {
   "cell_type": "code",
   "execution_count": 2,
   "metadata": {
    "collapsed": false
   },
   "outputs": [
    {
     "data": {
      "text/plain": [
       "[0, 1]"
      ]
     },
     "execution_count": 2,
     "metadata": {},
     "output_type": "execute_result"
    }
   ],
   "source": [
    "x = 0..1"
   ]
  },
  {
   "cell_type": "markdown",
   "metadata": {},
   "source": [
    "Do `@constraint f(f(x)) in [0.3,0.4]` by hand:"
   ]
  },
  {
   "cell_type": "code",
   "execution_count": 38,
   "metadata": {
    "collapsed": false
   },
   "outputs": [
    {
     "data": {
      "text/plain": [
       "(anonymous function)"
      ]
     },
     "execution_count": 38,
     "metadata": {},
     "output_type": "execute_result"
    }
   ],
   "source": [
    "#ex = :(4x*(1-x))\n",
    "#-4(x^2 - x)\n",
    "ex = :(-4( (x-0.5)^2 - 0.25 ))\n",
    "\n",
    "f_forward_code = IntervalConstraintProgramming.forward_pass(ex)\n",
    "f_reverse_code = IntervalConstraintProgramming.backward_pass(ex)\n",
    "\n",
    "f_forward = eval(f_forward_code)\n",
    "f_reverse = eval(f_reverse_code)\n"
   ]
  },
  {
   "cell_type": "code",
   "execution_count": 29,
   "metadata": {
    "collapsed": false
   },
   "outputs": [
    {
     "data": {
      "text/plain": [
       "[0, 1]"
      ]
     },
     "execution_count": 29,
     "metadata": {},
     "output_type": "execute_result"
    }
   ],
   "source": [
    "x = 0..1"
   ]
  },
  {
   "cell_type": "code",
   "execution_count": 30,
   "metadata": {
    "collapsed": false
   },
   "outputs": [
    {
     "data": {
      "text/plain": [
       ":((x,)->begin  # /Users/dpsanders/.julia/v0.4/IntervalConstraintProgramming/src/contractor.jl, line 248:\n",
       "            begin \n",
       "                _z10_ = x - 0.5\n",
       "                _z11_ = _z10_ ^ 2\n",
       "                _z12_ = _z11_ - 0.25\n",
       "                _z13_ = -4_z12_\n",
       "                return (_z10_,_z11_,_z12_,_z13_)\n",
       "            end\n",
       "        end)"
      ]
     },
     "execution_count": 30,
     "metadata": {},
     "output_type": "execute_result"
    }
   ],
   "source": [
    "f_forward_code"
   ]
  },
  {
   "cell_type": "code",
   "execution_count": 32,
   "metadata": {
    "collapsed": false
   },
   "outputs": [
    {
     "data": {
      "text/plain": [
       "([-0.5, 0.5],[0, 0.25],[-0.25, 0],[-0, 1])"
      ]
     },
     "execution_count": 32,
     "metadata": {},
     "output_type": "execute_result"
    }
   ],
   "source": [
    "z1, z2, z3 = f_forward(x)"
   ]
  },
  {
   "cell_type": "code",
   "execution_count": 34,
   "metadata": {
    "collapsed": false
   },
   "outputs": [
    {
     "data": {
      "text/plain": [
       "[0.299999, 0.3125]"
      ]
     },
     "execution_count": 34,
     "metadata": {},
     "output_type": "execute_result"
    }
   ],
   "source": [
    "z4, z5, z6 = f_forward(z3)\n",
    "z6 = z6 ∩ (0.3..0.4)"
   ]
  },
  {
   "cell_type": "code",
   "execution_count": 21,
   "metadata": {
    "collapsed": false
   },
   "outputs": [
    {
     "name": "stderr",
     "output_type": "stream",
     "text": [
      "WARNING: redefining constant rev_ops\n"
     ]
    },
    {
     "data": {
      "text/plain": [
       "pow_rev2 (generic function with 1 method)"
      ]
     },
     "execution_count": 21,
     "metadata": {},
     "output_type": "execute_result"
    }
   ],
   "source": [
    "include(\"../src/reverse_mode.jl\")"
   ]
  },
  {
   "cell_type": "code",
   "execution_count": 22,
   "metadata": {
    "collapsed": false
   },
   "outputs": [
    {
     "data": {
      "text/plain": [
       "[-0, 0.981251]"
      ]
     },
     "execution_count": 22,
     "metadata": {},
     "output_type": "execute_result"
    }
   ],
   "source": [
    "z3_new = f_reverse(z3, z4, z5, z6)[1]"
   ]
  },
  {
   "cell_type": "code",
   "execution_count": 23,
   "metadata": {
    "collapsed": false
   },
   "outputs": [
    {
     "data": {
      "text/plain": [
       "[-0, 0.981251]"
      ]
     },
     "execution_count": 23,
     "metadata": {},
     "output_type": "execute_result"
    }
   ],
   "source": [
    "z3 = z3 ∩ z3_new"
   ]
  },
  {
   "cell_type": "code",
   "execution_count": 26,
   "metadata": {
    "collapsed": false
   },
   "outputs": [
    {
     "data": {
      "text/plain": [
       "[0, 1]"
      ]
     },
     "execution_count": 26,
     "metadata": {},
     "output_type": "execute_result"
    }
   ],
   "source": [
    "x_new = f_reverse(x, z1, z2, z3)[1]"
   ]
  },
  {
   "cell_type": "code",
   "execution_count": 27,
   "metadata": {
    "collapsed": false
   },
   "outputs": [
    {
     "data": {
      "text/plain": [
       "[0, 1]"
      ]
     },
     "execution_count": 27,
     "metadata": {},
     "output_type": "execute_result"
    }
   ],
   "source": [
    "x = x ∩ x_new"
   ]
  },
  {
   "cell_type": "markdown",
   "metadata": {},
   "source": [
    "## Use better expression with single occurrence of x:"
   ]
  },
  {
   "cell_type": "code",
   "execution_count": 36,
   "metadata": {
    "collapsed": false
   },
   "outputs": [
    {
     "data": {
      "text/plain": [
       "(anonymous function)"
      ]
     },
     "execution_count": 36,
     "metadata": {},
     "output_type": "execute_result"
    }
   ],
   "source": [
    "ex = :(-4( (x-0.5)^2 - 0.25 ))\n",
    "\n",
    "g_forward_code = IntervalConstraintProgramming.forward_pass(ex)\n",
    "g_reverse_code = IntervalConstraintProgramming.backward_pass(ex)\n",
    "\n",
    "g_forward = eval(f_forward_code)\n",
    "g_reverse = eval(f_reverse_code)\n"
   ]
  },
  {
   "cell_type": "code",
   "execution_count": 39,
   "metadata": {
    "collapsed": false
   },
   "outputs": [
    {
     "data": {
      "text/plain": [
       ":((x,)->begin  # /Users/dpsanders/.julia/v0.4/IntervalConstraintProgramming/src/contractor.jl, line 248:\n",
       "            begin \n",
       "                _z26_ = x - 0.5\n",
       "                _z27_ = _z26_ ^ 2\n",
       "                _z28_ = _z27_ - 0.25\n",
       "                _z29_ = -4_z28_\n",
       "                return (_z26_,_z27_,_z28_,_z29_)\n",
       "            end\n",
       "        end)"
      ]
     },
     "execution_count": 39,
     "metadata": {},
     "output_type": "execute_result"
    }
   ],
   "source": [
    "g_forward_code"
   ]
  },
  {
   "cell_type": "code",
   "execution_count": 40,
   "metadata": {
    "collapsed": false
   },
   "outputs": [
    {
     "data": {
      "text/plain": [
       ":((x,_z30_,_z31_,_z32_,_z33_)->begin  # /Users/dpsanders/.julia/v0.4/IntervalConstraintProgramming/src/contractor.jl, line 248:\n",
       "            begin \n",
       "                (_z33_,_,_z32_) = mul_rev(_z33_,-4,_z32_)\n",
       "                (_z32_,_z31_,_) = minus_rev(_z32_,_z31_,0.25)\n",
       "                (_z31_,_z30_,_) = power_rev(_z31_,_z30_,2)\n",
       "                (_z30_,x,_) = minus_rev(_z30_,x,0.5)\n",
       "                return (x,)\n",
       "            end\n",
       "        end)"
      ]
     },
     "execution_count": 40,
     "metadata": {},
     "output_type": "execute_result"
    }
   ],
   "source": [
    "g_reverse_code"
   ]
  },
  {
   "cell_type": "code",
   "execution_count": 47,
   "metadata": {
    "collapsed": false
   },
   "outputs": [
    {
     "data": {
      "text/plain": [
       "([-0.5, 0.5],[0, 0.25],[-0.25, 0],[-0, 1])"
      ]
     },
     "execution_count": 47,
     "metadata": {},
     "output_type": "execute_result"
    }
   ],
   "source": [
    "x = 0..1\n",
    "z1, z2, z3, z4 = g_forward(x)"
   ]
  },
  {
   "cell_type": "code",
   "execution_count": 48,
   "metadata": {
    "collapsed": false
   },
   "outputs": [
    {
     "data": {
      "text/plain": [
       "[0.299999, 0.400001]"
      ]
     },
     "execution_count": 48,
     "metadata": {},
     "output_type": "execute_result"
    }
   ],
   "source": [
    "z5, z6, z7, z8 = g_forward(z4)\n",
    "z8 = z8 ∩ (0.3..0.4)"
   ]
  },
  {
   "cell_type": "code",
   "execution_count": 49,
   "metadata": {
    "collapsed": false
   },
   "outputs": [
    {
     "data": {
      "text/plain": [
       "[0.0816699, 0.918331]"
      ]
     },
     "execution_count": 49,
     "metadata": {},
     "output_type": "execute_result"
    }
   ],
   "source": [
    "z4_new = g_reverse(z4, z5, z6, z7, z8)[1]"
   ]
  },
  {
   "cell_type": "code",
   "execution_count": 50,
   "metadata": {
    "collapsed": false
   },
   "outputs": [
    {
     "data": {
      "text/plain": [
       "[0.0816699, 0.918331]"
      ]
     },
     "execution_count": 50,
     "metadata": {},
     "output_type": "execute_result"
    }
   ],
   "source": [
    "z4 = z4 ∩ z4_new"
   ]
  },
  {
   "cell_type": "code",
   "execution_count": 53,
   "metadata": {
    "collapsed": false
   },
   "outputs": [
    {
     "data": {
      "text/plain": [
       "[0.0208523, 0.979148]"
      ]
     },
     "execution_count": 53,
     "metadata": {},
     "output_type": "execute_result"
    }
   ],
   "source": [
    "x_new = g_reverse(x, z1, z2, z3, z4)[1]\n",
    "x = x ∩ x_new"
   ]
  },
  {
   "cell_type": "markdown",
   "metadata": {},
   "source": [
    "Next step: bisect"
   ]
  },
  {
   "cell_type": "code",
   "execution_count": 54,
   "metadata": {
    "collapsed": false
   },
   "outputs": [
    {
     "data": {
      "text/plain": [
       "([-0.479148, 0],[0, 0.229583],[-0.25, -0.0204174],[0.0816699, 1])"
      ]
     },
     "execution_count": 54,
     "metadata": {},
     "output_type": "execute_result"
    }
   ],
   "source": [
    "x = Interval(x.lo, mid(x))\n",
    "z1, z2, z3, z4 = g_forward(x)"
   ]
  },
  {
   "cell_type": "code",
   "execution_count": 55,
   "metadata": {
    "collapsed": false
   },
   "outputs": [
    {
     "data": {
      "text/plain": [
       "[0.299999, 0.400001]"
      ]
     },
     "execution_count": 55,
     "metadata": {},
     "output_type": "execute_result"
    }
   ],
   "source": [
    "z5, z6, z7, z8 = g_forward(z4)\n",
    "z8 = z8 ∩ (0.3..0.4)"
   ]
  },
  {
   "cell_type": "code",
   "execution_count": 56,
   "metadata": {
    "collapsed": false
   },
   "outputs": [
    {
     "data": {
      "text/plain": [
       "[0.0816699, 0.918331]"
      ]
     },
     "execution_count": 56,
     "metadata": {},
     "output_type": "execute_result"
    }
   ],
   "source": [
    "z4_new = g_reverse(z4, z5, z6, z7, z8)[1]"
   ]
  },
  {
   "cell_type": "code",
   "execution_count": 57,
   "metadata": {
    "collapsed": false
   },
   "outputs": [
    {
     "data": {
      "text/plain": [
       "[0.0816699, 0.918331]"
      ]
     },
     "execution_count": 57,
     "metadata": {},
     "output_type": "execute_result"
    }
   ],
   "source": [
    "z4 = z4 ∩ z4_new"
   ]
  },
  {
   "cell_type": "code",
   "execution_count": 58,
   "metadata": {
    "collapsed": false
   },
   "outputs": [
    {
     "data": {
      "text/plain": [
       "[0.0208523, 0.357111]"
      ]
     },
     "execution_count": 58,
     "metadata": {},
     "output_type": "execute_result"
    }
   ],
   "source": [
    "x_new = g_reverse(x, z1, z2, z3, z4)[1]\n",
    "x = x ∩ x_new"
   ]
  },
  {
   "cell_type": "markdown",
   "metadata": {},
   "source": [
    "Next step: bisect again:"
   ]
  },
  {
   "cell_type": "code",
   "execution_count": 80,
   "metadata": {
    "collapsed": false
   },
   "outputs": [
    {
     "data": {
      "text/plain": [
       "([-0.479148, -0.311018],[0.0967326, 0.229583],[-0.153268, -0.0204174],[0.0816699, 0.61307])"
      ]
     },
     "execution_count": 80,
     "metadata": {},
     "output_type": "execute_result"
    }
   ],
   "source": [
    "x = Interval(x.lo, mid(x))\n",
    "z1, z2, z3, z4 = g_forward(x)"
   ]
  },
  {
   "cell_type": "code",
   "execution_count": 81,
   "metadata": {
    "collapsed": false
   },
   "outputs": [
    {
     "data": {
      "text/plain": [
       "[0.299999, 0.400001]"
      ]
     },
     "execution_count": 81,
     "metadata": {},
     "output_type": "execute_result"
    }
   ],
   "source": [
    "z5, z6, z7, z8 = g_forward(z4)\n",
    "z8 = z8 ∩ (0.3..0.4)"
   ]
  },
  {
   "cell_type": "code",
   "execution_count": 82,
   "metadata": {
    "collapsed": false
   },
   "outputs": [
    {
     "data": {
      "text/plain": [
       "[0.0816699, 0.112702]"
      ]
     },
     "execution_count": 82,
     "metadata": {},
     "output_type": "execute_result"
    }
   ],
   "source": [
    "z4_new = g_reverse(z4, z5, z6, z7, z8)[1]"
   ]
  },
  {
   "cell_type": "code",
   "execution_count": 83,
   "metadata": {
    "collapsed": false
   },
   "outputs": [
    {
     "data": {
      "text/plain": [
       "[0.0816699, 0.112702]"
      ]
     },
     "execution_count": 83,
     "metadata": {},
     "output_type": "execute_result"
    }
   ],
   "source": [
    "z4 = z4 ∩ z4_new"
   ]
  },
  {
   "cell_type": "code",
   "execution_count": 84,
   "metadata": {
    "collapsed": false
   },
   "outputs": [
    {
     "data": {
      "text/plain": [
       "[0.0208523, 0.0290175]"
      ]
     },
     "execution_count": 84,
     "metadata": {},
     "output_type": "execute_result"
    }
   ],
   "source": [
    "x_new = g_reverse(x, z1, z2, z3, z4)[1]\n",
    "x = x ∩ x_new"
   ]
  },
  {
   "cell_type": "code",
   "execution_count": 85,
   "metadata": {
    "collapsed": false
   },
   "outputs": [
    {
     "data": {
      "text/plain": [
       "1-dimensional length: [0.00816511, 0.00816512]"
      ]
     },
     "execution_count": 85,
     "metadata": {},
     "output_type": "execute_result"
    }
   ],
   "source": [
    "Vol(ans)"
   ]
  },
  {
   "cell_type": "markdown",
   "metadata": {
    "collapsed": true
   },
   "source": [
    "## Monotonicity from derivative constraints"
   ]
  },
  {
   "cell_type": "code",
   "execution_count": 3,
   "metadata": {
    "collapsed": true
   },
   "outputs": [],
   "source": [
    "using ForwardDiff"
   ]
  },
  {
   "cell_type": "code",
   "execution_count": 5,
   "metadata": {
    "collapsed": false
   },
   "outputs": [
    {
     "data": {
      "text/plain": [
       "(anonymous function)"
      ]
     },
     "execution_count": 5,
     "metadata": {},
     "output_type": "execute_result"
    }
   ],
   "source": [
    "f(x) = 4x*(1-x)\n",
    "f_deriv = x -> ForwardDiff.derivative(f, x)"
   ]
  },
  {
   "cell_type": "code",
   "execution_count": 6,
   "metadata": {
    "collapsed": true
   },
   "outputs": [],
   "source": [
    "using PyPlot"
   ]
  },
  {
   "cell_type": "code",
   "execution_count": 7,
   "metadata": {
    "collapsed": false
   },
   "outputs": [
    {
     "data": {
      "image/png": "[encoded data removed]",
      "text/plain": [
       "PyPlot.Figure(PyObject <matplotlib.figure.Figure object at 0x31aea7510>)"
      ]
     },
     "metadata": {},
     "output_type": "display_data"
    },
    {
     "data": {
      "text/plain": [
       "1-element Array{Any,1}:\n",
       " PyObject <matplotlib.lines.Line2D object at 0x31af3ee90>"
      ]
     },
     "execution_count": 7,
     "metadata": {},
     "output_type": "execute_result"
    }
   ],
   "source": [
    "xx = 0:0.01:1\n",
    "plot(xx, map(f_deriv, xx))"
   ]
  },
  {
   "cell_type": "code",
   "execution_count": 1,
   "metadata": {
    "collapsed": true
   },
   "outputs": [],
   "source": [
    "using IntervalConstraintProgramming, ValidatedNumerics"
   ]
  },
  {
   "cell_type": "code",
   "execution_count": 2,
   "metadata": {
    "collapsed": false
   },
   "outputs": [
    {
     "name": "stdout",
     "output_type": "stream",
     "text": [
      "(f,args,code) = (:f,Any[:x],quote \n",
      "    (4x) * (1 - x)\n",
      "end)\n",
      "return_arguments = :_z_3_\n",
      "flatAST = input vars: Set(Symbol[:x])\n",
      "intermediate vars: Symbol[:_z_1_,:_z_2_,:_z_3_]\n",
      "code: \n",
      "Any[IntervalConstraintProgramming.Assignment(:_z_1_,:*,Any[4,:x]),IntervalConstraintProgramming.Assignment(:_z_2_,:-,Any[1,:x]),IntervalConstraintProgramming.Assignment(:_z_3_,:*,Any[:_z_1_,:_z_2_])]\n",
      "\n",
      "return_arguments = :_z_3_\n",
      "HERE\n",
      "(forward_code,backward_code) = (IntervalConstraintProgramming.GeneratedFunction(Symbol[:x],Symbol[:_z_3_,:_z_1_,:_z_2_],quote \n",
      "    _z_1_ = 4x\n",
      "    _z_2_ = 1 - x\n",
      "    _z_3_ = _z_1_ * _z_2_\n",
      "end),IntervalConstraintProgramming.GeneratedFunction(Symbol[:x,:_z_3_,:_z_1_,:_z_2_],Symbol[:x],quote \n",
      "    (_z_3_,_z_1_,_z_2_) = mul_rev(_z_3_,_z_1_,_z_2_)\n",
      "    (_z_2_,_,x) = minus_rev(_z_2_,1,x)\n",
      "    (_z_1_,_,x) = mul_rev(_z_1_,4,x)\n",
      "end))\n",
      "make_function(forward_code) = :(x->begin  # /Users/dpsanders/.julia/v0.5/IntervalConstraintProgramming/src/code_generation.jl, line 106:\n",
      "            begin  # /Users/dpsanders/.julia/v0.5/IntervalConstraintProgramming/src/code_generation.jl, line 107:\n",
      "                begin \n",
      "                    _z_1_ = 4x\n",
      "                    _z_2_ = 1 - x\n",
      "                    _z_3_ = _z_1_ * _z_2_\n",
      "                end # /Users/dpsanders/.julia/v0.5/IntervalConstraintProgramming/src/code_generation.jl, line 108:\n",
      "                return (_z_3_,_z_1_,_z_2_)\n",
      "            end\n",
      "        end)\n",
      "make_function(backward_code) = :((x,_z_3_,_z_1_,_z_2_)->begin  # /Users/dpsanders/.julia/v0.5/IntervalConstraintProgramming/src/code_generation.jl, line 106:\n",
      "            begin  # /Users/dpsanders/.julia/v0.5/IntervalConstraintProgramming/src/code_generation.jl, line 107:\n",
      "                begin \n",
      "                    (_z_3_,_z_1_,_z_2_) = mul_rev(_z_3_,_z_1_,_z_2_)\n",
      "                    (_z_2_,_,x) = minus_rev(_z_2_,1,x)\n",
      "                    (_z_1_,_,x) = mul_rev(_z_1_,4,x)\n",
      "                end # /Users/dpsanders/.julia/v0.5/IntervalConstraintProgramming/src/code_generation.jl, line 108:\n",
      "                return x\n",
      "            end\n",
      "        end)\n"
     ]
    },
    {
     "data": {
      "text/plain": [
       "IntervalConstraintProgramming.ConstraintFunction{##15#17,##16#18}(Symbol[:x],Symbol[:_z_3_,:_z_1_,:_z_2_],#15,#16)"
      ]
     },
     "execution_count": 2,
     "metadata": {},
     "output_type": "execute_result"
    }
   ],
   "source": [
    "@function f(x) = 4x*(1-x)"
   ]
  },
  {
   "cell_type": "code",
   "execution_count": 3,
   "metadata": {
    "collapsed": false
   },
   "outputs": [
    {
     "name": "stdout",
     "output_type": "stream",
     "text": [
      "ex = :(f(x) ∈ [0.6,0.8])\n",
      "code = quote  # /Users/dpsanders/.julia/v0.5/IntervalConstraintProgramming/src/separator.jl, line 67:\n",
      "    _C_1_ = @contractor($(Expr(:escape, :(f(x)))))\n",
      "    ConstraintSeparator(_C_1_.variables[2:end],[0.599999, 0.800001],_C_1_,$(Expr(:quote, :(f(x) ∈ [0.599999, 0.800001]))))\n",
      "end\n",
      "@contractor; ex=f(x)\n",
      "Entering Contractor(ex) with ex=f(x)\n",
      "(top,linear_AST) = (Symbol[:_z_4_],input vars: Set(Symbol[:x])\n",
      "intermediate vars: Symbol[:_z_4_,:_z_5_,:_z_6_]\n",
      "code: \n",
      "Any[IntervalConstraintProgramming.FunctionAssignment(Symbol[:_z_4_,:_z_5_,:_z_6_],:f,Any[:x])]\n",
      ")\n",
      "input_arguments = Symbol[:x]\n",
      "augmented_input_arguments = Symbol[:_A_,:x]\n"
     ]
    },
    {
     "data": {
      "text/plain": [
       "Separator:\n",
       "- variables: x\n",
       "- expression: f(x) ∈ [0.599999, 0.800001]\n"
      ]
     },
     "execution_count": 3,
     "metadata": {},
     "output_type": "execute_result"
    }
   ],
   "source": [
    "C = @constraint f(x) ∈ [0.6, 0.8]"
   ]
  },
  {
   "cell_type": "code",
   "execution_count": 4,
   "metadata": {
    "collapsed": false
   },
   "outputs": [
    {
     "data": {
      "text/plain": [
       "[0, 1]"
      ]
     },
     "execution_count": 4,
     "metadata": {},
     "output_type": "execute_result"
    }
   ],
   "source": [
    "X = IntervalBox(0..1)"
   ]
  },
  {
   "cell_type": "code",
   "execution_count": 6,
   "metadata": {
    "collapsed": false
   },
   "outputs": [
    {
     "data": {
      "text/plain": [
       "Paving:\n",
       "- tolerance ϵ = 0.01\n",
       "- inner approx. of length 12\n",
       "- boundary approx. of length 4"
      ]
     },
     "execution_count": 6,
     "metadata": {},
     "output_type": "execute_result"
    }
   ],
   "source": [
    "paving = pave(C, X)"
   ]
  },
  {
   "cell_type": "code",
   "execution_count": 7,
   "metadata": {
    "collapsed": false
   },
   "outputs": [
    {
     "data": {
      "text/plain": [
       "12-element Array{ValidatedNumerics.IntervalBox{1,Float64},1}:\n",
       " [0.768432, 0.804798]\n",
       " [0.810695, 0.814974]\n",
       " [0.804797, 0.810696]\n",
       " [0.739729, 0.768433]\n",
       " [0.730784, 0.73973] \n",
       " [0.726321, 0.730785]\n",
       " [0.231567, 0.260271]\n",
       " [0.269215, 0.273679]\n",
       " [0.26027, 0.269216] \n",
       " [0.195202, 0.231568]\n",
       " [0.189304, 0.195203]\n",
       " [0.185026, 0.189305]"
      ]
     },
     "execution_count": 7,
     "metadata": {},
     "output_type": "execute_result"
    }
   ],
   "source": [
    "paving.inner"
   ]
  },
  {
   "cell_type": "code",
   "execution_count": 8,
   "metadata": {
    "collapsed": true
   },
   "outputs": [],
   "source": [
    "using Plots\n",
    "gr()"
   ]
  },
  {
   "cell_type": "code",
   "execution_count": 9,
   "metadata": {
    "collapsed": false
   },
   "outputs": [
    {
     "data": {
      "text/plain": [
       "12-element Array{ValidatedNumerics.IntervalBox{2,Float64},1}:\n",
       " [0.768432, 0.804798] × [0, 1]\n",
       " [0.810695, 0.814974] × [0, 1]\n",
       " [0.804797, 0.810696] × [0, 1]\n",
       " [0.739729, 0.768433] × [0, 1]\n",
       " [0.730784, 0.73973] × [0, 1] \n",
       " [0.726321, 0.730785] × [0, 1]\n",
       " [0.231567, 0.260271] × [0, 1]\n",
       " [0.269215, 0.273679] × [0, 1]\n",
       " [0.26027, 0.269216] × [0, 1] \n",
       " [0.195202, 0.231568] × [0, 1]\n",
       " [0.189304, 0.195203] × [0, 1]\n",
       " [0.185026, 0.189305] × [0, 1]"
      ]
     },
     "execution_count": 9,
     "metadata": {},
     "output_type": "execute_result"
    }
   ],
   "source": [
    "boxes = [IntervalBox(x, 0..1) for x in paving.inner]"
   ]
  },
  {
   "cell_type": "code",
   "execution_count": 12,
   "metadata": {
    "collapsed": false
   },
   "outputs": [
    {
     "data": {
      "text/html": [
       "<img src=\"data:image/png;base64,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\" />"
      ]
     },
     "execution_count": 12,
     "metadata": {},
     "output_type": "execute_result"
    }
   ],
   "source": [
    "plot(boxes, xlim=(0,1), ylim=(0,1))\n",
    "plot!(x->4*x*(1-x))"
   ]
  },
  {
   "cell_type": "code",
   "execution_count": 13,
   "metadata": {
    "collapsed": false
   },
   "outputs": [
    {
     "name": "stdout",
     "output_type": "stream",
     "text": [
      "ex = :(f(f(x)) ∈ [0.6,0.8])\n",
      "code = quote  # /Users/dpsanders/.julia/v0.5/IntervalConstraintProgramming/src/separator.jl, line 67:\n",
      "    _C_2_ = @contractor($(Expr(:escape, :(f(f(x))))))\n",
      "    ConstraintSeparator(_C_2_.variables[2:end],[0.599999, 0.800001],_C_2_,$(Expr(:quote, :(f(f(x)) ∈ [0.599999, 0.800001]))))\n",
      "end\n",
      "@contractor; ex=f(f(x))\n",
      "Entering Contractor(ex) with ex=f(f(x))\n",
      "(top,linear_AST) = (Symbol[:_z_10_],input vars: Set(Symbol[:x])\n",
      "intermediate vars: Symbol[:_z_7_,:_z_8_,:_z_9_,:_z_10_,:_z_11_,:_z_12_]\n",
      "code: \n",
      "Any[IntervalConstraintProgramming.FunctionAssignment(Symbol[:_z_7_,:_z_8_,:_z_9_],:f,Any[:x]),IntervalConstraintProgramming.FunctionAssignment(Symbol[:_z_10_,:_z_11_,:_z_12_],:f,Any[:_z_7_])]\n",
      ")\n",
      "input_arguments = Symbol[:x]\n",
      "augmented_input_arguments = Symbol[:_A_,:x]\n"
     ]
    },
    {
     "data": {
      "text/html": [
       "<img src=\"data:image/png;base64,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\" />"
      ]
     },
     "execution_count": 13,
     "metadata": {},
     "output_type": "execute_result"
    }
   ],
   "source": [
    "C2 = @constraint f(f(x)) ∈ [0.6, 0.8]\n",
    "paving = pave(C2, X)\n",
    "boxes = [IntervalBox(x, 0..1) for x in paving.inner]\n",
    "\n",
    "plot(boxes, xlim=(0,1), ylim=(0,1))\n",
    "plot!(x->4*x*(1-x))"
   ]
  },
  {
   "cell_type": "code",
   "execution_count": 14,
   "metadata": {
    "collapsed": false
   },
   "outputs": [
    {
     "name": "stdout",
     "output_type": "stream",
     "text": [
      "ex = :(f(f(f(x))) ∈ [0.6,0.8])\n",
      "code = quote  # /Users/dpsanders/.julia/v0.5/IntervalConstraintProgramming/src/separator.jl, line 67:\n",
      "    _C_3_ = @contractor($(Expr(:escape, :(f(f(f(x)))))))\n",
      "    ConstraintSeparator(_C_3_.variables[2:end],[0.599999, 0.800001],_C_3_,$(Expr(:quote, :(f(f(f(x))) ∈ [0.599999, 0.800001]))))\n",
      "end\n",
      "@contractor; ex=f(f(f(x)))\n",
      "Entering Contractor(ex) with ex=f(f(f(x)))\n",
      "(top,linear_AST) = (Symbol[:_z_19_],input vars: Set(Symbol[:x])\n",
      "intermediate vars: Symbol[:_z_13_,:_z_14_,:_z_15_,:_z_16_,:_z_17_,:_z_18_,:_z_19_,:_z_20_,:_z_21_]\n",
      "code: \n",
      "Any[IntervalConstraintProgramming.FunctionAssignment(Symbol[:_z_13_,:_z_14_,:_z_15_],:f,Any[:x]),IntervalConstraintProgramming.FunctionAssignment(Symbol[:_z_16_,:_z_17_,:_z_18_],:f,Any[:_z_13_]),IntervalConstraintProgramming.FunctionAssignment(Symbol[:_z_19_,:_z_20_,:_z_21_],:f,Any[:_z_16_])]\n",
      ")\n",
      "input_arguments = Symbol[:x]\n",
      "augmented_input_arguments = Symbol[:_A_,:x]\n"
     ]
    },
    {
     "data": {
      "text/html": [
       "<img src=\"data:image/png;base64,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\" />"
      ]
     },
     "execution_count": 14,
     "metadata": {},
     "output_type": "execute_result"
    }
   ],
   "source": [
    "C2 = @constraint f(f(f(x))) ∈ [0.6, 0.8]\n",
    "paving = pave(C2, X, 0.001)\n",
    "boxes = [IntervalBox(x, 0..1) for x in paving.inner]\n",
    "\n",
    "plot(boxes, xlim=(0,1), ylim=(0,1))\n",
    "plot!(x->4*x*(1-x))"
   ]
  },
  {
   "cell_type": "code",
   "execution_count": 16,
   "metadata": {
    "collapsed": false
   },
   "outputs": [
    {
     "name": "stdout",
     "output_type": "stream",
     "text": [
      "ex = :(f(f(f(f(x)))) ∈ [0.6,0.8])\n",
      "code = quote  # /Users/dpsanders/.julia/v0.5/IntervalConstraintProgramming/src/separator.jl, line 67:\n",
      "    _C_5_ = @contractor($(Expr(:escape, :(f(f(f(f(x))))))))\n",
      "    ConstraintSeparator(_C_5_.variables[2:end],[0.599999, 0.800001],_C_5_,$(Expr(:quote, :(f(f(f(f(x)))) ∈ [0.599999, 0.800001]))))\n",
      "end\n",
      "@contractor; ex=f(f(f(f(x))))\n",
      "Entering Contractor(ex) with ex=f(f(f(f(x))))\n",
      "(top,linear_AST) = (Symbol[:_z_43_],input vars: Set(Symbol[:x])\n",
      "intermediate vars: Symbol[:_z_34_,:_z_35_,:_z_36_,:_z_37_,:_z_38_,:_z_39_,:_z_40_,:_z_41_,:_z_42_,:_z_43_,:_z_44_,:_z_45_]\n",
      "code: \n",
      "Any[IntervalConstraintProgramming.FunctionAssignment(Symbol[:_z_34_,:_z_35_,:_z_36_],:f,Any[:x]),IntervalConstraintProgramming.FunctionAssignment(Symbol[:_z_37_,:_z_38_,:_z_39_],:f,Any[:_z_34_]),IntervalConstraintProgramming.FunctionAssignment(Symbol[:_z_40_,:_z_41_,:_z_42_],:f,Any[:_z_37_]),IntervalConstraintProgramming.FunctionAssignment(Symbol[:_z_43_,:_z_44_,:_z_45_],:f,Any[:_z_40_])]\n",
      ")\n",
      "input_arguments = Symbol[:x]\n",
      "augmented_input_arguments = Symbol[:_A_,:x]\n"
     ]
    },
    {
     "data": {
      "text/html": [
       "<img src=\"data:image/png;base64,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\" />"
      ]
     },
     "execution_count": 16,
     "metadata": {},
     "output_type": "execute_result"
    }
   ],
   "source": [
    "C2 = @constraint f(f(f(f(x)))) ∈ [0.6, 0.8]\n",
    "paving = pave(C2, X, 0.001)\n",
    "boxes = [IntervalBox(x, 0..1) for x in paving.inner]\n",
    "\n",
    "plot(boxes, xlim=(0,1), ylim=(0,1), aspect_ratio=:equal)\n",
    "plot!(x->4*x*(1-x))"
   ]
  },
  {
   "cell_type": "code",
   "execution_count": 27,
   "metadata": {
    "collapsed": false
   },
   "outputs": [
    {
     "name": "stdout",
     "output_type": "stream",
     "text": [
      "ex = :(f(f(f(f(x)))) ∈ [0.4,0.8])\n",
      "code = quote  # /Users/dpsanders/.julia/v0.5/IntervalConstraintProgramming/src/separator.jl, line 67:\n",
      "    _C_16_ = @contractor($(Expr(:escape, :(f(f(f(f(x))))))))\n",
      "    ConstraintSeparator(_C_16_.variables[2:end],[0.399999, 0.800001],_C_16_,$(Expr(:quote, :(f(f(f(f(x)))) ∈ [0.399999, 0.800001]))))\n",
      "end\n",
      "@contractor; ex=f(f(f(f(x))))\n",
      "Entering Contractor(ex) with ex=f(f(f(f(x))))\n",
      "(top,linear_AST) = (Symbol[:_z_160_],input vars: Set(Symbol[:x])\n",
      "intermediate vars: Symbol[:_z_151_,:_z_152_,:_z_153_,:_z_154_,:_z_155_,:_z_156_,:_z_157_,:_z_158_,:_z_159_,:_z_160_,:_z_161_,:_z_162_]\n",
      "code: \n",
      "Any[IntervalConstraintProgramming.FunctionAssignment(Symbol[:_z_151_,:_z_152_,:_z_153_],:f,Any[:x]),IntervalConstraintProgramming.FunctionAssignment(Symbol[:_z_154_,:_z_155_,:_z_156_],:f,Any[:_z_151_]),IntervalConstraintProgramming.FunctionAssignment(Symbol[:_z_157_,:_z_158_,:_z_159_],:f,Any[:_z_154_]),IntervalConstraintProgramming.FunctionAssignment(Symbol[:_z_160_,:_z_161_,:_z_162_],:f,Any[:_z_157_])]\n",
      ")\n",
      "input_arguments = Symbol[:x]\n",
      "augmented_input_arguments = Symbol[:_A_,:x]\n"
     ]
    },
    {
     "data": {
      "text/html": [
       "<img src=\"data:image/png;base64,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\" />"
      ]
     },
     "execution_count": 27,
     "metadata": {},
     "output_type": "execute_result"
    }
   ],
   "source": [
    "C3 = @constraint f(f(f(f(x)))) ∈ [0.4, 0.8]\n",
    "paving = pave(C3, X, 0.001)\n",
    "inner = [IntervalBox(x, 0..1) for x in paving.inner]\n",
    "boundary = [IntervalBox(x, 0..1) for x in paving.boundary]\n",
    "\n",
    "plot(inner, xlim=(0,1), ylim=(0,1), aspect_ratio=:equal)\n",
    "plot!(boundary, xlim=(0,1), ylim=(0,1), aspect_ratio=:equal, c=:gray)\n",
    "plot!(x->4*x*(1-x))"
   ]
  },
  {
   "cell_type": "code",
   "execution_count": 30,
   "metadata": {
    "collapsed": false
   },
   "outputs": [
    {
     "name": "stdout",
     "output_type": "stream",
     "text": [
      "(f,args,code) = (:g,Any[:x],quote \n",
      "    (5x) * (1 - x)\n",
      "end)\n",
      "return_arguments = :_z_175_\n",
      "flatAST = input vars: Set(Symbol[:x])\n",
      "intermediate vars: Symbol[:_z_173_,:_z_174_,:_z_175_]\n",
      "code: \n",
      "Any[IntervalConstraintProgramming.Assignment(:_z_173_,:*,Any[5,:x]),IntervalConstraintProgramming.Assignment(:_z_174_,:-,Any[1,:x]),IntervalConstraintProgramming.Assignment(:_z_175_,:*,Any[:_z_173_,:_z_174_])]\n",
      "\n",
      "return_arguments = :_z_175_\n",
      "HERE\n",
      "(forward_code,backward_code) = (IntervalConstraintProgramming.GeneratedFunction(Symbol[:x],Symbol[:_z_175_,:_z_173_,:_z_174_],quote \n",
      "    _z_173_ = 5x\n",
      "    _z_174_ = 1 - x\n",
      "    _z_175_ = _z_173_ * _z_174_\n",
      "end),IntervalConstraintProgramming.GeneratedFunction(Symbol[:x,:_z_175_,:_z_173_,:_z_174_],Symbol[:x],quote \n",
      "    (_z_175_,_z_173_,_z_174_) = mul_rev(_z_175_,_z_173_,_z_174_)\n",
      "    (_z_174_,_,x) = minus_rev(_z_174_,1,x)\n",
      "    (_z_173_,_,x) = mul_rev(_z_173_,5,x)\n",
      "end))\n",
      "make_function(forward_code) = :(x->begin  # /Users/dpsanders/.julia/v0.5/IntervalConstraintProgramming/src/code_generation.jl, line 106:\n",
      "            begin  # /Users/dpsanders/.julia/v0.5/IntervalConstraintProgramming/src/code_generation.jl, line 107:\n",
      "                begin \n",
      "                    _z_173_ = 5x\n",
      "                    _z_174_ = 1 - x\n",
      "                    _z_175_ = _z_173_ * _z_174_\n",
      "                end # /Users/dpsanders/.julia/v0.5/IntervalConstraintProgramming/src/code_generation.jl, line 108:\n",
      "                return (_z_175_,_z_173_,_z_174_)\n",
      "            end\n",
      "        end)\n",
      "make_function(backward_code) = :((x,_z_175_,_z_173_,_z_174_)->begin  # /Users/dpsanders/.julia/v0.5/IntervalConstraintProgramming/src/code_generation.jl, line 106:\n",
      "            begin  # /Users/dpsanders/.julia/v0.5/IntervalConstraintProgramming/src/code_generation.jl, line 107:\n",
      "                begin \n",
      "                    (_z_175_,_z_173_,_z_174_) = mul_rev(_z_175_,_z_173_,_z_174_)\n",
      "                    (_z_174_,_,x) = minus_rev(_z_174_,1,x)\n",
      "                    (_z_173_,_,x) = mul_rev(_z_173_,5,x)\n",
      "                end # /Users/dpsanders/.julia/v0.5/IntervalConstraintProgramming/src/code_generation.jl, line 108:\n",
      "                return x\n",
      "            end\n",
      "        end)\n",
      "ex = :(g(g(x)) ∈ [0,1])\n",
      "code = quote  # /Users/dpsanders/.julia/v0.5/IntervalConstraintProgramming/src/separator.jl, line 67:\n",
      "    _C_19_ = @contractor($(Expr(:escape, :(g(g(x))))))\n",
      "    ConstraintSeparator(_C_19_.variables[2:end],[0, 1],_C_19_,$(Expr(:quote, :(g(g(x)) ∈ [0, 1]))))\n",
      "end\n",
      "@contractor; ex=g(g(x))\n",
      "Entering Contractor(ex) with ex=g(g(x))\n",
      "(top,linear_AST) = (Symbol[:_z_179_],input vars: Set(Symbol[:x])\n",
      "intermediate vars: Symbol[:_z_176_,:_z_177_,:_z_178_,:_z_179_,:_z_180_,:_z_181_]\n",
      "code: \n",
      "Any[IntervalConstraintProgramming.FunctionAssignment(Symbol[:_z_176_,:_z_177_,:_z_178_],:g,Any[:x]),IntervalConstraintProgramming.FunctionAssignment(Symbol[:_z_179_,:_z_180_,:_z_181_],:g,Any[:_z_176_])]\n",
      ")\n",
      "input_arguments = Symbol[:x]\n",
      "augmented_input_arguments = Symbol[:_A_,:x]\n"
     ]
    },
    {
     "data": {
      "text/html": [
       "<img src=\"data:image/png;base64,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\" />"
      ]
     },
     "execution_count": 30,
     "metadata": {},
     "output_type": "execute_result"
    }
   ],
   "source": [
    "@function g(x) = 5x*(1-x)\n",
    "C4 = @constraint g(g(x)) ∈ [0, 1]\n",
    "\n",
    "paving = pave(C4, X, 0.001)\n",
    "inner = [IntervalBox(x, 0..1) for x in paving.inner]\n",
    "boundary = [IntervalBox(x, 0..1) for x in paving.boundary]\n",
    "\n",
    "plot(inner, xlim=(0,1), ylim=(0,1), aspect_ratio=:equal)\n",
    "plot!(boundary, xlim=(0,1), ylim=(0,1), aspect_ratio=:equal, c=:gray)\n",
    "plot!(x->5*x*(1-x))"
   ]
  },
  {
   "cell_type": "code",
   "execution_count": null,
   "metadata": {
    "collapsed": true
   },
   "outputs": [],
   "source": []
  }
 ],
 "metadata": {
  "anaconda-cloud": {},
  "kernelspec": {
   "display_name": "Julia 0.5.0",
   "language": "julia",
   "name": "julia-0.5"
  },
  "language_info": {
   "file_extension": ".jl",
   "mimetype": "application/julia",
   "name": "julia",
   "version": "0.5.0"
  },
  "toc": {
   "nav_menu": {
    "height": "65px",
    "width": "253px"
   },
   "navigate_menu": true,
   "number_sections": true,
   "sideBar": true,
   "threshold": "2",
   "toc_cell": false,
   "toc_section_display": "block",
   "toc_window_display": false
  }
 },
 "nbformat": 4,
 "nbformat_minor": 0
}
