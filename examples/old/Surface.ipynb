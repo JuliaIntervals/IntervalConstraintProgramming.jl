{
 "cells": [
  {
   "cell_type": "code",
   "execution_count": 1,
   "metadata": {
    "collapsed": false
   },
   "outputs": [],
   "source": [
    "using IntervalConstraintProgramming, ValidatedNumerics"
   ]
  },
  {
   "cell_type": "code",
   "execution_count": 2,
   "metadata": {
    "collapsed": false
   },
   "outputs": [
    {
     "data": {
      "text/plain": [
       "Separator with variables x, y"
      ]
     },
     "execution_count": 2,
     "metadata": {},
     "output_type": "execute_result"
    }
   ],
   "source": [
    "disc1 = @constraint x^2 + y^2 <= 0.125\n",
    "disc2 = @constraint (x-1)^2 + y^2 <= 0.125\n",
    "disc3 = @constraint (x-1)^2 + (y-1)^2 <= 0.125\n",
    "disc4 = @constraint x^2 + (y-1)^2 <= 0.125\n",
    "\n",
    "# x_domain = @constraint 0 <= x <= 1\n",
    "# y_domain = @constraint 0 <= y <= 1\n",
    "\n",
    "# configuration_space = (x_domain ∩ y_domain) ∩ !(disc1 ∪ disc2 ∪ disc3 ∪ disc4)\n",
    "configuration_space = !(disc1 ∪ disc2 ∪ disc3 ∪ disc4)"
   ]
  },
  {
   "cell_type": "code",
   "execution_count": 3,
   "metadata": {
    "collapsed": false
   },
   "outputs": [
    {
     "name": "stdout",
     "output_type": "stream",
     "text": [
      "  1.506502 seconds (4.55 M allocations: 158.780 MB, 4.58% gc time)\n"
     ]
    }
   ],
   "source": [
    "X = IntervalBox(0..1, 0..1)\n",
    "@time inner, boundary = pave(configuration_space, X, 0.01);"
   ]
  },
  {
   "cell_type": "code",
   "execution_count": 4,
   "metadata": {
    "collapsed": false
   },
   "outputs": [
    {
     "name": "stderr",
     "output_type": "stream",
     "text": [
      "/Users/dpsanders/.julia/v0.4/Conda/deps/usr/lib/python2.7/site-packages/matplotlib/font_manager.py:273: UserWarning: Matplotlib is building the font cache using fc-list. This may take a moment.\n",
      "  warnings.warn('Matplotlib is building the font cache using fc-list. This may take a moment.')\n"
     ]
    },
    {
     "data": {
      "text/plain": [
       "draw (generic function with 5 methods)"
      ]
     },
     "execution_count": 4,
     "metadata": {},
     "output_type": "execute_result"
    }
   ],
   "source": [
    "include(\"draw_boxes.jl\")"
   ]
  },
  {
   "cell_type": "code",
   "execution_count": 5,
   "metadata": {
    "collapsed": false
   },
   "outputs": [
    {
     "data": {
      "image/png": "[encoded data removed]",
      "text/plain": [
       "PyPlot.Figure(PyObject <matplotlib.figure.Figure object at 0x320ffed50>)"
      ]
     },
     "metadata": {},
     "output_type": "display_data"
    },
    {
     "data": {
      "text/plain": [
       "(-5.551115123125783e-17,1.0,0.0,1.0)"
      ]
     },
     "execution_count": 5,
     "metadata": {},
     "output_type": "execute_result"
    }
   ],
   "source": [
    "draw(inner, \"green\", 0.5, 0); draw(boundary, \"grey\", 0.5)"
   ]
  },
  {
   "cell_type": "code",
   "execution_count": 4,
   "metadata": {
    "collapsed": false
   },
   "outputs": [
    {
     "data": {
      "text/plain": [
       "Separator with variables sinθ"
      ]
     },
     "execution_count": 4,
     "metadata": {},
     "output_type": "execute_result"
    }
   ],
   "source": [
    "angle_domain = @constraint -1 <= sinθ <= 1"
   ]
  },
  {
   "cell_type": "code",
   "execution_count": 5,
   "metadata": {
    "collapsed": false
   },
   "outputs": [
    {
     "data": {
      "text/plain": [
       "Separator with variables sinθ, x, y"
      ]
     },
     "execution_count": 5,
     "metadata": {},
     "output_type": "execute_result"
    }
   ],
   "source": [
    "phase_space = configuration_space ∩ angle_domain"
   ]
  },
  {
   "cell_type": "code",
   "execution_count": 38,
   "metadata": {
    "collapsed": false
   },
   "outputs": [
    {
     "name": "stdout",
     "output_type": "stream",
     "text": [
      "145.724099 seconds (1.07 G allocations: 32.050 GB, 13.68% gc time)\n"
     ]
    }
   ],
   "source": [
    "Y = IntervalBox(-1..1, 0..1, 0..1)\n",
    "@time inner2, boundary2 = pave(phase_space, Y, 0.01);"
   ]
  },
  {
   "cell_type": "code",
   "execution_count": 39,
   "metadata": {
    "collapsed": false
   },
   "outputs": [
    {
     "data": {
      "text/plain": [
       "42644"
      ]
     },
     "execution_count": 39,
     "metadata": {},
     "output_type": "execute_result"
    }
   ],
   "source": [
    "length(inner2)"
   ]
  },
  {
   "cell_type": "markdown",
   "metadata": {},
   "source": [
    "## 3D vis "
   ]
  },
  {
   "cell_type": "code",
   "execution_count": 16,
   "metadata": {
    "collapsed": false
   },
   "outputs": [
    {
     "name": "stdout",
     "output_type": "stream",
     "text": [
      " 16.633983 seconds (35.20 M allocations: 1.012 GB, 4.16% gc time)\n"
     ]
    }
   ],
   "source": [
    "S = @constraint x^2 + y^3 - z^2 > 0\n",
    "Y = IntervalBox(-2..2, -2..2, -2..2)\n",
    "\n",
    "@time inner2, boundary2 = pave(S, Y, 0.1);"
   ]
  },
  {
   "cell_type": "code",
   "execution_count": 5,
   "metadata": {
    "collapsed": false
   },
   "outputs": [],
   "source": [
    "using GLVisualize, GeometryTypes, Colors"
   ]
  },
  {
   "cell_type": "code",
   "execution_count": 17,
   "metadata": {
    "collapsed": false
   },
   "outputs": [
    {
     "data": {
      "text/plain": [
       "3406"
      ]
     },
     "execution_count": 17,
     "metadata": {},
     "output_type": "execute_result"
    }
   ],
   "source": [
    "length(inner2)"
   ]
  },
  {
   "cell_type": "code",
   "execution_count": 18,
   "metadata": {
    "collapsed": false
   },
   "outputs": [],
   "source": [
    "positions = Point3{Float32}[Point3(mid(x)) for x in inner2]\n",
    "scales = Vec3f0[Vec3f0([diam(x) for x in xx]) for xx in inner2]\n",
    "colors = [RGBA(1f0, 0f0, 0f0, 0.1f0) for xx in inner2];"
   ]
  },
  {
   "cell_type": "code",
   "execution_count": 20,
   "metadata": {
    "collapsed": false
   },
   "outputs": [
    {
     "name": "stdout",
     "output_type": "stream",
     "text": [
      "Visualization packages loaded.\n",
      "Set inversion finished\n"
     ]
    }
   ],
   "source": [
    "\n",
    "using GLVisualize, GeometryTypes, GLAbstraction, Colors\n",
    "\n",
    "println(\"Visualization packages loaded.\")\n",
    "\n",
    "\n",
    "println(\"Set inversion finished\")\n",
    "\n",
    "cube_particle = HyperRectangle{3, Float32}(Vec3f0(-0.5, -0.5, -0.5), Vec3f0(1, 1, 1))\n",
    "\n",
    "# function cube(X::IntervalBox, inner=true)\n",
    "#     lo = [x.lo for x in X]  # what's the good way to do this?\n",
    "#     hi = [x.hi for x in X]\n",
    "#     #color = Float32((hi[3] + 2.) / 4)\n",
    "#     #c = Float32(abs(hi[3]) / 2.)\n",
    "#     #mycolor = RGBA(1f0, c, c/2, 0.2f0)\n",
    "#     if inner\n",
    "#         mycolor = RGBA(1f0, 0f0, 0f0, 0.1f0)\n",
    "#     else\n",
    "#         mycolor = RGBA(0f0, 1f0, 0f0, 0.1f0)\n",
    "#     end\n",
    "#     return (HyperRectangle{3, Float32}(Vec3f0(lo), Vec3f0(hi - lo)), mycolor)\n",
    "# end\n",
    "\n",
    "window = glscreen()\n",
    "\n",
    "# create an array of differently colored boxes in the direction of the 3 axes\n",
    "#cubes = map(cube, inner2)\n",
    "#boundarycubes = [cube(x, false) for x in boundary]\n",
    "\n",
    "# convert to an array of normal meshes\n",
    "# note, that the constructor is a bit weird. GLNormalMesh takes a tuple of\n",
    "# a geometry and a color. This means, the geometry will be converted to a GLNormalMesh\n",
    "# and the color will be added afterwards, so the resulting type is a GLNormalColorMesh\n",
    "#meshes = map(GLNormalMesh, cubes)\n",
    "# merge them into one big mesh\n",
    "# the resulting type is a GLNormalAttributeMesh, since we merged meshes with different\n",
    "# attributes (colors). An array of the colors will be created and each vertex in the\n",
    "# mesh will be asigned to one of the colors found there.\n",
    "#colored_mesh = merge(meshes)\n",
    "#view(visualize(colored_mesh), window)\n",
    "\n",
    "vis = visualize( (cube_particle, positions), scale=scales, color=colors)\n",
    "\n",
    "view(vis)\n",
    "\n",
    "\n",
    "renderloop(window)"
   ]
  },
  {
   "cell_type": "code",
   "execution_count": null,
   "metadata": {
    "collapsed": true
   },
   "outputs": [],
   "source": []
  }
 ],
 "metadata": {
  "kernelspec": {
   "display_name": "Julia 0.4.5",
   "language": "julia",
   "name": "julia-0.4"
  },
  "language_info": {
   "file_extension": ".jl",
   "mimetype": "application/julia",
   "name": "julia",
   "version": "0.4.5"
  }
 },
 "nbformat": 4,
 "nbformat_minor": 0
}
