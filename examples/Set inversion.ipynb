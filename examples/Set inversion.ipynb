{
 "cells": [
  {
   "cell_type": "code",
   "execution_count": 1,
   "metadata": {
    "collapsed": false
   },
   "outputs": [],
   "source": [
    "using IntervalConstraintProgramming, ValidatedNumerics"
   ]
  },
  {
   "cell_type": "code",
   "execution_count": null,
   "metadata": {
    "collapsed": true
   },
   "outputs": [],
   "source": []
  },
  {
   "cell_type": "code",
   "execution_count": 2,
   "metadata": {
    "collapsed": false
   },
   "outputs": [
    {
     "name": "stderr",
     "output_type": "stream",
     "text": [
      "INFO: Recompiling stale cache file /Users/dpsanders/.julia/lib/v0.4/PyCall.ji for module PyCall.\n",
      "INFO: Recompiling stale cache file /Users/dpsanders/.julia/lib/v0.4/Conda.ji for module Conda.\n",
      "INFO: Recompiling stale cache file /Users/dpsanders/.julia/lib/v0.4/PyPlot.ji for module PyPlot.\n",
      "/usr/local/lib/python2.7/site-packages/matplotlib/font_manager.py:273: UserWarning: Matplotlib is building the font cache using fc-list. This may take a moment.\n",
      "  warnings.warn('Matplotlib is building the font cache using fc-list. This may take a moment.')\n"
     ]
    },
    {
     "data": {
      "text/plain": [
       "draw (generic function with 13 methods)"
      ]
     },
     "execution_count": 2,
     "metadata": {},
     "output_type": "execute_result"
    }
   ],
   "source": [
    "include(\"draw_boxes.jl\")"
   ]
  },
  {
   "cell_type": "code",
   "execution_count": 20,
   "metadata": {
    "collapsed": false
   },
   "outputs": [
    {
     "data": {
      "text/plain": [
       "[10, 11]"
      ]
     },
     "execution_count": 20,
     "metadata": {},
     "output_type": "execute_result"
    }
   ],
   "source": [
    "x = y = -∞..∞\n",
    "x = 10..11"
   ]
  },
  {
   "cell_type": "code",
   "execution_count": 21,
   "metadata": {
    "collapsed": false
   },
   "outputs": [
    {
     "data": {
      "text/plain": [
       "[100, 121]"
      ]
     },
     "execution_count": 21,
     "metadata": {},
     "output_type": "execute_result"
    }
   ],
   "source": [
    "z1 = x^2"
   ]
  },
  {
   "cell_type": "code",
   "execution_count": 22,
   "metadata": {
    "collapsed": false
   },
   "outputs": [
    {
     "data": {
      "text/plain": [
       "[0, ∞]"
      ]
     },
     "execution_count": 22,
     "metadata": {},
     "output_type": "execute_result"
    }
   ],
   "source": [
    "z2 = y^2"
   ]
  },
  {
   "cell_type": "code",
   "execution_count": 23,
   "metadata": {
    "collapsed": false
   },
   "outputs": [
    {
     "data": {
      "text/plain": [
       "[100, ∞]"
      ]
     },
     "execution_count": 23,
     "metadata": {},
     "output_type": "execute_result"
    }
   ],
   "source": [
    "z3 = z1 + z2"
   ]
  },
  {
   "cell_type": "code",
   "execution_count": 24,
   "metadata": {
    "collapsed": false
   },
   "outputs": [
    {
     "data": {
      "text/plain": [
       "∅"
      ]
     },
     "execution_count": 24,
     "metadata": {},
     "output_type": "execute_result"
    }
   ],
   "source": [
    "z3 = z3 ∩ (0..1)"
   ]
  },
  {
   "cell_type": "code",
   "execution_count": 25,
   "metadata": {
    "collapsed": false
   },
   "outputs": [
    {
     "data": {
      "text/plain": [
       "∅"
      ]
     },
     "execution_count": 25,
     "metadata": {},
     "output_type": "execute_result"
    }
   ],
   "source": [
    "z1 = z1 ∩ (z3 - z2)"
   ]
  },
  {
   "cell_type": "code",
   "execution_count": 26,
   "metadata": {
    "collapsed": false
   },
   "outputs": [
    {
     "data": {
      "text/plain": [
       "∅"
      ]
     },
     "execution_count": 26,
     "metadata": {},
     "output_type": "execute_result"
    }
   ],
   "source": [
    "IntervalConstraintProgramming.sqr_rev(z1, x)"
   ]
  },
  {
   "cell_type": "code",
   "execution_count": 19,
   "metadata": {
    "collapsed": true
   },
   "outputs": [],
   "source": [
    "macro simple(expr)\n",
    "    @show expr\n",
    "    return nothing\n",
    "end"
   ]
  },
  {
   "cell_type": "code",
   "execution_count": 2,
   "metadata": {
    "collapsed": false
   },
   "outputs": [
    {
     "name": "stdout",
     "output_type": "stream",
     "text": [
      "expr = :(1 <= x ^ 2 + y ^ 2 <= 3)\n"
     ]
    }
   ],
   "source": [
    "@simple 1 <= x^2 + y^2 <= 3"
   ]
  },
  {
   "cell_type": "code",
   "execution_count": 5,
   "metadata": {
    "collapsed": false
   },
   "outputs": [
    {
     "data": {
      "text/plain": [
       "Separator:\n",
       "- variables: x, y\n",
       "- expression: x ^ 2 + y ^ 2 ∈ [1, 3]\n"
      ]
     },
     "execution_count": 5,
     "metadata": {},
     "output_type": "execute_result"
    }
   ],
   "source": [
    "S1 = @constraint 1 <= x^2 + y^2 <= 3"
   ]
  },
  {
   "cell_type": "code",
   "execution_count": 21,
   "metadata": {
    "collapsed": false
   },
   "outputs": [
    {
     "data": {
      "text/plain": [
       "draw (generic function with 15 methods)"
      ]
     },
     "execution_count": 21,
     "metadata": {},
     "output_type": "execute_result"
    }
   ],
   "source": [
    "function draw(inner)\n",
    "    draw_boxes(inner, \"green\", 0.5)\n",
    "    axis(\"image\")\n",
    "end\n",
    "\n",
    "function draw(inner, boundary)\n",
    "    draw_boxes(inner, \"green\", 0.5)\n",
    "    draw_boxes(boundary, \"gray\", 0.5)\n",
    "    axis(\"image\")\n",
    "end"
   ]
  },
  {
   "cell_type": "code",
   "execution_count": 6,
   "metadata": {
    "collapsed": false
   },
   "outputs": [
    {
     "data": {
      "image/png": "[encoded data removed]",
      "text/plain": [
       "PyPlot.Figure(PyObject <matplotlib.figure.Figure object at 0x31cd8e9d0>)"
      ]
     },
     "metadata": {},
     "output_type": "display_data"
    },
    {
     "data": {
      "text/plain": [
       "(-1.7320508075688776,1.7320508075688767,-1.7320508075688772,1.7320508075688772)"
      ]
     },
     "execution_count": 6,
     "metadata": {},
     "output_type": "execute_result"
    }
   ],
   "source": [
    "X = IntervalBox(-100..100, -100..100)\n",
    "paving = pave(S1, X, ldexp(1., -3))\n",
    "draw(paving)"
   ]
  },
  {
   "cell_type": "code",
   "execution_count": 7,
   "metadata": {
    "collapsed": false
   },
   "outputs": [
    {
     "data": {
      "text/plain": [
       "2-dimensional area: [5.9714, 6.59028]"
      ]
     },
     "execution_count": 7,
     "metadata": {},
     "output_type": "execute_result"
    }
   ],
   "source": [
    "Vol(paving)"
   ]
  },
  {
   "cell_type": "code",
   "execution_count": 8,
   "metadata": {
    "collapsed": false
   },
   "outputs": [
    {
     "data": {
      "text/plain": [
       "0.0625"
      ]
     },
     "execution_count": 8,
     "metadata": {},
     "output_type": "execute_result"
    }
   ],
   "source": [
    "refine!(paving, ldexp(1.,-4))"
   ]
  },
  {
   "cell_type": "code",
   "execution_count": 9,
   "metadata": {
    "collapsed": false
   },
   "outputs": [
    {
     "data": {
      "text/plain": [
       "2-dimensional area: [6.12788, 6.43732]"
      ]
     },
     "execution_count": 9,
     "metadata": {},
     "output_type": "execute_result"
    }
   ],
   "source": [
    "Vol(paving)"
   ]
  },
  {
   "cell_type": "code",
   "execution_count": 10,
   "metadata": {
    "collapsed": false
   },
   "outputs": [
    {
     "data": {
      "image/png": "[encoded data removed]",
      "text/plain": [
       "PyPlot.Figure(PyObject <matplotlib.figure.Figure object at 0x31d6742d0>)"
      ]
     },
     "metadata": {},
     "output_type": "display_data"
    },
    {
     "data": {
      "text/plain": [
       "(-1.7320508075688776,1.732050807568878,-1.7320508075688774,1.7320508075688772)"
      ]
     },
     "execution_count": 10,
     "metadata": {},
     "output_type": "execute_result"
    }
   ],
   "source": [
    "draw(paving)"
   ]
  },
  {
   "cell_type": "code",
   "execution_count": 26,
   "metadata": {
    "collapsed": false
   },
   "outputs": [
    {
     "data": {
      "text/plain": [
       "2-dimensional area: [6.12788, 6.43732]"
      ]
     },
     "execution_count": 26,
     "metadata": {},
     "output_type": "execute_result"
    }
   ],
   "source": [
    "Vol(paving)"
   ]
  },
  {
   "cell_type": "code",
   "execution_count": 12,
   "metadata": {
    "collapsed": false
   },
   "outputs": [
    {
     "name": "stdout",
     "output_type": "stream",
     "text": [
      "  0.209378 seconds (1.57 M allocations: 46.505 MB, 13.95% gc time)\n"
     ]
    }
   ],
   "source": [
    "@time inner, boundary = pave(S1, X, ldexp(1., -6));\n"
   ]
  },
  {
   "cell_type": "code",
   "execution_count": 23,
   "metadata": {
    "collapsed": false
   },
   "outputs": [
    {
     "data": {
      "text/plain": [
       "true"
      ]
     },
     "execution_count": 23,
     "metadata": {},
     "output_type": "execute_result"
    }
   ],
   "source": [
    "pygui(true)"
   ]
  },
  {
   "cell_type": "code",
   "execution_count": 26,
   "metadata": {
    "collapsed": false
   },
   "outputs": [],
   "source": [
    "ion()\n",
    "clf()\n",
    "for n in 1:length(inner)\n",
    "    draw_boxes(inner[n:n+1], \"green\", 0.2)\n",
    "    sleep(0.1)\n",
    "    axis(\"image\")\n",
    "    \n",
    "end"
   ]
  },
  {
   "cell_type": "code",
   "execution_count": 6,
   "metadata": {
    "collapsed": false
   },
   "outputs": [
    {
     "data": {
      "text/plain": [
       "0-element Array{ValidatedNumerics.IntervalBox{2,Float64},1}"
      ]
     },
     "execution_count": 6,
     "metadata": {},
     "output_type": "execute_result"
    }
   ],
   "source": [
    "inner"
   ]
  },
  {
   "cell_type": "code",
   "execution_count": 14,
   "metadata": {
    "collapsed": false
   },
   "outputs": [
    {
     "data": {
      "text/plain": [
       "area (generic function with 2 methods)"
      ]
     },
     "execution_count": 14,
     "metadata": {},
     "output_type": "execute_result"
    }
   ],
   "source": [
    "area(X::IntervalBox) = prod(map(diam, X))\n",
    "\n",
    "function area(inner, boundary)\n",
    "    lower = sum(map(area, inner))\n",
    "    upper = lower + sum(map(area, boundary)) \n",
    "    return hull(lower, upper)\n",
    "end"
   ]
  },
  {
   "cell_type": "markdown",
   "metadata": {},
   "source": [
    "Calculate area of inner and boundary pavings:"
   ]
  },
  {
   "cell_type": "code",
   "execution_count": 15,
   "metadata": {
    "collapsed": false
   },
   "outputs": [
    {
     "name": "stdout",
     "output_type": "stream",
     "text": [
      "  0.011396 seconds (100.93 k allocations: 2.994 MB)\n",
      "(i,area(inner,boundary),length(inner),length(boundary)) = (2,[2.92837, 3.31564],32,36)\n",
      "  0.031480 seconds (199.37 k allocations: 5.916 MB, 28.09% gc time)\n",
      "(i,area(inner,boundary),length(inner),length(boundary)) = (3,[3.03985, 3.2335],68,72)\n",
      "  0.045924 seconds (395.38 k allocations: 11.731 MB)\n",
      "(i,area(inner,boundary),length(inner),length(boundary)) = (4,[3.09195, 3.18877],140,144)\n",
      "  0.101517 seconds (786.51 k allocations: 23.331 MB, 13.77% gc time)\n",
      "(i,area(inner,boundary),length(inner),length(boundary)) = (5,[3.11708, 3.16549],284,288)\n",
      "  0.217646 seconds (1.57 M allocations: 46.505 MB, 14.10% gc time)\n",
      "(i,area(inner,boundary),length(inner),length(boundary)) = (6,[3.12941, 3.15362],572,576)\n",
      "  0.432683 seconds (3.13 M allocations: 92.826 MB, 16.19% gc time)\n",
      "(i,area(inner,boundary),length(inner),length(boundary)) = (7,[3.13552, 3.14763],1148,1152)\n",
      "  0.821639 seconds (6.25 M allocations: 185.441 MB, 13.69% gc time)\n",
      "(i,area(inner,boundary),length(inner),length(boundary)) = (8,[3.13856, 3.14462],2300,2304)\n",
      "  1.559038 seconds (12.50 M allocations: 370.644 MB, 14.08% gc time)\n",
      "(i,area(inner,boundary),length(inner),length(boundary)) = (9,[3.14007, 3.14311],4604,4608)\n",
      "  3.113749 seconds (24.99 M allocations: 741.022 MB, 14.18% gc time)\n",
      "(i,area(inner,boundary),length(inner),length(boundary)) = (10,[3.14083, 3.14235],9212,9216)\n"
     ]
    }
   ],
   "source": [
    "X = IntervalBox(-2..2, -2..2)\n",
    "\n",
    "for i in 2:10\n",
    "\n",
    "    @time inner, boundary = pave(S1, X, ldexp(1., -i))\n",
    "    @show i, area(inner, boundary), length(inner), length(boundary)\n",
    "end"
   ]
  },
  {
   "cell_type": "code",
   "execution_count": 13,
   "metadata": {
    "collapsed": false
   },
   "outputs": [
    {
     "data": {
      "image/png": "[encoded data removed]",
      "text/plain": [
       "PyPlot.Figure(PyObject <matplotlib.figure.Figure object at 0x31e6a9310>)"
      ]
     },
     "metadata": {},
     "output_type": "display_data"
    },
    {
     "data": {
      "text/plain": [
       "(-0.999998569487502,0.9999985694875023,-0.9999995231627279,0.9999995231627279)"
      ]
     },
     "execution_count": 13,
     "metadata": {},
     "output_type": "execute_result"
    }
   ],
   "source": [
    "draw(inner)"
   ]
  },
  {
   "cell_type": "code",
   "execution_count": 19,
   "metadata": {
    "collapsed": false
   },
   "outputs": [
    {
     "data": {
      "text/plain": [
       "8628"
      ]
     },
     "execution_count": 19,
     "metadata": {},
     "output_type": "execute_result"
    }
   ],
   "source": [
    "length(inner)"
   ]
  },
  {
   "cell_type": "code",
   "execution_count": 6,
   "metadata": {
    "collapsed": false
   },
   "outputs": [
    {
     "name": "stdout",
     "output_type": "stream",
     "text": [
      "  1.848361 seconds (6.32 M allocations: 211.844 MB, 5.36% gc time)\n"
     ]
    },
    {
     "data": {
      "image/png": "[encoded data removed]",
      "text/plain": [
       "PyPlot.Figure(PyObject <matplotlib.figure.Figure object at 0x3295c2d10>)"
      ]
     },
     "metadata": {},
     "output_type": "display_data"
    },
    {
     "data": {
      "text/plain": [
       "(-1.7320111636183058,1.7320111636183055,-1.731997948766467,1.731997948766467)"
      ]
     },
     "execution_count": 6,
     "metadata": {},
     "output_type": "execute_result"
    }
   ],
   "source": [
    "X = IntervalBox(-100..100, -100..100)\n",
    "S2 = @constraint 1 <= x^2 + y^2 <= 3\n",
    "@time inner, boundary = pave(S2, X, ldexp(1., -6))\n",
    "draw(inner)"
   ]
  },
  {
   "cell_type": "code",
   "execution_count": 35,
   "metadata": {
    "collapsed": false
   },
   "outputs": [
    {
     "name": "stdout",
     "output_type": "stream",
     "text": [
      "  0.105208 seconds (625.90 k allocations: 18.664 MB, 29.18% gc time)\n"
     ]
    }
   ],
   "source": [
    "@time inner, boundary = pave(S2, X, ldexp(1., -3));"
   ]
  },
  {
   "cell_type": "markdown",
   "metadata": {},
   "source": [
    "## Animation "
   ]
  },
  {
   "cell_type": "code",
   "execution_count": 9,
   "metadata": {
    "collapsed": false
   },
   "outputs": [
    {
     "data": {
      "text/plain": [
       "true"
      ]
     },
     "execution_count": 9,
     "metadata": {},
     "output_type": "execute_result"
    }
   ],
   "source": [
    "pygui(true)"
   ]
  },
  {
   "cell_type": "code",
   "execution_count": 33,
   "metadata": {
    "collapsed": false
   },
   "outputs": [
    {
     "name": "stderr",
     "output_type": "stream",
     "text": [
      "2016-05-24 00:05:17.068 julia[37236:279254] setCanCycle: is deprecated.  Please use setCollectionBehavior instead\n",
      "2016-05-24 00:05:17.075 julia[37236:279254] setCanCycle: is deprecated.  Please use setCollectionBehavior instead\n"
     ]
    }
   ],
   "source": [
    "ion()\n",
    "for n in 1:length(inner)\n",
    "    draw_boxes([inner[n]], \"green\", 0.2, 1)\n",
    "    draw_boxes([boundary[n]], \"grey\", 0.2, 0.1)\n",
    "    \n",
    "    sleep(0.00001)\n",
    "    if n==1\n",
    "        axis(\"image\")\n",
    "        xlim(-2, 2)\n",
    "        ylim(-2, 2)\n",
    "    end\n",
    "    show()\n",
    "end"
   ]
  },
  {
   "cell_type": "code",
   "execution_count": 27,
   "metadata": {
    "collapsed": false
   },
   "outputs": [
    {
     "data": {
      "text/plain": [
       "336"
      ]
     },
     "execution_count": 27,
     "metadata": {},
     "output_type": "execute_result"
    }
   ],
   "source": [
    "length(inner)"
   ]
  },
  {
   "cell_type": "code",
   "execution_count": 12,
   "metadata": {
    "collapsed": false
   },
   "outputs": [
    {
     "data": {
      "image/png": "[encoded data removed]",
      "text/plain": [
       "PyPlot.Figure(PyObject <matplotlib.figure.Figure object at 0x31ab28910>)"
      ]
     },
     "metadata": {},
     "output_type": "display_data"
    },
    {
     "data": {
      "text/plain": [
       "(-3.0,3.0,-3.0,3.0)"
      ]
     },
     "execution_count": 12,
     "metadata": {},
     "output_type": "execute_result"
    }
   ],
   "source": [
    "S3 =  @constraint 1 <= (x-0.5)^2 + (y-1)^2 <= 3\n",
    "S3c = !S3  # complement\n",
    "\n",
    "Y = IntervalBox(-3..3, -3..3)\n",
    "inner, boundary = pave(S3c, Y, ldexp(1., -5))\n",
    "draw(inner)\n"
   ]
  },
  {
   "cell_type": "code",
   "execution_count": 16,
   "metadata": {
    "collapsed": false
   },
   "outputs": [
    {
     "data": {
      "text/plain": [
       "Separator:\n",
       "  - variables: [:x,:y]"
      ]
     },
     "execution_count": 16,
     "metadata": {},
     "output_type": "execute_result"
    }
   ],
   "source": [
    "setprecision(Interval, Float64)\n",
    "X = IntervalBox(-3..3, -3..4)\n",
    "S2 = @constraint 1 <= x^2 + y^2 <= 3\n",
    "S4 = @constraint 1 <= (x-0.5)^2 + (y-1)^2 <= 3\n",
    "S24 = S2 ∩ S4"
   ]
  },
  {
   "cell_type": "code",
   "execution_count": 17,
   "metadata": {
    "collapsed": false
   },
   "outputs": [
    {
     "data": {
      "text/plain": [
       "(([-1.23206, 1.73206],[-0.732051, 1.73206]),([-3, 3],[-3, 4]))"
      ]
     },
     "execution_count": 17,
     "metadata": {},
     "output_type": "execute_result"
    }
   ],
   "source": [
    "S24(X)"
   ]
  },
  {
   "cell_type": "code",
   "execution_count": 8,
   "metadata": {
    "collapsed": false
   },
   "outputs": [
    {
     "name": "stdout",
     "output_type": "stream",
     "text": [
      "  1.137638 seconds (8.54 M allocations: 263.776 MB, 12.41% gc time)\n"
     ]
    },
    {
     "data": {
      "image/png": "[encoded data removed]",
      "text/plain": [
       "PyPlot.Figure(PyObject <matplotlib.figure.Figure object at 0x327936110>)"
      ]
     },
     "metadata": {},
     "output_type": "display_data"
    },
    {
     "data": {
      "text/plain": [
       "(-1.7320110272625673,2.2320110272625673,-1.7319781879936316,2.7319781879936316)"
      ]
     },
     "execution_count": 8,
     "metadata": {},
     "output_type": "execute_result"
    }
   ],
   "source": [
    "@time inner, boundary = pave(S24, X, ldexp(1., -5));\n",
    "#draw(inner, boundary)\n",
    "draw(inner)\n",
    "axis(\"image\")"
   ]
  },
  {
   "cell_type": "code",
   "execution_count": 9,
   "metadata": {
    "collapsed": false
   },
   "outputs": [],
   "source": [
    "X = IntervalBox(-100..100, -100..100)\n",
    "S4 = @constraint 1 <= (x-0.5)^2 + (y-1)^2 <= 3\n",
    "inner, boundary = pave(S4, X, ldexp(1., -3));\n",
    "#draw(inner)\n",
    "#axis(\"image\")\n",
    ";"
   ]
  },
  {
   "cell_type": "code",
   "execution_count": 14,
   "metadata": {
    "collapsed": false
   },
   "outputs": [
    {
     "name": "stdout",
     "output_type": "stream",
     "text": [
      "  0.110340 seconds (754.47 k allocations: 22.162 MB, 14.32% gc time)\n"
     ]
    }
   ],
   "source": [
    "@time inner, boundary = pave(S4, X, ldexp(1., -3));\n"
   ]
  },
  {
   "cell_type": "code",
   "execution_count": 10,
   "metadata": {
    "collapsed": false
   },
   "outputs": [
    {
     "data": {
      "text/plain": [
       "Separator:\n",
       "  - variables: [:x,:y]"
      ]
     },
     "execution_count": 10,
     "metadata": {},
     "output_type": "execute_result"
    }
   ],
   "source": [
    "setprecision(Interval, Float64)\n",
    "X = IntervalBox(-3..3, -3..4)\n",
    "S2 = @constraint 1 <= x^2 + y^2 <= 3\n",
    "S4 = @constraint 1 <= (x-0.5)^2 + (y-1)^2 <= 3\n",
    "S24 = S2 ∩ S4"
   ]
  },
  {
   "cell_type": "code",
   "execution_count": 11,
   "metadata": {
    "collapsed": false
   },
   "outputs": [
    {
     "ename": "LoadError",
     "evalue": "LoadError: MethodError: `getindex` has no method matching getindex(::ValidatedNumerics.IntervalBox{2,Float64}, ::Array{Int64,1})\nClosest candidates are:\n  getindex{T<:FixedSizeArrays.FixedArray{T,1,Tuple{CARDINALITY}}}(::T<:FixedSizeArrays.FixedArray{T,1,Tuple{CARDINALITY}}, !Matched::Union{Integer,Range{T}})\n  getindex(::FixedSizeArrays.FixedArray{T,NDim,SIZE}, !Matched::Tuple)\nwhile loading In[11], in expression starting on line 1",
     "output_type": "error",
     "traceback": [
      "LoadError: MethodError: `getindex` has no method matching getindex(::ValidatedNumerics.IntervalBox{2,Float64}, ::Array{Int64,1})\nClosest candidates are:\n  getindex{T<:FixedSizeArrays.FixedArray{T,1,Tuple{CARDINALITY}}}(::T<:FixedSizeArrays.FixedArray{T,1,Tuple{CARDINALITY}}, !Matched::Union{Integer,Range{T}})\n  getindex(::FixedSizeArrays.FixedArray{T,NDim,SIZE}, !Matched::Tuple)\nwhile loading In[11], in expression starting on line 1",
      "",
      " in anonymous at /Users/dpsanders/.julia/v0.4/IntervalConstraintProgramming/src/separator.jl:94",
      " in call at /Users/dpsanders/.julia/v0.4/IntervalConstraintProgramming/src/separator.jl:57"
     ]
    }
   ],
   "source": [
    "S24(X)"
   ]
  },
  {
   "cell_type": "code",
   "execution_count": 10,
   "metadata": {
    "collapsed": false
   },
   "outputs": [
    {
     "ename": "LoadError",
     "evalue": "LoadError: MethodError: `getindex` has no method matching getindex(::ValidatedNumerics.IntervalBox{2,Float64}, ::Array{Int64,1})\nClosest candidates are:\n  getindex{T<:FixedSizeArrays.FixedArray{T,1,Tuple{CARDINALITY}}}(::T<:FixedSizeArrays.FixedArray{T,1,Tuple{CARDINALITY}}, !Matched::Union{Integer,Range{T}})\n  getindex(::FixedSizeArrays.FixedArray{T,NDim,SIZE}, !Matched::Tuple)\nwhile loading In[10], in expression starting on line 6",
     "output_type": "error",
     "traceback": [
      "LoadError: MethodError: `getindex` has no method matching getindex(::ValidatedNumerics.IntervalBox{2,Float64}, ::Array{Int64,1})\nClosest candidates are:\n  getindex{T<:FixedSizeArrays.FixedArray{T,1,Tuple{CARDINALITY}}}(::T<:FixedSizeArrays.FixedArray{T,1,Tuple{CARDINALITY}}, !Matched::Union{Integer,Range{T}})\n  getindex(::FixedSizeArrays.FixedArray{T,NDim,SIZE}, !Matched::Tuple)\nwhile loading In[10], in expression starting on line 6",
      "",
      " in anonymous at /Users/dpsanders/.julia/v0.4/IntervalConstraintProgramming/src/separator.jl:94",
      " in pave at /Users/dpsanders/.julia/v0.4/IntervalConstraintProgramming/src/pave.jl:45"
     ]
    }
   ],
   "source": [
    "inner, boundary = pave(S24, X, ldexp(1., -2))\n",
    "draw(inner)\n",
    "axis(\"image\")"
   ]
  },
  {
   "cell_type": "code",
   "execution_count": 11,
   "metadata": {
    "collapsed": false
   },
   "outputs": [
    {
     "ename": "LoadError",
     "evalue": "LoadError: MethodError: `getindex` has no method matching getindex(::ValidatedNumerics.IntervalBox{2,Float64}, ::Array{Int64,1})\nClosest candidates are:\n  getindex{T<:FixedSizeArrays.FixedArray{T,1,Tuple{CARDINALITY}}}(::T<:FixedSizeArrays.FixedArray{T,1,Tuple{CARDINALITY}}, !Matched::Union{Integer,Range{T}})\n  getindex(::FixedSizeArrays.FixedArray{T,NDim,SIZE}, !Matched::Tuple)\nwhile loading In[11], in expression starting on line 3",
     "output_type": "error",
     "traceback": [
      "LoadError: MethodError: `getindex` has no method matching getindex(::ValidatedNumerics.IntervalBox{2,Float64}, ::Array{Int64,1})\nClosest candidates are:\n  getindex{T<:FixedSizeArrays.FixedArray{T,1,Tuple{CARDINALITY}}}(::T<:FixedSizeArrays.FixedArray{T,1,Tuple{CARDINALITY}}, !Matched::Union{Integer,Range{T}})\n  getindex(::FixedSizeArrays.FixedArray{T,NDim,SIZE}, !Matched::Tuple)\nwhile loading In[11], in expression starting on line 3",
      "",
      " in anonymous at /Users/dpsanders/.julia/v0.4/IntervalConstraintProgramming/src/separator.jl:94",
      " in pave at /Users/dpsanders/.julia/v0.4/IntervalConstraintProgramming/src/pave.jl:45"
     ]
    }
   ],
   "source": [
    "S24 = S2 ∩ S4\n",
    "\n",
    "inner, boundary = pave(S24, X, ldexp(1., -4))\n",
    "draw(inner)\n"
   ]
  },
  {
   "cell_type": "code",
   "execution_count": 12,
   "metadata": {
    "collapsed": false
   },
   "outputs": [
    {
     "ename": "LoadError",
     "evalue": "LoadError: MethodError: `getindex` has no method matching getindex(::ValidatedNumerics.IntervalBox{2,Float64}, ::Array{Int64,1})\nClosest candidates are:\n  getindex{T<:FixedSizeArrays.FixedArray{T,1,Tuple{CARDINALITY}}}(::T<:FixedSizeArrays.FixedArray{T,1,Tuple{CARDINALITY}}, !Matched::Union{Integer,Range{T}})\n  getindex(::FixedSizeArrays.FixedArray{T,NDim,SIZE}, !Matched::Tuple)\nwhile loading In[12], in expression starting on line 6",
     "output_type": "error",
     "traceback": [
      "LoadError: MethodError: `getindex` has no method matching getindex(::ValidatedNumerics.IntervalBox{2,Float64}, ::Array{Int64,1})\nClosest candidates are:\n  getindex{T<:FixedSizeArrays.FixedArray{T,1,Tuple{CARDINALITY}}}(::T<:FixedSizeArrays.FixedArray{T,1,Tuple{CARDINALITY}}, !Matched::Union{Integer,Range{T}})\n  getindex(::FixedSizeArrays.FixedArray{T,NDim,SIZE}, !Matched::Tuple)\nwhile loading In[12], in expression starting on line 6",
      "",
      " in anonymous at /Users/dpsanders/.julia/v0.4/IntervalConstraintProgramming/src/separator.jl:94",
      " in pave at /Users/dpsanders/.julia/v0.4/IntervalConstraintProgramming/src/pave.jl:45"
     ]
    }
   ],
   "source": [
    "S5a = @constraint 1 >= x+y >= -1\n",
    "S5b = @constraint x-y >= 1\n",
    "\n",
    "S5 = S5a ∩ S5b\n",
    "\n",
    "inner, boundary = pave(S5, X, ldexp(1., -2))\n",
    "draw(inner)"
   ]
  },
  {
   "cell_type": "markdown",
   "metadata": {
    "collapsed": true
   },
   "source": [
    "Example from Jaulin et al., \"Applied Interval Analysis\", pg. 61:"
   ]
  },
  {
   "cell_type": "code",
   "execution_count": 16,
   "metadata": {
    "collapsed": false
   },
   "outputs": [
    {
     "name": "stdout",
     "output_type": "stream",
     "text": [
      "  0.354182 seconds (2.62 M allocations: 79.810 MB, 12.43% gc time)\n"
     ]
    }
   ],
   "source": [
    "S6 = @constraint x1^2 * (x1^2 - 1) + 4*x2^2 ∈ [-0.1, 0.1]  # 4th power not yet working correctly in powerRev\n",
    "Y = IntervalBox(-10..10, -10..10)\n",
    "\n",
    "@time inner, boundary = pave(S6, Y, ldexp(1., -5));\n"
   ]
  },
  {
   "cell_type": "code",
   "execution_count": 17,
   "metadata": {
    "collapsed": false
   },
   "outputs": [
    {
     "data": {
      "image/png": "[encoded data removed]",
      "text/plain": [
       "PyPlot.Figure(PyObject <matplotlib.figure.Figure object at 0x319cf3a10>)"
      ]
     },
     "metadata": {},
     "output_type": "display_data"
    },
    {
     "data": {
      "text/plain": [
       "(-1.0449698339937934,1.0449698339937932,-0.3015944517013159,0.30159445170131594)"
      ]
     },
     "execution_count": 17,
     "metadata": {},
     "output_type": "execute_result"
    }
   ],
   "source": [
    "draw(inner, boundary)"
   ]
  },
  {
   "cell_type": "markdown",
   "metadata": {},
   "source": [
    "## Combining separators with different variables "
   ]
  },
  {
   "cell_type": "code",
   "execution_count": 1,
   "metadata": {
    "collapsed": false
   },
   "outputs": [
    {
     "name": "stderr",
     "output_type": "stream",
     "text": [
      "INFO: Recompiling stale cache file /Users/dpsanders/.julia/lib/v0.4/IntervalConstraintProgramming.ji for module IntervalConstraintProgramming.\n"
     ]
    }
   ],
   "source": [
    "using IntervalConstraintProgramming, ValidatedNumerics\n"
   ]
  },
  {
   "cell_type": "code",
   "execution_count": 2,
   "metadata": {
    "collapsed": false
   },
   "outputs": [
    {
     "data": {
      "text/plain": [
       "Separator:\n",
       "  - variables: [:x,:y]"
      ]
     },
     "execution_count": 2,
     "metadata": {},
     "output_type": "execute_result"
    }
   ],
   "source": [
    "S7a = @constraint x > 0\n",
    "S7b = @constraint y > 0\n",
    "S7 = S7a ∩ S7b"
   ]
  },
  {
   "cell_type": "code",
   "execution_count": 3,
   "metadata": {
    "collapsed": false
   },
   "outputs": [
    {
     "data": {
      "text/plain": [
       "(2-elementArray{ValidatedNumerics.IntervalBox{2,Float64},1}:\n",
       " [1.5, 3] × [0, 3]\n",
       " [0, 1.5] × [0, 3]\n",
       ",0-elementArray{ValidatedNumerics.IntervalBox{2,Float64},1}:\n",
       ")"
      ]
     },
     "execution_count": 3,
     "metadata": {},
     "output_type": "execute_result"
    }
   ],
   "source": [
    "inner, boundary = pave(S7, IntervalBox(-3..3, -3..3), 0.1)"
   ]
  },
  {
   "cell_type": "code",
   "execution_count": 4,
   "metadata": {
    "collapsed": false
   },
   "outputs": [
    {
     "name": "stderr",
     "output_type": "stream",
     "text": [
      "/Users/dpsanders/.julia/v0.4/Conda/deps/usr/lib/python2.7/site-packages/matplotlib/font_manager.py:273: UserWarning: Matplotlib is building the font cache using fc-list. This may take a moment.\n",
      "  warnings.warn('Matplotlib is building the font cache using fc-list. This may take a moment.')\n"
     ]
    },
    {
     "data": {
      "image/png": "[encoded data removed]",
      "text/plain": [
       "PyPlot.Figure(PyObject <matplotlib.figure.Figure object at 0x31d381110>)"
      ]
     },
     "metadata": {},
     "output_type": "display_data"
    }
   ],
   "source": [
    "include(\"draw_boxes.jl\")\n",
    "draw(inner)\n",
    "\n",
    "xlim(-3, 3)\n",
    "ylim(-3, 3)\n",
    "ax = gca()\n",
    "ax[:set_aspect](\"equal\")"
   ]
  },
  {
   "cell_type": "code",
   "execution_count": 5,
   "metadata": {
    "collapsed": false
   },
   "outputs": [
    {
     "data": {
      "text/plain": [
       "Separator:\n",
       "  - variables: [:x,:y]"
      ]
     },
     "execution_count": 5,
     "metadata": {},
     "output_type": "execute_result"
    }
   ],
   "source": [
    "S8 = S7a ∪ S7b"
   ]
  },
  {
   "cell_type": "code",
   "execution_count": 6,
   "metadata": {
    "collapsed": false
   },
   "outputs": [
    {
     "data": {
      "text/plain": [
       "(2-elementArray{ValidatedNumerics.IntervalBox{2,Float64},1}:\n",
       " [-3, 0] × [0, 3]\n",
       " [0, 3] × [-3, 3]\n",
       ",0-elementArray{ValidatedNumerics.IntervalBox{2,Float64},1}:\n",
       ")"
      ]
     },
     "execution_count": 6,
     "metadata": {},
     "output_type": "execute_result"
    }
   ],
   "source": [
    "inner, boundary = pave(S8, IntervalBox(-3..3, -3..3), 0.1)"
   ]
  },
  {
   "cell_type": "code",
   "execution_count": 7,
   "metadata": {
    "collapsed": false
   },
   "outputs": [
    {
     "data": {
      "image/png": "[encoded data removed]",
      "text/plain": [
       "PyPlot.Figure(PyObject <matplotlib.figure.Figure object at 0x32281ff90>)"
      ]
     },
     "metadata": {},
     "output_type": "display_data"
    }
   ],
   "source": [
    "include(\"draw_boxes.jl\")\n",
    "draw(inner)\n",
    "\n",
    "xlim(-3, 3)\n",
    "ylim(-3, 3)\n",
    "ax = gca()\n",
    "ax[:set_aspect](\"equal\")"
   ]
  },
  {
   "cell_type": "code",
   "execution_count": 2,
   "metadata": {
    "collapsed": false
   },
   "outputs": [
    {
     "data": {
      "text/plain": [
       "Separator:\n",
       "  - variables: [:x,:y]"
      ]
     },
     "execution_count": 2,
     "metadata": {},
     "output_type": "execute_result"
    }
   ],
   "source": [
    "S9a = @constraint -1 <= x + y <= 1\n",
    "S9b = @constraint -1 <= x - y <= 1\n",
    "S9 = S9a ∩ S9b"
   ]
  },
  {
   "cell_type": "code",
   "execution_count": 3,
   "metadata": {
    "collapsed": false
   },
   "outputs": [
    {
     "data": {
      "text/plain": [
       "[-3, 3]"
      ]
     },
     "execution_count": 3,
     "metadata": {},
     "output_type": "execute_result"
    }
   ],
   "source": [
    "x = y = -3..3"
   ]
  },
  {
   "cell_type": "code",
   "execution_count": 4,
   "metadata": {
    "collapsed": false
   },
   "outputs": [
    {
     "data": {
      "text/plain": [
       "(([-3, 3],[-3, 3]),([-3, 3],[-3, 3]))"
      ]
     },
     "execution_count": 4,
     "metadata": {},
     "output_type": "execute_result"
    }
   ],
   "source": [
    "S9((x,y))"
   ]
  },
  {
   "cell_type": "code",
   "execution_count": 10,
   "metadata": {
    "collapsed": false
   },
   "outputs": [
    {
     "name": "stdout",
     "output_type": "stream",
     "text": [
      "  0.116705 seconds (766.33 k allocations: 29.160 MB, 8.13% gc time)\n"
     ]
    }
   ],
   "source": [
    "@time inner, boundary = pave(S9, IntervalBox(-10^8..10^8, -10^8..10^8), 0.01);"
   ]
  },
  {
   "cell_type": "code",
   "execution_count": 11,
   "metadata": {
    "collapsed": false
   },
   "outputs": [
    {
     "data": {
      "image/png": "[encoded data removed]",
      "text/plain": [
       "PyPlot.Figure(PyObject <matplotlib.figure.Figure object at 0x3288c4590>)"
      ]
     },
     "metadata": {},
     "output_type": "display_data"
    }
   ],
   "source": [
    "include(\"draw_boxes.jl\")\n",
    "\n",
    "draw(inner)\n",
    "\n",
    "xlim(-3, 3)\n",
    "ylim(-3, 3)\n",
    "ax = gca()\n",
    "ax[:set_aspect](\"equal\")"
   ]
  },
  {
   "cell_type": "markdown",
   "metadata": {
    "collapsed": true
   },
   "source": [
    "## Disjoint regions"
   ]
  },
  {
   "cell_type": "code",
   "execution_count": 31,
   "metadata": {
    "collapsed": false
   },
   "outputs": [
    {
     "name": "stderr",
     "output_type": "stream",
     "text": [
      "/usr/local/lib/python2.7/site-packages/matplotlib/font_manager.py:273: UserWarning: Matplotlib is building the font cache using fc-list. This may take a moment.\n",
      "  warnings.warn('Matplotlib is building the font cache using fc-list. This may take a moment.')\n"
     ]
    },
    {
     "data": {
      "text/plain": [
       "draw (generic function with 13 methods)"
      ]
     },
     "execution_count": 31,
     "metadata": {},
     "output_type": "execute_result"
    }
   ],
   "source": [
    "include(\"draw_boxes.jl\")"
   ]
  },
  {
   "cell_type": "code",
   "execution_count": 34,
   "metadata": {
    "collapsed": false
   },
   "outputs": [
    {
     "data": {
      "text/plain": [
       "Separator with variables x, y"
      ]
     },
     "execution_count": 34,
     "metadata": {},
     "output_type": "execute_result"
    }
   ],
   "source": [
    "S10a = @constraint (x-2)^2 + y^2 <= 1\n",
    "S10b = @constraint x^2 + (y-2)^2 <= 1\n",
    "S10 = S10a ∪ S10b"
   ]
  },
  {
   "cell_type": "code",
   "execution_count": 38,
   "metadata": {
    "collapsed": false
   },
   "outputs": [
    {
     "name": "stdout",
     "output_type": "stream",
     "text": [
      "  0.028110 seconds (64.43 k allocations: 2.185 MB, 18.10% gc time)\n"
     ]
    }
   ],
   "source": [
    "X = IntervalBox(-10^4..10^4, -10^4..10^4)\n",
    "\n",
    "@time paving = pave(S10, X, 1);"
   ]
  },
  {
   "cell_type": "code",
   "execution_count": 42,
   "metadata": {
    "collapsed": false
   },
   "outputs": [
    {
     "data": {
      "image/png": "[encoded data removed]",
      "text/plain": [
       "PyPlot.Figure(PyObject <matplotlib.figure.Figure object at 0x319e51f90>)"
      ]
     },
     "metadata": {},
     "output_type": "display_data"
    },
    {
     "data": {
      "text/plain": [
       "(-0.9980449639169569,2.9980449639169566,-0.9981672658552772,2.998167265855277)"
      ]
     },
     "execution_count": 42,
     "metadata": {},
     "output_type": "execute_result"
    }
   ],
   "source": [
    "@time refine!(paving, 0.1)\n",
    "draw(paving.inner)"
   ]
  },
  {
   "cell_type": "code",
   "execution_count": 8,
   "metadata": {
    "collapsed": false
   },
   "outputs": [
    {
     "name": "stdout",
     "output_type": "stream",
     "text": [
      "  1.846274 seconds (13.69 M allocations: 416.454 MB, 14.07% gc time)\n"
     ]
    }
   ],
   "source": [
    "S10c = @constraint (x-1)^2 + (y-1)^2 <= 1\n",
    "S11 = S10a ∪ S10b ∪ S10c\n",
    "@time inner, boundary = pave(S11, X, 0.01);"
   ]
  },
  {
   "cell_type": "code",
   "execution_count": 11,
   "metadata": {
    "collapsed": false
   },
   "outputs": [
    {
     "data": {
      "image/png": "[encoded data removed]",
      "text/plain": [
       "PyPlot.Figure(PyObject <matplotlib.figure.Figure object at 0x3222d0690>)"
      ]
     },
     "metadata": {},
     "output_type": "display_data"
    },
    {
     "data": {
      "text/plain": [
       "(-0.9999923705763645,2.9999923705763645,-0.9999713893612233,2.999971389361223)"
      ]
     },
     "execution_count": 11,
     "metadata": {},
     "output_type": "execute_result"
    }
   ],
   "source": [
    "draw(inner, \"green\", 0.5, 1)"
   ]
  },
  {
   "cell_type": "code",
   "execution_count": 9,
   "metadata": {
    "collapsed": false
   },
   "outputs": [
    {
     "data": {
      "text/plain": [
       ":((S10a ∪ S10b) ∪ S10c)"
      ]
     },
     "execution_count": 9,
     "metadata": {},
     "output_type": "execute_result"
    }
   ],
   "source": [
    "expand(:(S10a ∪ S10b ∪ S10c))"
   ]
  },
  {
   "cell_type": "code",
   "execution_count": 13,
   "metadata": {
    "collapsed": false
   },
   "outputs": [
    {
     "name": "stdout",
     "output_type": "stream",
     "text": [
      "  1.273488 seconds (8.97 M allocations: 269.566 MB, 14.99% gc time)\n"
     ]
    },
    {
     "data": {
      "image/png": "[encoded data removed]",
      "text/plain": [
       "PyPlot.Figure(PyObject <matplotlib.figure.Figure object at 0x32270e950>)"
      ]
     },
     "metadata": {},
     "output_type": "display_data"
    },
    {
     "data": {
      "text/plain": [
       "(9.155692571038987e-5,1.999908443074289,0.0001220777639902998,1.9998779222360095)"
      ]
     },
     "execution_count": 13,
     "metadata": {},
     "output_type": "execute_result"
    }
   ],
   "source": [
    "S12 = (S10a ∩ S10c) ∪ (S10b ∩ S10c)\n",
    "@time inner, boundary = pave(S12, X, 0.01);\n",
    "draw(inner)"
   ]
  },
  {
   "cell_type": "markdown",
   "metadata": {},
   "source": [
    "## Cusp"
   ]
  },
  {
   "cell_type": "code",
   "execution_count": 26,
   "metadata": {
    "collapsed": false
   },
   "outputs": [
    {
     "data": {
      "text/plain": [
       "1.7320508075688772"
      ]
     },
     "execution_count": 26,
     "metadata": {},
     "output_type": "execute_result"
    }
   ],
   "source": [
    "sqrt(3)"
   ]
  },
  {
   "cell_type": "code",
   "execution_count": 29,
   "metadata": {
    "collapsed": false
   },
   "outputs": [
    {
     "name": "stdout",
     "output_type": "stream",
     "text": [
      "  8.317151 seconds (59.83 M allocations: 1.786 GB, 13.88% gc time)\n"
     ]
    }
   ],
   "source": [
    "S13a = @constraint x^2 + y^2 <= 1\n",
    "S13b = @constraint (x-2)^2 + y^2 <= 1\n",
    "S13c = @constraint (x-1)^2 + (y-1.732050807568877)^2 <= 1\n",
    "\n",
    "\n",
    "S13 = !(S13a ∪ S13b ∪ S13c)\n",
    "X = IntervalBox(-0..2, -0..2)\n",
    "@time inner, boundary = pave(S13, X, 0.001);"
   ]
  },
  {
   "cell_type": "code",
   "execution_count": 32,
   "metadata": {
    "collapsed": false
   },
   "outputs": [
    {
     "data": {
      "image/png": "[encoded data removed]",
      "text/plain": [
       "PyPlot.Figure(PyObject <matplotlib.figure.Figure object at 0x321fe0e90>)"
      ]
     },
     "metadata": {},
     "output_type": "display_data"
    },
    {
     "data": {
      "text/plain": [
       "(0.0,2.0000000000000004,-2.7755575615628914e-17,2.0)"
      ]
     },
     "execution_count": 32,
     "metadata": {},
     "output_type": "execute_result"
    }
   ],
   "source": [
    "draw(inner, \"red\", 0.2, 1)\n",
    "draw(boundary, \"grey\", 0.2, 1)"
   ]
  },
  {
   "cell_type": "code",
   "execution_count": null,
   "metadata": {
    "collapsed": true
   },
   "outputs": [],
   "source": []
  },
  {
   "cell_type": "code",
   "execution_count": null,
   "metadata": {
    "collapsed": true
   },
   "outputs": [],
   "source": []
  }
 ],
 "metadata": {
  "kernelspec": {
   "display_name": "Julia 0.4.6",
   "language": "julia",
   "name": "julia-0.4"
  },
  "language_info": {
   "file_extension": ".jl",
   "mimetype": "application/julia",
   "name": "julia",
   "version": "0.4.6"
  }
 },
 "nbformat": 4,
 "nbformat_minor": 0
}
