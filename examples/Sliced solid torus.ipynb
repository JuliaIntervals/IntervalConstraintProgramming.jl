{
 "cells": [
  {
   "cell_type": "code",
   "execution_count": 1,
   "metadata": {
    "collapsed": false
   },
   "outputs": [],
   "source": [
    "using IntervalConstraintProgramming, ValidatedNumerics"
   ]
  },
  {
   "cell_type": "code",
   "execution_count": 2,
   "metadata": {
    "collapsed": false
   },
   "outputs": [
    {
     "data": {
      "text/plain": [
       "Separator with variables x, y, z"
      ]
     },
     "execution_count": 2,
     "metadata": {},
     "output_type": "execute_result"
    }
   ],
   "source": [
    "solid_torus = @constraint (3 - sqrt(x^2 + y^2))^2 + z^2 <= 1\n",
    "\n",
    "half_plane = @constraint x + y + z <= 1"
   ]
  },
  {
   "cell_type": "code",
   "execution_count": 3,
   "metadata": {
    "collapsed": false
   },
   "outputs": [
    {
     "name": "stdout",
     "output_type": "stream",
     "text": [
      "  2.849437 seconds (14.49 M allocations: 479.686 MB, 7.46% gc time)\n"
     ]
    }
   ],
   "source": [
    "Y = IntervalBox(-5..5, -5..5, -5..5)\n",
    "@time paving = setinverse(solid_torus, Y, 0.25);"
   ]
  },
  {
   "cell_type": "code",
   "execution_count": 39,
   "metadata": {
    "collapsed": false
   },
   "outputs": [
    {
     "name": "stdout",
     "output_type": "stream",
     "text": [
      " 12.325309 seconds (95.59 M allocations: 3.004 GB, 14.07% gc time)\n"
     ]
    },
    {
     "data": {
      "text/plain": [
       "28176"
      ]
     },
     "execution_count": 39,
     "metadata": {},
     "output_type": "execute_result"
    }
   ],
   "source": [
    "@time refine!(paving, 0.1)  # refine the paving\n",
    "length(paving.inner)"
   ]
  },
  {
   "cell_type": "code",
<<<<<<< 608c2b3b45bc93be6bd6be93a0143aa6762f0ced
<<<<<<< 1cdb6b901b11bfa9b7d035deb63b2a029ffbc76a
<<<<<<< 69dfea55a35258cab73dde6c68c8874b5ba86919
   "execution_count": 8,
=======
   "execution_count": 5,
>>>>>>> Changes
=======
   "execution_count": 8,
>>>>>>> Fix up some notebooks with new paving type
=======
   "execution_count": 3,
>>>>>>> Add examples
   "metadata": {
    "collapsed": false
   },
   "outputs": [
    {
     "name": "stdout",
     "output_type": "stream",
     "text": [
<<<<<<< 608c2b3b45bc93be6bd6be93a0143aa6762f0ced
<<<<<<< 1cdb6b901b11bfa9b7d035deb63b2a029ffbc76a
<<<<<<< 69dfea55a35258cab73dde6c68c8874b5ba86919
      "  9.936125 seconds (72.74 M allocations: 2.281 GB, 10.43% gc time)\n"
=======
      " 11.927656 seconds (73.67 M allocations: 2.322 GB, 7.90% gc time)\n"
>>>>>>> Add examples
     ]
    },
    {
     "data": {
      "text/plain": [
       "16831-element Array{ValidatedNumerics.IntervalBox{3,Float64},1}:\n",
       " [2.71869, 2.71875] × [-0.906307, -0.90625] × [-0.903554, -0.8125]   \n",
       " [2.71869, 2.71875] × [-1, -0.906306] × [-0.903554, -0.812443]       \n",
       " [2.625, 2.7187] × [-1, -0.90625] × [-0.903554, -0.812443]           \n",
       " [2.625, 2.71875] × [-1, -0.90625] × [-0.974827, -0.903553]          \n",
       " [2.43289, 2.52435] × [-1, -0.90855] × [-0.615798, -0.615797]        \n",
       " [2.25, 2.34145] × [-0.817102, -0.725651] × [-0.615798, -0.615797]   \n",
       " [2.25, 2.4329] × [-1, -0.817101] × [-0.615798, -0.615797]           \n",
       " [2.34144, 2.4329] × [-1, -0.90855] × [-0.615798, -0.524348]         \n",
       " [2.25, 2.34145] × [-0.908551, -0.817101] × [-0.615798, -0.524348]   \n",
       " [2.25, 2.34145] × [-1, -0.90855] × [-0.615798, -0.432898]           \n",
       " [2.51509, 2.53125] × [-0.734904, -0.71875] × [-0.868106, -0.8125]   \n",
       " [2.51509, 2.53125] × [-0.8125, -0.734903] × [-0.868106, -0.796346]  \n",
       " [2.4375, 2.5151] × [-0.8125, -0.71875] × [-0.868106, -0.796346]     \n",
       " ⋮                                                                   \n",
       " [-2.57143, -2.52069] × [-2.91986, -2.91363] × [-0.454524, -0.392329]\n",
       " [-2.64235, -2.6243] × [-2.85584, -2.79996] × [-0.454524, -0.392329] \n",
       " [-2.58607, -2.52069] × [-2.80526, -2.79996] × [-0.578913, -0.516717]\n",
       " [-2.52342, -2.52069] × [-2.86175, -2.80525] × [-0.578913, -0.516717]\n",
       " [-2.74666, -2.72791] × [-2.70648, -2.59807] × [-0.516892, -0.392329]\n",
       " [-2.8409, -2.74665] × [-2.60739, -2.59807] × [-0.516892, -0.392329] \n",
       " [-2.8409, -2.79507] × [-2.65835, -2.60738] × [-0.454611, -0.392329] \n",
       " [-2.79508, -2.74665] × [-2.70648, -2.60738] × [-0.454611, -0.392329]\n",
       " [-2.84921, -2.84089] × [-2.64944, -2.59807] × [-0.454611, -0.392329]\n",
       " [-2.74156, -2.72791] × [-2.76068, -2.70647] × [-0.454611, -0.392329]\n",
       " [-2.73332, -2.72791] × [-2.66173, -2.59807] × [-0.579172, -0.516891]\n",
       " [-2.79137, -2.73331] × [-2.60079, -2.59807] × [-0.579172, -0.516891]"
      ]
     },
     "execution_count": 3,
     "metadata": {},
     "output_type": "execute_result"
=======
      "  9.475819 seconds (72.74 M allocations: 2.281 GB, 8.71% gc time)\n"
     ]
>>>>>>> Changes
=======
      "  9.936125 seconds (72.74 M allocations: 2.281 GB, 10.43% gc time)\n"
     ]
    },
    {
     "data": {
      "text/plain": [
       "16831-element Array{ValidatedNumerics.IntervalBox{3,Float64},1}:\n",
       " [2.71869, 2.71875] × [-0.906307, -0.90625] × [-0.903554, -0.8125]   \n",
       " [2.71869, 2.71875] × [-1, -0.906306] × [-0.903554, -0.812443]       \n",
       " [2.625, 2.7187] × [-1, -0.90625] × [-0.903554, -0.812443]           \n",
       " [2.625, 2.71875] × [-1, -0.90625] × [-0.974827, -0.903553]          \n",
       " [2.43289, 2.52435] × [-1, -0.90855] × [-0.615798, -0.615797]        \n",
       " [2.25, 2.34145] × [-0.817102, -0.725651] × [-0.615798, -0.615797]   \n",
       " [2.25, 2.4329] × [-1, -0.817101] × [-0.615798, -0.615797]           \n",
       " [2.34144, 2.4329] × [-1, -0.90855] × [-0.615798, -0.524348]         \n",
       " [2.25, 2.34145] × [-0.908551, -0.817101] × [-0.615798, -0.524348]   \n",
       " [2.25, 2.34145] × [-1, -0.90855] × [-0.615798, -0.432898]           \n",
       " [2.51509, 2.53125] × [-0.734904, -0.71875] × [-0.868106, -0.8125]   \n",
       " [2.51509, 2.53125] × [-0.8125, -0.734903] × [-0.868106, -0.796346]  \n",
       " [2.4375, 2.5151] × [-0.8125, -0.71875] × [-0.868106, -0.796346]     \n",
       " ⋮                                                                   \n",
       " [-2.57143, -2.52069] × [-2.91986, -2.91363] × [-0.454524, -0.392329]\n",
       " [-2.64235, -2.6243] × [-2.85584, -2.79996] × [-0.454524, -0.392329] \n",
       " [-2.58607, -2.52069] × [-2.80526, -2.79996] × [-0.578913, -0.516717]\n",
       " [-2.52342, -2.52069] × [-2.86175, -2.80525] × [-0.578913, -0.516717]\n",
       " [-2.74666, -2.72791] × [-2.70648, -2.59807] × [-0.516892, -0.392329]\n",
       " [-2.8409, -2.74665] × [-2.60739, -2.59807] × [-0.516892, -0.392329] \n",
       " [-2.8409, -2.79507] × [-2.65835, -2.60738] × [-0.454611, -0.392329] \n",
       " [-2.79508, -2.74665] × [-2.70648, -2.60738] × [-0.454611, -0.392329]\n",
       " [-2.84921, -2.84089] × [-2.64944, -2.59807] × [-0.454611, -0.392329]\n",
       " [-2.74156, -2.72791] × [-2.76068, -2.70647] × [-0.454611, -0.392329]\n",
       " [-2.73332, -2.72791] × [-2.66173, -2.59807] × [-0.579172, -0.516891]\n",
       " [-2.79137, -2.73331] × [-2.60079, -2.59807] × [-0.579172, -0.516891]"
      ]
     },
     "execution_count": 8,
     "metadata": {},
     "output_type": "execute_result"
>>>>>>> Fix up some notebooks with new paving type
    }
   ],
   "source": [
    "Y = IntervalBox(-5..5, -5..5, -5..5)\n",
<<<<<<< 1cdb6b901b11bfa9b7d035deb63b2a029ffbc76a
<<<<<<< 69dfea55a35258cab73dde6c68c8874b5ba86919
    "@time paving = setinverse(solid_torus ∩ half_plane, Y, 0.1);\n",
    "inner = paving.inner"
=======
    "@time paving = setinverse(solid_torus ∩ half_plane, Y, 0.1);"
>>>>>>> Changes
=======
    "@time paving = setinverse(solid_torus ∩ half_plane, Y, 0.1);\n",
<<<<<<< 608c2b3b45bc93be6bd6be93a0143aa6762f0ced
    "inner = paving.inner"
>>>>>>> Fix up some notebooks with new paving type
=======
    "inner = paving.inner;"
>>>>>>> Add examples
   ]
  },
  {
   "cell_type": "code",
   "execution_count": 10,
   "metadata": {
    "collapsed": false
   },
   "outputs": [],
   "source": [
    "inner = paving.inner;"
   ]
  },
  {
   "cell_type": "code",
<<<<<<< 1cdb6b901b11bfa9b7d035deb63b2a029ffbc76a
<<<<<<< 69dfea55a35258cab73dde6c68c8874b5ba86919
   "execution_count": 19,
=======
   "execution_count": 6,
>>>>>>> Changes
=======
   "execution_count": 19,
>>>>>>> Fix up some notebooks with new paving type
   "metadata": {
    "collapsed": false
   },
   "outputs": [
    {
     "data": {
      "text/plain": [
       "3-dimensional Volume: [32.479, 35.7929]"
      ]
     },
<<<<<<< 1cdb6b901b11bfa9b7d035deb63b2a029ffbc76a
<<<<<<< 69dfea55a35258cab73dde6c68c8874b5ba86919
     "execution_count": 19,
=======
     "execution_count": 6,
>>>>>>> Changes
=======
     "execution_count": 19,
>>>>>>> Fix up some notebooks with new paving type
     "metadata": {},
     "output_type": "execute_result"
    }
   ],
   "source": [
    "Vol(paving)"
   ]
  },
  {
   "cell_type": "code",
   "execution_count": 11,
   "metadata": {
    "collapsed": false
   },
   "outputs": [
    {
     "data": {
      "text/plain": [
       "16831"
      ]
     },
     "execution_count": 11,
     "metadata": {},
     "output_type": "execute_result"
    }
   ],
   "source": [
    "length(paving.inner)"
   ]
  },
  {
   "cell_type": "code",
   "execution_count": 22,
   "metadata": {
    "collapsed": false
   },
   "outputs": [
    {
     "name": "stderr",
     "output_type": "stream",
     "text": [
      "INFO: Precompiling module JLD...\n"
     ]
    }
   ],
   "source": [
    "using JLD"
   ]
  },
  {
   "cell_type": "code",
   "execution_count": 23,
   "metadata": {
    "collapsed": true
   },
   "outputs": [],
   "source": [
    "save(\"weird.jld\", \"boundary\", paving.boundary)\n"
   ]
  },
  {
   "cell_type": "code",
   "execution_count": 25,
   "metadata": {
    "collapsed": false
   },
   "outputs": [
    {
     "name": "stdout",
     "output_type": "stream",
     "text": [
      " 53.493586 seconds (81.24 M allocations: 2.192 GB, 2.47% gc time)\n"
     ]
    }
   ],
   "source": [
    "Y = IntervalBox(-5..5, -5..5, -5..5)\n",
    "@time paving = setinverse(weird, Y, 0.5);"
   ]
  },
  {
   "cell_type": "code",
   "execution_count": 3,
   "metadata": {
    "collapsed": false
   },
   "outputs": [
    {
     "ename": "LoadError",
     "evalue": "LoadError: InterruptException:\nwhile loading In[3], in expression starting on line 155",
     "output_type": "error",
     "traceback": [
      "LoadError: InterruptException:\nwhile loading In[3], in expression starting on line 155",
      "",
      " in call at /Applications/Julia-0.4.6.app/Contents/Resources/julia/lib/julia/sys.dylib",
      " in ^ at mpfr.jl:433",
      " in anonymous at /Users/dpsanders/.julia/v0.4/ValidatedNumerics/src/intervals/macros.jl:39",
      " in with_rounding at rounding.jl:54",
      " [inlined code] from /Users/dpsanders/.julia/v0.4/ValidatedNumerics/src/intervals/macros.jl:38",
      " in sqr at /Users/dpsanders/.julia/v0.4/ValidatedNumerics/src/intervals/functions.jl:70",
      " in ^ at /Users/dpsanders/.julia/v0.4/ValidatedNumerics/src/intervals/functions.jl:21",
      " in ^ at /Users/dpsanders/.julia/v0.4/ValidatedNumerics/src/intervals/functions.jl:11",
      " in anonymous at /Users/dpsanders/.julia/v0.4/IntervalConstraintProgramming/src/contractor.jl:152",
      " in call at /Users/dpsanders/.julia/v0.4/IntervalConstraintProgramming/src/contractor.jl:211",
      " in anonymous at /Users/dpsanders/.julia/v0.4/IntervalConstraintProgramming/src/separator.jl:33",
      " in pave at /Users/dpsanders/.julia/v0.4/IntervalConstraintProgramming/src/setinversion.jl:35",
      " in setinverse at /Users/dpsanders/.julia/v0.4/IntervalConstraintProgramming/src/setinversion.jl:76"
     ]
    }
   ],
   "source": [
    "pinch = @constraint x^2+y^2+z^2*(z-1)==0\n",
    "Y = IntervalBox(-5..5, -5..5, -5..5)\n",
    "@time paving = setinverse(pinch, Y, 0.1);\n",
    "inner = paving.boundary;"
   ]
  },
  {
   "cell_type": "markdown",
   "metadata": {},
   "source": [
    "## 3D vis "
   ]
  },
  {
   "cell_type": "code",
<<<<<<< 608c2b3b45bc93be6bd6be93a0143aa6762f0ced
<<<<<<< 1cdb6b901b11bfa9b7d035deb63b2a029ffbc76a
<<<<<<< 69dfea55a35258cab73dde6c68c8874b5ba86919
   "execution_count": 5,
=======
   "execution_count": 4,
   "metadata": {
    "collapsed": false
   },
   "outputs": [],
   "source": [
    "using GLVisualize, GeometryTypes, GLAbstraction, Colors"
   ]
  },
  {
   "cell_type": "code",
   "execution_count": 10,
>>>>>>> Add examples
   "metadata": {
    "collapsed": false
   },
   "outputs": [
    {
<<<<<<< 608c2b3b45bc93be6bd6be93a0143aa6762f0ced
     "name": "stderr",
     "output_type": "stream",
     "text": [
      "INFO: Recompiling stale cache file /Users/dpsanders/.julia/lib/v0.4/GLVisualize.ji for module GLVisualize.\n",
      "INFO: Recompiling stale cache file /Users/dpsanders/.julia/lib/v0.4/ModernGL.ji for module ModernGL.\n",
      "INFO: Recompiling stale cache file /Users/dpsanders/.julia/lib/v0.4/GLWindow.ji for module GLWindow.\n",
      "INFO: Recompiling stale cache file /Users/dpsanders/.julia/lib/v0.4/GLAbstraction.ji for module GLAbstraction.\n",
      "INFO: Recompiling stale cache file /Users/dpsanders/.julia/lib/v0.4/DualNumbers.ji for module DualNumbers.\n",
      "INFO: Recompiling stale cache file /Users/dpsanders/.julia/lib/v0.4/Quaternions.ji for module Quaternions.\n",
      "INFO: Recompiling stale cache file /Users/dpsanders/.julia/lib/v0.4/GeometryTypes.ji for module GeometryTypes.\n",
      "INFO: Recompiling stale cache file /Users/dpsanders/.julia/lib/v0.4/Mustache.ji for module Mustache.\n",
      "INFO: Recompiling stale cache file /Users/dpsanders/.julia/lib/v0.4/FileIO.ji for module FileIO.\n",
      "INFO: Recompiling stale cache file /Users/dpsanders/.julia/lib/v0.4/Packing.ji for module Packing.\n",
      "INFO: Recompiling stale cache file /Users/dpsanders/.julia/lib/v0.4/FreeType.ji for module FreeType.\n",
      "INFO: Recompiling stale cache file /Users/dpsanders/.julia/lib/v0.4/ColorVectorSpace.ji for module ColorVectorSpace.\n",
      "INFO: Recompiling stale cache file /Users/dpsanders/.julia/lib/v0.4/Images.ji for module Images.\n",
      "INFO: Recompiling stale cache file /Users/dpsanders/.julia/lib/v0.4/Graphics.ji for module Graphics.\n",
      "WARNING: Base.String is deprecated, use AbstractString instead.\n",
      "  likely near /Users/dpsanders/.julia/v0.4/GLVisualize/src/FreeTypeAbstraction.jl:18\n",
      "WARNING: Base.String is deprecated, use AbstractString instead.\n",
      "  likely near /Users/dpsanders/.julia/v0.4/GLVisualize/src/FreeTypeAbstraction.jl:18\n",
      "INFO: Recompiling stale cache file /Users/dpsanders/.julia/lib/v0.4/Compose.ji for module Compose.\n",
      "INFO: Recompiling stale cache file /Users/dpsanders/.julia/lib/v0.4/Iterators.ji for module Iterators.\n"
     ]
    }
   ],
=======
   "execution_count": 8,
   "metadata": {
    "collapsed": false
   },
   "outputs": [],
>>>>>>> Changes
=======
   "execution_count": 5,
=======
     "data": {
      "text/plain": [
       "18043-element Array{ValidatedNumerics.IntervalBox{3,Float64},1}:\n",
       " [2.90625, 3] × [-1, -0.90625] × [-0.999844, -0.90625]               \n",
       " [2.8125, 2.90625] × [-0.90625, -0.8125] × [-1, -0.90625]            \n",
       " [2.8125, 2.90625] × [-1, -0.90625] × [-0.90625, -0.8125]            \n",
       " [2.8125, 2.90625] × [-1, -0.90625] × [-1, -0.90625]                 \n",
       " [2.71869, 2.80987] × [-0.8125, -0.721324] × [-0.997362, -0.906193]  \n",
       " [2.625, 2.70678] × [-0.720066, -0.63829] × [-0.982253, -0.904934]   \n",
       " [2.625, 2.71211] × [-0.8125, -0.725395] × [-0.899605, -0.8125]      \n",
       " [2.625, 2.7187] × [-0.8125, -0.720065] × [-0.98671, -0.899604]      \n",
       " [2.71872, 2.81245] × [-1, -0.906278] × [-0.812444, -0.718721]       \n",
       " [2.625, 2.71873] × [-0.906279, -0.812556] × [-0.812444, -0.718721]  \n",
       " [2.625, 2.71873] × [-1, -0.906278] × [-0.718722, -0.625]            \n",
       " [2.625, 2.71873] × [-1, -0.906278] × [-0.812444, -0.718721]         \n",
       " [2.71875, 2.812] × [-0.90625, -0.813008] × [-0.905742, -0.8125]     \n",
       " ⋮                                                                   \n",
       " [-2.8409, -2.79507] × [-2.70648, -2.65834] × [-0.454611, -0.392329] \n",
       " [-2.8409, -2.74665] × [-2.70648, -2.60738] × [-0.516892, -0.45461]  \n",
       " [-2.93514, -2.8492] × [-2.64944, -2.59807] × [-0.454611, -0.392329] \n",
       " [-2.88886, -2.84089] × [-2.70081, -2.64943] × [-0.454611, -0.392329]\n",
       " [-2.89612, -2.84089] × [-2.65835, -2.59807] × [-0.516892, -0.45461] \n",
       " [-2.8355, -2.74155] × [-2.76068, -2.70647] × [-0.454611, -0.392329] \n",
       " [-2.78276, -2.72791] × [-2.81488, -2.76067] × [-0.454611, -0.392329]\n",
       " [-2.79508, -2.72791] × [-2.77416, -2.70647] × [-0.516892, -0.45461] \n",
       " [-2.79137, -2.73331] × [-2.66173, -2.60078] × [-0.579172, -0.516891]\n",
       " [-2.84941, -2.79136] × [-2.66035, -2.59807] × [-0.579172, -0.516891]\n",
       " [-2.79389, -2.72791] × [-2.66173, -2.59807] × [-0.641453, -0.579171]\n",
       " [-2.79005, -2.72791] × [-2.72537, -2.66172] × [-0.584583, -0.516891]"
      ]
     },
     "execution_count": 10,
     "metadata": {},
     "output_type": "execute_result"
    }
   ],
   "source": [
    "inner = paving.inner\n",
    "boundary = paving.boundary"
   ]
  },
  {
   "cell_type": "code",
   "execution_count": 25,
>>>>>>> Add examples
   "metadata": {
    "collapsed": false
   },
   "outputs": [
    {
     "name": "stderr",
     "output_type": "stream",
     "text": [
      "INFO: Recompiling stale cache file /Users/dpsanders/.julia/lib/v0.4/Blosc.ji for module Blosc.\n",
      "INFO: Recompiling stale cache file /Users/dpsanders/.julia/lib/v0.4/JLD.ji for module JLD.\n",
      "INFO: Recompiling stale cache file /Users/dpsanders/.julia/lib/v0.4/HDF5.ji for module HDF5.\n"
     ]
    }
   ],
>>>>>>> Fix up some notebooks with new paving type
   "source": [
    "using JLD"
   ]
  },
  {
   "cell_type": "code",
<<<<<<< 608c2b3b45bc93be6bd6be93a0143aa6762f0ced
<<<<<<< 1cdb6b901b11bfa9b7d035deb63b2a029ffbc76a
<<<<<<< 69dfea55a35258cab73dde6c68c8874b5ba86919
   "execution_count": 9,
=======
   "execution_count": 12,
>>>>>>> Changes
=======
   "execution_count": 9,
>>>>>>> Fix up some notebooks with new paving type
=======
   "execution_count": 26,
   "metadata": {
    "collapsed": false
   },
   "outputs": [
    {
     "data": {
      "text/plain": [
       "Dict{ByteString,Any} with 1 entry:\n",
       "  \"boundary\" => 9240-elementArray{ValidatedNumerics.IntervalBox{3,Float64},1}:…"
      ]
     },
     "execution_count": 26,
     "metadata": {},
     "output_type": "execute_result"
    }
   ],
   "source": [
    "X = load(\"weird.jld\")"
   ]
  },
  {
   "cell_type": "code",
   "execution_count": 31,
   "metadata": {
    "collapsed": false
   },
   "outputs": [
    {
     "data": {
      "text/plain": [
       "0-element Array{ValidatedNumerics.IntervalBox{3,Float64},1}"
      ]
     },
     "execution_count": 31,
     "metadata": {},
     "output_type": "execute_result"
    }
   ],
   "source": [
    "boundary = X[\"boundary\"];\n",
    "inner = typeof(boundary[1])[]"
   ]
  },
  {
   "cell_type": "code",
   "execution_count": 32,
>>>>>>> Add examples
   "metadata": {
    "collapsed": false
   },
   "outputs": [],
   "source": [
    "positions = Point3{Float32}[Point3(mid(x)) for x in vcat(inner, boundary)]\n",
    "scales = Vec3f0[Vec3f0([diam(x) for x in xx]) for xx in vcat(inner, boundary)]\n",
    "\n",
    "zs = Float32[x[3] for x in positions]\n",
    "minz = minimum(zs)\n",
    "maxz = maximum(zs)\n",
    "\n",
    "xs = Float32[x[1] for x in positions]\n",
    "minx = minimum(xs)\n",
    "maxx = maximum(xs)\n",
    "\n",
    "\n",
    "colors = RGBA{Float32}[RGBA( (x[3]-minz)/(maxz-minz), (x[1]-minx)/(maxx-minx), 0f0, \n",
    "    (i <= length(inner)) ? 0.2f0 : 0.05f0) for (i,x) in enumerate(positions)];\n",
    "\n"
   ]
  },
  {
   "cell_type": "code",
<<<<<<< 608c2b3b45bc93be6bd6be93a0143aa6762f0ced
<<<<<<< 1cdb6b901b11bfa9b7d035deb63b2a029ffbc76a
<<<<<<< 69dfea55a35258cab73dde6c68c8874b5ba86919
   "execution_count": 10,
=======
   "execution_count": 13,
>>>>>>> Changes
=======
   "execution_count": 10,
>>>>>>> Fix up some notebooks with new paving type
=======
   "execution_count": 37,
>>>>>>> Add examples
   "metadata": {
    "collapsed": false
   },
   "outputs": [
    {
     "name": "stdout",
     "output_type": "stream",
     "text": [
      "Visualization packages loaded.\n"
     ]
    },
    {
     "data": {
      "text/plain": [
       "Ptr{Void} @0x0000000000000000"
      ]
     },
<<<<<<< 608c2b3b45bc93be6bd6be93a0143aa6762f0ced
<<<<<<< 1cdb6b901b11bfa9b7d035deb63b2a029ffbc76a
<<<<<<< 69dfea55a35258cab73dde6c68c8874b5ba86919
     "execution_count": 10,
=======
     "execution_count": 13,
>>>>>>> Changes
=======
     "execution_count": 10,
>>>>>>> Fix up some notebooks with new paving type
=======
     "execution_count": 37,
>>>>>>> Add examples
     "metadata": {},
     "output_type": "execute_result"
    }
   ],
   "source": [
    "using GLVisualize, GeometryTypes, GLAbstraction, Colors\n",
    "println(\"Visualization packages loaded.\")\n",
    "\n",
    "cube_particle = HyperRectangle{3, Float32}(Vec3f0(-0.5, -0.5, -0.5), Vec3f0(1, 1, 1))\n",
    "\n",
    "window = glscreen()\n",
    "\n",
    "vis = visualize( (cube_particle, positions), scale=scales, color=colors)\n",
    "\n",
    "view(vis)\n",
    "\n",
    "\n",
    "renderloop(window)"
   ]
  },
  {
   "cell_type": "code",
   "execution_count": null,
   "metadata": {
    "collapsed": true
   },
   "outputs": [],
   "source": []
  }
 ],
 "metadata": {
  "kernelspec": {
   "display_name": "Julia 0.4.6",
   "language": "julia",
   "name": "julia-0.4"
  },
  "language_info": {
   "file_extension": ".jl",
   "mimetype": "application/julia",
   "name": "julia",
   "version": "0.4.6"
  },
  "widgets": {
   "state": {},
   "version": "1.1.2"
  }
 },
 "nbformat": 4,
 "nbformat_minor": 0
}
