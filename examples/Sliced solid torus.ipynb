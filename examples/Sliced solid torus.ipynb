{
 "cells": [
  {
   "cell_type": "code",
   "execution_count": 1,
   "metadata": {
    "collapsed": false
   },
   "outputs": [
    {
     "name": "stderr",
     "output_type": "stream",
     "text": [
      "INFO: Precompiling module IntervalConstraintProgramming...\n"
     ]
    }
   ],
   "source": [
    "using IntervalConstraintProgramming, ValidatedNumerics"
   ]
  },
  {
   "cell_type": "code",
   "execution_count": 2,
   "metadata": {
    "collapsed": false
   },
   "outputs": [
    {
     "name": "stdout",
     "output_type": "stream",
     "text": [
      "op = :^\n",
      "op = :^\n",
      "op = :+\n",
      "op = :sqrt\n",
      "op = :-\n",
      "op = :^\n",
      "op = :^\n",
      "op = :+\n",
      "op = :+\n",
      "op = :+\n"
     ]
    },
    {
     "data": {
      "text/plain": [
       "Separator:\n",
       "- variables: x, y, z\n",
       "- expression: x + y + z ∈ [-∞, 1]\n"
      ]
     },
     "execution_count": 2,
     "metadata": {},
     "output_type": "execute_result"
    }
   ],
   "source": [
    "solid_torus = @constraint (3 - sqrt(x^2 + y^2))^2 + z^2 <= 1\n",
    "\n",
    "half_plane = @constraint x + y + z <= 1"
   ]
  },
  {
   "cell_type": "code",
   "execution_count": 3,
   "metadata": {
    "collapsed": false
   },
   "outputs": [
    {
     "name": "stdout",
     "output_type": "stream",
     "text": [
      "  4.261427 seconds (8.18 M allocations: 319.906 MB, 2.95% gc time)\n"
     ]
    }
   ],
   "source": [
    "Y = IntervalBox(-5..5, -5..5, -5..5)\n",
    "@time paving = pave(solid_torus ∩ half_plane, Y, 0.25);"
   ]
  },
  {
   "cell_type": "code",
   "execution_count": 4,
   "metadata": {
    "collapsed": false
   },
   "outputs": [
    {
     "name": "stdout",
     "output_type": "stream",
     "text": [
      "  9.290564 seconds (75.27 M allocations: 2.350 GB, 8.94% gc time)\n"
     ]
    },
    {
     "data": {
      "text/plain": [
       "0.09"
      ]
     },
     "execution_count": 4,
     "metadata": {},
     "output_type": "execute_result"
    }
   ],
   "source": [
    "@time refine!(paving, 0.09)"
   ]
  },
  {
   "cell_type": "markdown",
   "metadata": {},
   "source": [
    "## 3D vis "
   ]
  },
  {
   "cell_type": "code",
   "execution_count": 4,
   "metadata": {
    "collapsed": false
   },
   "outputs": [],
   "source": [
    "inner = paving.inner\n",
    "boundary = paving.boundary;"
   ]
  },
  {
   "cell_type": "code",
   "execution_count": 5,
   "metadata": {
    "collapsed": false
   },
   "outputs": [
    {
     "name": "stderr",
     "output_type": "stream",
     "text": [
      "INFO: Recompiling stale cache file /Users/dpsanders/.julia/lib/v0.5/FileIO.ji for module FileIO.\n",
      "INFO: Recompiling stale cache file /Users/dpsanders/.julia/lib/v0.5/GLVisualize.ji for module GLVisualize.\n",
      "INFO: Recompiling stale cache file /Users/dpsanders/.julia/lib/v0.5/GLFW.ji for module GLFW.\n",
      "INFO: Recompiling stale cache file /Users/dpsanders/.julia/lib/v0.5/ColorTypes.ji for module ColorTypes.\n",
      "INFO: Recompiling stale cache file /Users/dpsanders/.julia/lib/v0.5/FixedPointNumbers.ji for module FixedPointNumbers.\n",
      "INFO: Recompiling stale cache file /Users/dpsanders/.julia/lib/v0.5/GLWindow.ji for module GLWindow.\n",
      "INFO: Recompiling stale cache file /Users/dpsanders/.julia/lib/v0.5/ModernGL.ji for module ModernGL.\n",
      "WARNING: `@linux` is deprecated, use `@static is_linux()` instead\n",
      " in depwarn(::String, ::Symbol) at ./deprecated.jl:64\n",
      " in depwarn(::String, ::Symbol) at /Applications/Julia-0.5.app/Contents/Resources/julia/lib/julia/sys.dylib:?\n",
      " in @linux(::Any, ::Any) at ./deprecated.jl:485\n",
      " in include_from_node1(::String) at ./loading.jl:426\n",
      " in include_from_node1(::String) at /Applications/Julia-0.5.app/Contents/Resources/julia/lib/julia/sys.dylib:?\n",
      " in macro expansion; at ./none:2 [inlined]\n",
      " in anonymous at ./<missing>:?\n",
      " in eval(::Module, ::Any) at ./boot.jl:234\n",
      " in eval(::Module, ::Any) at /Applications/Julia-0.5.app/Contents/Resources/julia/lib/julia/sys.dylib:?\n",
      " in process_options(::Base.JLOptions) at ./client.jl:239\n",
      " in _start() at ./client.jl:318\n",
      " in _start() at /Applications/Julia-0.5.app/Contents/Resources/julia/lib/julia/sys.dylib:?\n",
      "while loading /Users/dpsanders/.julia/v0.5/ModernGL/src/ModernGL.jl, in expression starting on line 23\n",
      "INFO: Recompiling stale cache file /Users/dpsanders/.julia/lib/v0.5/DualNumbers.ji for module DualNumbers.\n",
      "WARNING: Method definition abs2(DualNumbers.Dual4) in module DualNumbers at /Users/dpsanders/.julia/v0.5/DualNumbers/src/dual_n.jl:78 overwritten at /Users/dpsanders/.julia/v0.5/DualNumbers/src/dual_n.jl:154.\n",
      "INFO: Recompiling stale cache file /Users/dpsanders/.julia/lib/v0.5/GLAbstraction.ji for module GLAbstraction.\n",
      "INFO: Recompiling stale cache file /Users/dpsanders/.julia/lib/v0.5/Quaternions.ji for module Quaternions.\n",
      "INFO: Recompiling stale cache file /Users/dpsanders/.julia/lib/v0.5/GeometryTypes.ji for module GeometryTypes.\n",
      "\n",
      "WARNING: deprecated syntax \"[a=>b for (a,b) in c]\".\n",
      "Use \"Dict(a=>b for (a,b) in c)\" instead.\n",
      "\n",
      "WARNING: deprecated syntax \"call(t::Type{Vector{Point{N,T}}}, ...)\".\n",
      "Use \"(t::Type{Vector{Point{N,T}}})(...)\" instead.\n",
      "INFO: Recompiling stale cache file /Users/dpsanders/.julia/lib/v0.5/Reactive.ji for module Reactive.\n",
      "\n",
      "WARNING: deprecated syntax \"call(::FullscreenPreRender, ...)\".\n",
      "Use \"(::FullscreenPreRender)(...)\" instead.\n",
      "\n",
      "WARNING: deprecated syntax \"call(fs::FullScreenPostRender, ...)\".\n",
      "Use \"(fs::FullScreenPostRender)(...)\" instead.\n",
      "\n",
      "WARNING: deprecated syntax \"call(::OITPreRender, ...)\".\n",
      "Use \"(::OITPreRender)(...)\" instead.\n",
      "\n",
      "WARNING: deprecated syntax \"call(::OpaquePreRender, ...)\".\n",
      "Use \"(::OpaquePreRender)(...)\" instead.\n",
      "WARNING: Base.UTF8String is deprecated, use String instead.\n",
      "  likely near /Users/dpsanders/.julia/v0.5/GLWindow/src/types.jl:246\n",
      "WARNING: Base.UTF8String is deprecated, use String instead.\n",
      "  likely near /Users/dpsanders/.julia/v0.5/GLWindow/src/types.jl:246\n",
      "WARNING: Base.UTF8String is deprecated, use String instead.\n",
      "  likely near /Users/dpsanders/.julia/v0.5/GLWindow/src/callbacks.jl:480\n",
      "WARNING: Base.UTF8String is deprecated, use String instead.\n",
      "  likely near /Users/dpsanders/.julia/v0.5/GLWindow/src/callbacks.jl:481\n",
      "\n",
      "WARNING: deprecated syntax \"[a=>b for (a,b) in c]\".\n",
      "Use \"Dict(a=>b for (a,b) in c)\" instead.\n",
      "WARNING: `@osx_only` is deprecated, use `@static if is_apple()` instead\n",
      " in depwarn(::String, ::Symbol) at ./deprecated.jl:64\n",
      " in @osx_only(::Any) at ./deprecated.jl:497\n",
      " in docm(::String, ::Expr, ::Bool) at ./docs/Docs.jl:605 (repeats 2 times)\n",
      " in @doc(::String, ::Vararg{Any,N}) at ./boot.jl:337\n",
      " in include_from_node1(::String) at ./loading.jl:426\n",
      " in include_from_node1(::String) at /Applications/Julia-0.5.app/Contents/Resources/julia/lib/julia/sys.dylib:?\n",
      " in include_from_node1(::String) at ./loading.jl:426\n",
      " in include_from_node1(::String) at /Applications/Julia-0.5.app/Contents/Resources/julia/lib/julia/sys.dylib:?\n",
      " in macro expansion; at ./none:2 [inlined]\n",
      " in anonymous at ./<missing>:?\n",
      " in eval(::Module, ::Any) at ./boot.jl:234\n",
      " in eval(::Module, ::Any) at /Applications/Julia-0.5.app/Contents/Resources/julia/lib/julia/sys.dylib:?\n",
      " in process_options(::Base.JLOptions) at ./client.jl:239\n",
      " in _start() at ./client.jl:318\n",
      " in _start() at /Applications/Julia-0.5.app/Contents/Resources/julia/lib/julia/sys.dylib:?\n",
      "while loading /Users/dpsanders/.julia/v0.5/GLWindow/src/screen.jl, in expression starting on line 165\n",
      "INFO: Recompiling stale cache file /Users/dpsanders/.julia/lib/v0.5/Colors.ji for module Colors.\n",
      "INFO: Recompiling stale cache file /Users/dpsanders/.julia/lib/v0.5/Packing.ji for module Packing.\n",
      "INFO: Recompiling stale cache file /Users/dpsanders/.julia/lib/v0.5/FreeType.ji for module FreeType.\n",
      "INFO: Recompiling stale cache file /Users/dpsanders/.julia/lib/v0.5/ColorVectorSpace.ji for module ColorVectorSpace.\n",
      "INFO: Recompiling stale cache file /Users/dpsanders/.julia/lib/v0.5/Images.ji for module Images.\n",
      "INFO: Recompiling stale cache file /Users/dpsanders/.julia/lib/v0.5/StatsBase.ji for module StatsBase.\n",
      "INFO: Recompiling stale cache file /Users/dpsanders/.julia/lib/v0.5/StatsFuns.ji for module StatsFuns.\n",
      "INFO: Recompiling stale cache file /Users/dpsanders/.julia/lib/v0.5/Rmath.ji for module Rmath.\n",
      "INFO: Recompiling stale cache file /Users/dpsanders/.julia/lib/v0.5/Graphics.ji for module Graphics.\n"
     ]
    }
   ],
   "source": [
    "using GLVisualize, GeometryTypes, GLAbstraction, Colors"
   ]
  },
  {
   "cell_type": "code",
   "execution_count": 6,
   "metadata": {
    "collapsed": false
   },
   "outputs": [],
   "source": [
    "positions = Point3{Float32}[Point3(mid(x)) for x in vcat(inner, boundary)]\n",
    "scales = Vec3f0[Vec3f0([diam(x) for x in xx]) for xx in vcat(inner, boundary)]\n",
    "\n",
    "zs = Float32[x[3] for x in positions]\n",
    "minz = minimum(zs)\n",
    "maxz = maximum(zs)\n",
    "\n",
    "xs = Float32[x[1] for x in positions]\n",
    "minx = minimum(xs)\n",
    "maxx = maximum(xs)\n",
    "\n",
    "colors1 = RGBA{Float32}[RGBA( (zs[i]-minz)/(maxz-minz), (xs[i]-minx)/(maxx-minx), 0f0, 0.1f0)\n",
    "        for i in 1:length(inner)]\n",
    "colors2 = RGBA{Float32}[RGBA( 0.5f0, 0.5f0, 0.5f0, 0.02f0) for x in boundary];\n",
    "colors = vcat(colors1, colors2);"
   ]
  },
  {
   "cell_type": "code",
   "execution_count": 7,
   "metadata": {
    "collapsed": false,
    "scrolled": true
   },
   "outputs": [
    {
     "name": "stdout",
     "output_type": "stream",
     "text": [
      "Visualization packages loaded.\n"
     ]
    },
    {
     "name": "stderr",
     "output_type": "stream",
     "text": [
      "WARNING: Base.UTF8String is deprecated, use String instead.\n",
      "  likely near In[7]:6\n",
      "WARNING: Base.UTF8String is deprecated, use String instead.\n",
      "  likely near In[7]:6\n",
      "WARNING: Base.UTF8String is deprecated, use String instead.\n",
      "  likely near In[7]:6\n",
      "WARNING: Base.UTF8String is deprecated, use String instead.\n",
      "  likely near In[7]:6\n",
      "WARNING: utf8(s::AbstractString) is deprecated, use String(s) instead.\n",
      " in depwarn(::String, ::Symbol) at ./deprecated.jl:64\n",
      " in utf8(::String) at ./deprecated.jl:50\n",
      " in #create_glcontext#38(::Tuple{Int64,Int64}, ::Bool, ::Int64, ::Int64, ::Array{Tuple{UInt32,Int64},1}, ::Array{Tuple{UInt32,Integer},1}, ::Function, ::String) at /Users/dpsanders/.julia/v0.5/GLWindow/src/screen.jl:193\n",
      " in (::GLWindow.#kw##create_glcontext)(::Array{Any,1}, ::GLWindow.#create_glcontext, ::String) at ./<missing>:0\n",
      " in #Screen#39(::Tuple{Int64,Int64}, ::Bool, ::Int64, ::Int64, ::Array{Tuple{UInt32,Int64},1}, ::Array{Tuple{UInt32,Integer},1}, ::Array{Function,1}, ::ColorTypes.RGBA{FixedPointNumbers.UFixed{UInt8,8}}, ::Type{T}, ::String) at /Users/dpsanders/.julia/v0.5/GLWindow/src/screen.jl:223\n",
      " in (::Core.#kw#Type)(::Array{Any,1}, ::Type{GLWindow.Screen}, ::String) at ./<missing>:0\n",
      " in #glscreen#49(::Tuple{Int64,Int64}, ::Bool, ::ColorTypes.RGBA{FixedPointNumbers.UFixed{UInt8,8}}, ::Function, ::String) at /Users/dpsanders/.julia/v0.5/GLVisualize/src/renderloop.jl:34\n",
      " in glscreen() at /Users/dpsanders/.julia/v0.5/GLVisualize/src/renderloop.jl:32\n",
      " in include_string(::String, ::String) at ./loading.jl:380\n",
      " in execute_request(::ZMQ.Socket, ::IJulia.Msg) at /Users/dpsanders/.julia/v0.5/IJulia/src/execute_request.jl:151\n",
      " in eventloop(::ZMQ.Socket) at /Users/dpsanders/.julia/v0.5/IJulia/src/eventloop.jl:8\n",
      " in (::IJulia.##9#15)() at ./task.jl:360\n",
      "while loading In[7], in expression starting on line 6\n",
      "WARNING: symbol is deprecated, use Symbol instead.\n",
      " in depwarn(::String, ::Symbol) at ./deprecated.jl:64\n",
      " in symbol(::SubString{String}, ::Vararg{SubString{String},N}) at ./deprecated.jl:30\n",
      " in grow_to!(::Dict{Union{},Union{}}, ::Base.Generator{Array{Function,1},GLWindow.##31#32{GLFW.Window}}, ::Int64) at ./dict.jl:410\n",
      " in grow_to!(::Dict{Any,Any}, ::Base.Generator{Array{Function,1},GLWindow.##31#32{GLFW.Window}}) at ./dict.jl:404\n",
      " in Dict{K,V}(::Base.Generator{Array{Function,1},GLWindow.##31#32{GLFW.Window}}) at ./dict.jl:384\n",
      " in register_callbacks(::GLFW.Window, ::Array{Function,1}) at /Users/dpsanders/.julia/v0.5/GLWindow/src/callbacks.jl:150\n",
      " in #Screen#39(::Tuple{Int64,Int64}, ::Bool, ::Int64, ::Int64, ::Array{Tuple{UInt32,Int64},1}, ::Array{Tuple{UInt32,Integer},1}, ::Array{Function,1}, ::ColorTypes.RGBA{FixedPointNumbers.UFixed{UInt8,8}}, ::Type{T}, ::String) at /Users/dpsanders/.julia/v0.5/GLWindow/src/screen.jl:232\n",
      " in (::Core.#kw#Type)(::Array{Any,1}, ::Type{GLWindow.Screen}, ::String) at ./<missing>:0\n",
      " in #glscreen#49(::Tuple{Int64,Int64}, ::Bool, ::ColorTypes.RGBA{FixedPointNumbers.UFixed{UInt8,8}}, ::Function, ::String) at /Users/dpsanders/.julia/v0.5/GLVisualize/src/renderloop.jl:34\n",
      " in glscreen() at /Users/dpsanders/.julia/v0.5/GLVisualize/src/renderloop.jl:32\n",
      " in include_string(::String, ::String) at ./loading.jl:380\n",
      " in execute_request(::ZMQ.Socket, ::IJulia.Msg) at /Users/dpsanders/.julia/v0.5/IJulia/src/execute_request.jl:151\n",
      " in eventloop(::ZMQ.Socket) at /Users/dpsanders/.julia/v0.5/IJulia/src/eventloop.jl:8\n",
      " in (::IJulia.##9#15)() at ./task.jl:360\n",
      "while loading In[7], in expression starting on line 6\n",
      "WARNING: symbol is deprecated, use Symbol instead.\n",
      " in depwarn(::String, ::Symbol) at ./deprecated.jl:64\n",
      " in symbol(::SubString{String}, ::Vararg{SubString{String},N}) at ./deprecated.jl:30\n",
      " in grow_to!(::Dict{Symbol,Reactive.Signal{Bool}}, ::Base.Generator{Array{Function,1},GLWindow.##31#32{GLFW.Window}}, ::Int64) at ./dict.jl:410\n",
      " in grow_to!(::Dict{Union{},Union{}}, ::Base.Generator{Array{Function,1},GLWindow.##31#32{GLFW.Window}}, ::Int64) at ./dict.jl:417\n",
      " in grow_to!(::Dict{Any,Any}, ::Base.Generator{Array{Function,1},GLWindow.##31#32{GLFW.Window}}) at ./dict.jl:404\n",
      " in Dict{K,V}(::Base.Generator{Array{Function,1},GLWindow.##31#32{GLFW.Window}}) at ./dict.jl:384\n",
      " in register_callbacks(::GLFW.Window, ::Array{Function,1}) at /Users/dpsanders/.julia/v0.5/GLWindow/src/callbacks.jl:150\n",
      " in #Screen#39(::Tuple{Int64,Int64}, ::Bool, ::Int64, ::Int64, ::Array{Tuple{UInt32,Int64},1}, ::Array{Tuple{UInt32,Integer},1}, ::Array{Function,1}, ::ColorTypes.RGBA{FixedPointNumbers.UFixed{UInt8,8}}, ::Type{T}, ::String) at /Users/dpsanders/.julia/v0.5/GLWindow/src/screen.jl:232\n",
      " in (::Core.#kw#Type)(::Array{Any,1}, ::Type{GLWindow.Screen}, ::String) at ./<missing>:0\n",
      " in #glscreen#49(::Tuple{Int64,Int64}, ::Bool, ::ColorTypes.RGBA{FixedPointNumbers.UFixed{UInt8,8}}, ::Function, ::String) at /Users/dpsanders/.julia/v0.5/GLVisualize/src/renderloop.jl:34\n",
      " in glscreen() at /Users/dpsanders/.julia/v0.5/GLVisualize/src/renderloop.jl:32\n",
      " in include_string(::String, ::String) at ./loading.jl:380\n",
      " in execute_request(::ZMQ.Socket, ::IJulia.Msg) at /Users/dpsanders/.julia/v0.5/IJulia/src/execute_request.jl:151\n",
      " in eventloop(::ZMQ.Socket) at /Users/dpsanders/.julia/v0.5/IJulia/src/eventloop.jl:8\n",
      " in (::IJulia.##9#15)() at ./task.jl:360\n",
      "while loading In[7], in expression starting on line 6\n",
      "WARNING: symbol is deprecated, use Symbol instead.\n",
      " in depwarn(::String, ::Symbol) at ./deprecated.jl:64\n",
      " in symbol(::SubString{String}, ::Vararg{SubString{String},N}) at ./deprecated.jl:30\n",
      " in grow_to!(::Dict{Symbol,Reactive.Signal}, ::Base.Generator{Array{Function,1},GLWindow.##31#32{GLFW.Window}}, ::Int64) at ./dict.jl:410\n",
      " in grow_to!(::Dict{Symbol,Reactive.Signal{Bool}}, ::Base.Generator{Array{Function,1},GLWindow.##31#32{GLFW.Window}}, ::Int64) at ./dict.jl:417 (repeats 2 times)\n",
      " in grow_to!(::Dict{Any,Any}, ::Base.Generator{Array{Function,1},GLWindow.##31#32{GLFW.Window}}) at ./dict.jl:404\n",
      " in Dict{K,V}(::Base.Generator{Array{Function,1},GLWindow.##31#32{GLFW.Window}}) at ./dict.jl:384\n",
      " in register_callbacks(::GLFW.Window, ::Array{Function,1}) at /Users/dpsanders/.julia/v0.5/GLWindow/src/callbacks.jl:150\n",
      " in #Screen#39(::Tuple{Int64,Int64}, ::Bool, ::Int64, ::Int64, ::Array{Tuple{UInt32,Int64},1}, ::Array{Tuple{UInt32,Integer},1}, ::Array{Function,1}, ::ColorTypes.RGBA{FixedPointNumbers.UFixed{UInt8,8}}, ::Type{T}, ::String) at /Users/dpsanders/.julia/v0.5/GLWindow/src/screen.jl:232\n",
      " in (::Core.#kw#Type)(::Array{Any,1}, ::Type{GLWindow.Screen}, ::String) at ./<missing>:0\n",
      " in #glscreen#49(::Tuple{Int64,Int64}, ::Bool, ::ColorTypes.RGBA{FixedPointNumbers.UFixed{UInt8,8}}, ::Function, ::String) at /Users/dpsanders/.julia/v0.5/GLVisualize/src/renderloop.jl:34\n",
      " in glscreen() at /Users/dpsanders/.julia/v0.5/GLVisualize/src/renderloop.jl:32\n",
      " in include_string(::String, ::String) at ./loading.jl:380\n",
      " in execute_request(::ZMQ.Socket, ::IJulia.Msg) at /Users/dpsanders/.julia/v0.5/IJulia/src/execute_request.jl:151\n",
      " in eventloop(::ZMQ.Socket) at /Users/dpsanders/.julia/v0.5/IJulia/src/eventloop.jl:8\n",
      " in (::IJulia.##9#15)() at ./task.jl:360\n",
      "while loading In[7], in expression starting on line 6\n",
      "WARNING: Base.UTF8String is deprecated, use String instead.\n",
      "  likely near In[7]:6\n",
      "WARNING: Base.UTF8String is deprecated, use String instead.\n",
      "  likely near In[7]:6\n",
      "WARNING: Base.UTF8String is deprecated, use String instead.\n",
      "  likely near In[7]:6\n",
      "WARNING: Base.UTF8String is deprecated, use String instead.\n",
      "  likely near In[7]:6\n",
      "WARNING: symbol is deprecated, use Symbol instead.\n",
      " in depwarn(::String, ::Symbol) at ./deprecated.jl:64\n",
      " in symbol(::String, ::Vararg{String,N}) at ./deprecated.jl:30\n",
      " in #Screen#39(::Tuple{Int64,Int64}, ::Bool, ::Int64, ::Int64, ::Array{Tuple{UInt32,Int64},1}, ::Array{Tuple{UInt32,Integer},1}, ::Array{Function,1}, ::ColorTypes.RGBA{FixedPointNumbers.UFixed{UInt8,8}}, ::Type{T}, ::String) at /Users/dpsanders/.julia/v0.5/GLWindow/src/screen.jl:259\n",
      " in (::Core.#kw#Type)(::Array{Any,1}, ::Type{GLWindow.Screen}, ::String) at ./<missing>:0\n",
      " in #glscreen#49(::Tuple{Int64,Int64}, ::Bool, ::ColorTypes.RGBA{FixedPointNumbers.UFixed{UInt8,8}}, ::Function, ::String) at /Users/dpsanders/.julia/v0.5/GLVisualize/src/renderloop.jl:34\n",
      " in glscreen() at /Users/dpsanders/.julia/v0.5/GLVisualize/src/renderloop.jl:32\n",
      " in include_string(::String, ::String) at ./loading.jl:380\n",
      " in execute_request(::ZMQ.Socket, ::IJulia.Msg) at /Users/dpsanders/.julia/v0.5/IJulia/src/execute_request.jl:151\n",
      " in eventloop(::ZMQ.Socket) at /Users/dpsanders/.julia/v0.5/IJulia/src/eventloop.jl:8\n",
      " in (::IJulia.##9#15)() at ./task.jl:360\n",
      "while loading In[7], in expression starting on line 6\n",
      "WARNING: symbol is deprecated, use Symbol instead.\n",
      " in depwarn(::String, ::Symbol) at ./deprecated.jl:64\n",
      " in symbol(::String, ::Vararg{String,N}) at ./deprecated.jl:30\n",
      " in button_signals(::Reactive.Signal{Tuple{Int64,Int64,Int64}}, ::Symbol) at /Users/dpsanders/.julia/v0.5/GLWindow/src/events.jl:79\n",
      " in add_complex_signals!(::GLWindow.Screen) at /Users/dpsanders/.julia/v0.5/GLWindow/src/events.jl:21\n",
      " in #glscreen#49(::Tuple{Int64,Int64}, ::Bool, ::ColorTypes.RGBA{FixedPointNumbers.UFixed{UInt8,8}}, ::Function, ::String) at /Users/dpsanders/.julia/v0.5/GLVisualize/src/renderloop.jl:37\n",
      " in glscreen() at /Users/dpsanders/.julia/v0.5/GLVisualize/src/renderloop.jl:32\n",
      " in include_string(::String, ::String) at ./loading.jl:380\n",
      " in execute_request(::ZMQ.Socket, ::IJulia.Msg) at /Users/dpsanders/.julia/v0.5/IJulia/src/execute_request.jl:151\n",
      " in eventloop(::ZMQ.Socket) at /Users/dpsanders/.julia/v0.5/IJulia/src/eventloop.jl:8\n",
      " in (::IJulia.##9#15)() at ./task.jl:360\n",
      "while loading In[7], in expression starting on line 6\n",
      "WARNING: symbol is deprecated, use Symbol instead.\n",
      " in depwarn(::String, ::Symbol) at ./deprecated.jl:64\n",
      " in symbol(::String, ::Vararg{String,N}) at ./deprecated.jl:30\n",
      " in button_signals(::Reactive.Signal{Tuple{Int64,Int64,Int64}}, ::Symbol) at /Users/dpsanders/.julia/v0.5/GLWindow/src/events.jl:79\n",
      " in add_complex_signals!(::GLWindow.Screen) at /Users/dpsanders/.julia/v0.5/GLWindow/src/events.jl:21\n",
      " in #glscreen#49(::Tuple{Int64,Int64}, ::Bool, ::ColorTypes.RGBA{FixedPointNumbers.UFixed{UInt8,8}}, ::Function, ::String) at /Users/dpsanders/.julia/v0.5/GLVisualize/src/renderloop.jl:37\n",
      " in glscreen() at /Users/dpsanders/.julia/v0.5/GLVisualize/src/renderloop.jl:32\n",
      " in include_string(::String, ::String) at ./loading.jl:380\n",
      " in execute_request(::ZMQ.Socket, ::IJulia.Msg) at /Users/dpsanders/.julia/v0.5/IJulia/src/execute_request.jl:151\n",
      " in eventloop(::ZMQ.Socket) at /Users/dpsanders/.julia/v0.5/IJulia/src/eventloop.jl:8\n",
      " in (::IJulia.##9#15)() at ./task.jl:360\n",
      "while loading In[7], in expression starting on line 6\n",
      "WARNING: symbol is deprecated, use Symbol instead.\n",
      " in depwarn(::String, ::Symbol) at ./deprecated.jl:64\n",
      " in symbol(::String, ::Vararg{String,N}) at ./deprecated.jl:30\n",
      " in button_signals(::Reactive.Signal{Tuple{Int64,Int64,Int64}}, ::Symbol) at /Users/dpsanders/.julia/v0.5/GLWindow/src/events.jl:79\n",
      " in add_complex_signals!(::GLWindow.Screen) at /Users/dpsanders/.julia/v0.5/GLWindow/src/events.jl:21\n",
      " in #glscreen#49(::Tuple{Int64,Int64}, ::Bool, ::ColorTypes.RGBA{FixedPointNumbers.UFixed{UInt8,8}}, ::Function, ::String) at /Users/dpsanders/.julia/v0.5/GLVisualize/src/renderloop.jl:37\n",
      " in glscreen() at /Users/dpsanders/.julia/v0.5/GLVisualize/src/renderloop.jl:32\n",
      " in include_string(::String, ::String) at ./loading.jl:380\n",
      " in execute_request(::ZMQ.Socket, ::IJulia.Msg) at /Users/dpsanders/.julia/v0.5/IJulia/src/execute_request.jl:151\n",
      " in eventloop(::ZMQ.Socket) at /Users/dpsanders/.julia/v0.5/IJulia/src/eventloop.jl:8\n",
      " in (::IJulia.##9#15)() at ./task.jl:360\n",
      "while loading In[7], in expression starting on line 6\n"
     ]
    },
    {
     "ename": "LoadError",
     "evalue": "LoadError: MethodError: Cannot `convert` an object of type Reactive.Signal{GLAbstraction.Shader} to an object of type String\nThis may have arisen from a call to the constructor String(...),\nsince type constructors fall back to convert methods.\nwhile loading In[7], in expression starting on line 6",
     "output_type": "error",
     "traceback": [
      "LoadError: MethodError: Cannot `convert` an object of type Reactive.Signal{GLAbstraction.Shader} to an object of type String\nThis may have arisen from a call to the constructor String(...),\nsince type constructors fall back to convert methods.\nwhile loading In[7], in expression starting on line 6",
      "",
      " in get!(::Function, ::Dict{String,Array{String,1}}, ::Reactive.Signal{GLAbstraction.Shader}) at ./dict.jl:650",
      " in (::GLAbstraction.##85#89{Dict{Symbol,Any},Dict{Any,Any}})(::Reactive.Signal{GLAbstraction.Shader}) at /Users/dpsanders/.julia/v0.5/GLAbstraction/src/GLShader.jl:305",
      " in map(::GLAbstraction.##85#89{Dict{Symbol,Any},Dict{Any,Any}}, ::Tuple{Reactive.Signal{GLAbstraction.Shader},Reactive.Signal{GLAbstraction.Shader}}) at ./tuple.jl:93",
      " in gl_convert(::GLAbstraction.LazyShader, ::Dict{Symbol,Any}) at /Users/dpsanders/.julia/v0.5/GLAbstraction/src/GLShader.jl:304",
      " in GLAbstraction.RenderObject{Pre}(::Dict{Symbol,Any}, ::GLAbstraction.LazyShader, ::GLWindow.FullscreenPreRender, ::Void, ::Reactive.Signal{GeometryTypes.HyperRectangle{3,Float32}}, ::Void) at /Users/dpsanders/.julia/v0.5/GLAbstraction/src/GLTypes.jl:259",
      " in GLAbstraction.RenderObject{Pre}(::Dict{Symbol,Any}, ::GLAbstraction.LazyShader, ::GLWindow.FullscreenPreRender, ::Void) at /Users/dpsanders/.julia/v0.5/GLAbstraction/src/GLTypes.jl:229",
      " in OITResolve(::GLAbstraction.Texture{ColorTypes.RGBA{Float16},2}, ::GLAbstraction.Texture{FixedPointNumbers.UFixed{UInt8,8},2}, ::GLAbstraction.Texture{ColorTypes.RGBA{FixedPointNumbers.UFixed{UInt8,8}},2}) at /Users/dpsanders/.julia/v0.5/GLWindow/src/types.jl:182",
      " in add_oit_fxaa_postprocessing!(::GLWindow.Screen) at /Users/dpsanders/.julia/v0.5/GLWindow/src/types.jl:232",
      " in #glscreen#49(::Tuple{Int64,Int64}, ::Bool, ::ColorTypes.RGBA{FixedPointNumbers.UFixed{UInt8,8}}, ::Function, ::String) at /Users/dpsanders/.julia/v0.5/GLVisualize/src/renderloop.jl:38",
      " in glscreen() at /Users/dpsanders/.julia/v0.5/GLVisualize/src/renderloop.jl:32"
     ]
    }
   ],
   "source": [
    "using GLVisualize, GeometryTypes, GLAbstraction, Colors\n",
    "println(\"Visualization packages loaded.\")\n",
    "\n",
    "cube_particle = HyperRectangle{3, Float32}(Vec3f0(-0.5, -0.5, -0.5), Vec3f0(1, 1, 1))\n",
    "\n",
    "window = glscreen()\n",
    "\n",
    "vis = visualize( (cube_particle, positions), scale=scales, color=colors)\n",
    "\n",
    "_view(vis)\n",
    "\n",
    "\n",
    "renderloop(window)"
   ]
  },
  {
   "cell_type": "code",
   "execution_count": null,
   "metadata": {
    "collapsed": true
   },
   "outputs": [],
   "source": []
  }
 ],
 "metadata": {
  "kernelspec": {
   "display_name": "Julia 0.5.0-rc3",
   "language": "julia",
   "name": "julia-0.5"
  },
  "language_info": {
   "file_extension": ".jl",
   "mimetype": "application/julia",
   "name": "julia",
   "version": "0.5.0"
  },
  "widgets": {
   "state": {},
   "version": "1.1.2"
  }
 },
 "nbformat": 4,
 "nbformat_minor": 0
}
