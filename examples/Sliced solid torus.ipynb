{
 "cells": [
  {
   "cell_type": "code",
   "execution_count": 12,
   "metadata": {
    "collapsed": false
   },
   "outputs": [],
   "source": [
    "using IntervalConstraintProgramming, ValidatedNumerics"
   ]
  },
  {
   "cell_type": "code",
   "execution_count": 13,
   "metadata": {
    "collapsed": false
   },
   "outputs": [
    {
     "data": {
      "text/plain": [
       "Separator:\n",
       "- variables: x, y, z\n",
       "- expression: x + y + z ∈ [-∞, 1]\n"
      ]
     },
     "execution_count": 13,
     "metadata": {},
     "output_type": "execute_result"
    }
   ],
   "source": [
    "solid_torus = @constraint (3 - sqrt(x^2 + y^2))^2 + z^2 <= 1\n",
    "\n",
    "half_plane = @constraint x + y + z <= 1"
   ]
  },
  {
   "cell_type": "code",
   "execution_count": 14,
   "metadata": {
    "collapsed": false
   },
   "outputs": [
    {
     "ename": "LoadError",
     "evalue": "LoadError: MethodError: `call` has no method matching call(::IntervalConstraintProgramming.CombinationSeparator, ::ValidatedNumerics.IntervalBox{3,Float64})\nClosest candidates are:\n  BoundsError()\n  BoundsError(!Matched::Any...)\n  DivideError()\n  ...\nwhile loading In[14], in expression starting on line 155",
     "output_type": "error",
     "traceback": [
      "LoadError: MethodError: `call` has no method matching call(::IntervalConstraintProgramming.CombinationSeparator, ::ValidatedNumerics.IntervalBox{3,Float64})\nClosest candidates are:\n  BoundsError()\n  BoundsError(!Matched::Any...)\n  DivideError()\n  ...\nwhile loading In[14], in expression starting on line 155",
      "",
      " in pave at /Users/dpsanders/.julia/v0.4/IntervalConstraintProgramming/src/setinversion.jl:37",
      " in pave at /Users/dpsanders/.julia/v0.4/IntervalConstraintProgramming/src/setinversion.jl:78"
     ]
    }
   ],
   "source": [
    "Y = IntervalBox(-5..5, -5..5, -5..5)\n",
    "@time paving = pave(solid_torus ∩ half_plane, Y, 0.25);"
   ]
  },
  {
   "cell_type": "code",
   "execution_count": 4,
   "metadata": {
    "collapsed": false
   },
   "outputs": [
    {
     "name": "stdout",
     "output_type": "stream",
     "text": [
      "  9.290564 seconds (75.27 M allocations: 2.350 GB, 8.94% gc time)\n"
     ]
    },
    {
     "data": {
      "text/plain": [
       "0.09"
      ]
     },
     "execution_count": 4,
     "metadata": {},
     "output_type": "execute_result"
    }
   ],
   "source": [
    "@time refine!(paving, 0.09)"
   ]
  },
  {
   "cell_type": "markdown",
   "metadata": {},
   "source": [
    "## 3D vis "
   ]
  },
  {
   "cell_type": "code",
   "execution_count": 8,
   "metadata": {
    "collapsed": false
   },
   "outputs": [
    {
     "ename": "LoadError",
     "evalue": "LoadError: UndefVarError: paving not defined\nwhile loading In[8], in expression starting on line 1",
     "output_type": "error",
     "traceback": [
      "LoadError: UndefVarError: paving not defined\nwhile loading In[8], in expression starting on line 1",
      ""
     ]
    }
   ],
   "source": [
    "inner = paving.inner\n",
    "boundary = paving.boundary;"
   ]
  },
  {
   "cell_type": "code",
   "execution_count": 9,
   "metadata": {
    "collapsed": false
   },
   "outputs": [],
   "source": [
    "using GLVisualize, GeometryTypes, GLAbstraction, Colors"
   ]
  },
  {
   "cell_type": "code",
   "execution_count": 6,
   "metadata": {
    "collapsed": false
   },
   "outputs": [
    {
     "ename": "LoadError",
     "evalue": "LoadError: UndefVarError: inner not defined\nwhile loading In[6], in expression starting on line 1",
     "output_type": "error",
     "traceback": [
      "LoadError: UndefVarError: inner not defined\nwhile loading In[6], in expression starting on line 1",
      "",
      " in anonymous at no file"
     ]
    }
   ],
   "source": [
    "positions = Point3{Float32}[Point3(mid(x)) for x in vcat(inner, boundary)]\n",
    "scales = Vec3f0[Vec3f0([diam(x) for x in xx]) for xx in vcat(inner, boundary)]\n",
    "\n",
    "zs = Float32[x[3] for x in positions]\n",
    "minz = minimum(zs)\n",
    "maxz = maximum(zs)\n",
    "\n",
    "xs = Float32[x[1] for x in positions]\n",
    "minx = minimum(xs)\n",
    "maxx = maximum(xs)\n",
    "\n",
    "colors1 = RGBA{Float32}[RGBA( (zs[i]-minz)/(maxz-minz), (xs[i]-minx)/(maxx-minx), 0f0, 0.1f0)\n",
    "        for i in 1:length(inner)]\n",
    "colors2 = RGBA{Float32}[RGBA( 0.5f0, 0.5f0, 0.5f0, 0.02f0) for x in boundary];\n",
    "colors = vcat(colors1, colors2);"
   ]
  },
  {
   "cell_type": "code",
   "execution_count": 7,
   "metadata": {
    "collapsed": false,
    "scrolled": true
   },
   "outputs": [
    {
     "name": "stdout",
     "output_type": "stream",
     "text": [
      "Visualization packages loaded.\n"
     ]
    },
    {
     "name": "stderr",
     "output_type": "stream",
     "text": [
      "WARNING: Base.String is deprecated, use AbstractString instead.\n",
      "  likely near In[7]:6\n",
      "WARNING: Base.String is deprecated, use AbstractString instead.\n",
      "  likely near In[7]:6\n",
      "WARNING: Base.String is deprecated, use AbstractString instead.\n",
      "  likely near In[7]:6\n",
      "WARNING: Base.String is deprecated, use AbstractString instead.\n",
      "  likely near In[7]:6\n",
      "WARNING: Base.String is deprecated, use AbstractString instead.\n",
      "  likely near In[7]:6\n",
      "WARNING: Base.String is deprecated, use AbstractString instead.\n",
      "  likely near In[7]:6\n",
      "WARNING: Base.String is deprecated, use AbstractString instead.\n",
      "  likely near In[7]:6\n",
      "WARNING: Base.String is deprecated, use AbstractString instead.\n",
      "  likely near In[7]:6\n"
     ]
    },
    {
     "ename": "LoadError",
     "evalue": "LoadError: UndefVarError: scales not defined\nwhile loading In[7], in expression starting on line 8",
     "output_type": "error",
     "traceback": [
      "LoadError: UndefVarError: scales not defined\nwhile loading In[7], in expression starting on line 8",
      ""
     ]
    }
   ],
   "source": [
    "using GLVisualize, GeometryTypes, GLAbstraction, Colors\n",
    "println(\"Visualization packages loaded.\")\n",
    "\n",
    "cube_particle = HyperRectangle{3, Float32}(Vec3f0(-0.5, -0.5, -0.5), Vec3f0(1, 1, 1))\n",
    "\n",
    "window = glscreen()\n",
    "\n",
    "vis = visualize( (cube_particle, positions), scale=scales, color=colors)\n",
    "\n",
    "_view(vis)\n",
    "\n",
    "\n",
    "renderloop(window)"
   ]
  },
  {
   "cell_type": "code",
   "execution_count": null,
   "metadata": {
    "collapsed": true
   },
   "outputs": [],
   "source": []
  }
 ],
 "metadata": {
  "kernelspec": {
   "display_name": "Julia 0.4.6",
   "language": "julia",
   "name": "julia-0.4"
  },
  "language_info": {
   "file_extension": ".jl",
   "mimetype": "application/julia",
   "name": "julia",
   "version": "0.4.6"
  }
 },
 "nbformat": 4,
 "nbformat_minor": 0
}
